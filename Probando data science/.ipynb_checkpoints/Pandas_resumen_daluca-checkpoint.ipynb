{
 "cells": [
  {
   "cell_type": "code",
   "execution_count": 1,
   "id": "76ac602a",
   "metadata": {},
   "outputs": [],
   "source": [
    "#!pip install pandas"
   ]
  },
  {
   "cell_type": "code",
   "execution_count": 1,
   "id": "61a2b3d0",
   "metadata": {},
   "outputs": [],
   "source": [
    "import pandas as pd #importando la librería pandas renombrandola como pd"
   ]
  },
  {
   "cell_type": "markdown",
   "id": "ce112ed4",
   "metadata": {},
   "source": [
    "Dato: data set es el excel ----- data frame es el excel procesado acá para manejarlo como quiera"
   ]
  },
  {
   "cell_type": "code",
   "execution_count": null,
   "id": "40110369",
   "metadata": {},
   "outputs": [],
   "source": [
    "# ejemplo importar dataset y crear un dataframe\n",
    "# df_vacunacion = pd.read_csv(\"covid.csv\") # nombre_df = pd.read_csv(\"ruta del archivo csv\")"
   ]
  },
  {
   "cell_type": "code",
   "execution_count": 26,
   "id": "2845751e",
   "metadata": {},
   "outputs": [
    {
     "data": {
      "text/html": [
       "<div>\n",
       "<style scoped>\n",
       "    .dataframe tbody tr th:only-of-type {\n",
       "        vertical-align: middle;\n",
       "    }\n",
       "\n",
       "    .dataframe tbody tr th {\n",
       "        vertical-align: top;\n",
       "    }\n",
       "\n",
       "    .dataframe thead th {\n",
       "        text-align: right;\n",
       "    }\n",
       "</style>\n",
       "<table border=\"1\" class=\"dataframe\">\n",
       "  <thead>\n",
       "    <tr style=\"text-align: right;\">\n",
       "      <th></th>\n",
       "      <th>Jugador</th>\n",
       "      <th>Altura</th>\n",
       "      <th>Puntaje</th>\n",
       "    </tr>\n",
       "  </thead>\n",
       "  <tbody>\n",
       "    <tr>\n",
       "      <th>0</th>\n",
       "      <td>Lucas Castronuovo</td>\n",
       "      <td>167</td>\n",
       "      <td>90</td>\n",
       "    </tr>\n",
       "    <tr>\n",
       "      <th>1</th>\n",
       "      <td>Alan Varela</td>\n",
       "      <td>175</td>\n",
       "      <td>82</td>\n",
       "    </tr>\n",
       "    <tr>\n",
       "      <th>2</th>\n",
       "      <td>Kylian Mbappé</td>\n",
       "      <td>178</td>\n",
       "      <td>95</td>\n",
       "    </tr>\n",
       "  </tbody>\n",
       "</table>\n",
       "</div>"
      ],
      "text/plain": [
       "             Jugador  Altura  Puntaje\n",
       "0  Lucas Castronuovo     167       90\n",
       "1        Alan Varela     175       82\n",
       "2      Kylian Mbappé     178       95"
      ]
     },
     "execution_count": 26,
     "metadata": {},
     "output_type": "execute_result"
    }
   ],
   "source": [
    "#creo el dataframe          \n",
    "df_teamPSG = pd.DataFrame({\"Jugador\": [\"Lucas Castronuovo\", \"Alan Varela\", \"Kylian Mbappé\" ], \"Altura\": [167, 175, 178 ],\"Puntaje\": [90, 82, 95] })\n",
    "df_teamPSG #imprimo el dataframe\n",
    "\n",
    "#registro = fila\n",
    "#Para trabajar con filas y columnas usar corchetes\n",
    "#Para trabajar con funciones es con paréntesis\n"
   ]
  },
  {
   "cell_type": "code",
   "execution_count": 11,
   "id": "96092593",
   "metadata": {},
   "outputs": [
    {
     "data": {
      "text/plain": [
       "Jugador    object\n",
       "Altura      int64\n",
       "Puntaje     int64\n",
       "dtype: object"
      ]
     },
     "execution_count": 11,
     "metadata": {},
     "output_type": "execute_result"
    }
   ],
   "source": [
    "#tipos de datos del dataframe\n",
    "df_teamPSG.dtypes #object = string"
   ]
  },
  {
   "cell_type": "code",
   "execution_count": 12,
   "id": "d252452f",
   "metadata": {},
   "outputs": [
    {
     "data": {
      "text/plain": [
       "pandas.core.frame.DataFrame"
      ]
     },
     "execution_count": 12,
     "metadata": {},
     "output_type": "execute_result"
    }
   ],
   "source": [
    "type(df_teamPSG) #obtener el tipo de dato"
   ]
  },
  {
   "cell_type": "markdown",
   "id": "69ef01a2",
   "metadata": {},
   "source": [
    "### MANIPULANDO DATOS"
   ]
  },
  {
   "cell_type": "code",
   "execution_count": 15,
   "id": "dd89c6ea",
   "metadata": {},
   "outputs": [
    {
     "data": {
      "text/plain": [
       "0    90\n",
       "1    82\n",
       "2    95\n",
       "Name: Puntaje, dtype: int64"
      ]
     },
     "execution_count": 15,
     "metadata": {},
     "output_type": "execute_result"
    }
   ],
   "source": [
    "df_teamPSG[\"Puntaje\"] #datos de la columna Puntaje -- Me devuelve un pandas series -- Filtrar por columnas"
   ]
  },
  {
   "cell_type": "markdown",
   "id": "60a6c1a4",
   "metadata": {},
   "source": [
    "#### ILOC Y LOC"
   ]
  },
  {
   "cell_type": "code",
   "execution_count": 18,
   "id": "c59ea996",
   "metadata": {},
   "outputs": [
    {
     "data": {
      "text/plain": [
       "'Lucas Castronuovo'"
      ]
     },
     "execution_count": 18,
     "metadata": {},
     "output_type": "execute_result"
    }
   ],
   "source": [
    "#iloc -> df.iloc[indice de fila , indice de columna] Filta el valor deseado por indice de fila e indice de columna\n",
    "df_teamPSG.iloc[0,0]"
   ]
  },
  {
   "cell_type": "code",
   "execution_count": 19,
   "id": "94af5663",
   "metadata": {},
   "outputs": [
    {
     "data": {
      "text/plain": [
       "0    Lucas Castronuovo\n",
       "1          Alan Varela\n",
       "2        Kylian Mbappé\n",
       "Name: Jugador, dtype: object"
      ]
     },
     "execution_count": 19,
     "metadata": {},
     "output_type": "execute_result"
    }
   ],
   "source": [
    "df_teamPSG.iloc[:,0] #Trae los nombres de los jugadores"
   ]
  },
  {
   "cell_type": "code",
   "execution_count": 20,
   "id": "787fdac2",
   "metadata": {},
   "outputs": [
    {
     "data": {
      "text/plain": [
       "Jugador    Lucas Castronuovo\n",
       "Altura                   167\n",
       "Puntaje                   90\n",
       "Name: 0, dtype: object"
      ]
     },
     "execution_count": 20,
     "metadata": {},
     "output_type": "execute_result"
    }
   ],
   "source": [
    "df_teamPSG.iloc[0,:] #Trae los datos de Lucas"
   ]
  },
  {
   "cell_type": "code",
   "execution_count": 21,
   "id": "c79c804f",
   "metadata": {},
   "outputs": [
    {
     "data": {
      "text/plain": [
       "0    Lucas Castronuovo\n",
       "1          Alan Varela\n",
       "Name: Jugador, dtype: object"
      ]
     },
     "execution_count": 21,
     "metadata": {},
     "output_type": "execute_result"
    }
   ],
   "source": [
    "df_teamPSG.iloc[:2,0] #Trae los valores deseados hasta el número indicado despues del : SIN INCLUIR"
   ]
  },
  {
   "cell_type": "code",
   "execution_count": 23,
   "id": "d15f3228",
   "metadata": {},
   "outputs": [
    {
     "data": {
      "text/plain": [
       "167"
      ]
     },
     "execution_count": 23,
     "metadata": {},
     "output_type": "execute_result"
    }
   ],
   "source": [
    "# loc -> df.loc[indice de la fila , nombre de la columna]\n",
    "df_teamPSG.loc[0, \"Altura\"] #Traigo la Altura de Lucas"
   ]
  },
  {
   "cell_type": "code",
   "execution_count": 26,
   "id": "6cd218a9",
   "metadata": {},
   "outputs": [
    {
     "data": {
      "text/plain": [
       "Jugador    Lucas Castronuovo\n",
       "Altura                   167\n",
       "Puntaje                   90\n",
       "Name: 0, dtype: object"
      ]
     },
     "execution_count": 26,
     "metadata": {},
     "output_type": "execute_result"
    }
   ],
   "source": [
    "df_teamPSG.loc[0] #Traigo todos los datos de Lucas"
   ]
  },
  {
   "cell_type": "code",
   "execution_count": 29,
   "id": "16a271c3",
   "metadata": {},
   "outputs": [
    {
     "data": {
      "text/plain": [
       "Index(['Jugador', 'Altura', 'Puntaje'], dtype='object')"
      ]
     },
     "execution_count": 29,
     "metadata": {},
     "output_type": "execute_result"
    }
   ],
   "source": [
    "df_teamPSG.columns #Lista con los nombres de las columnas"
   ]
  },
  {
   "cell_type": "code",
   "execution_count": 31,
   "id": "9dad3cd7",
   "metadata": {},
   "outputs": [
    {
     "data": {
      "text/plain": [
       "'Jugador'"
      ]
     },
     "execution_count": 31,
     "metadata": {},
     "output_type": "execute_result"
    }
   ],
   "source": [
    "df_teamPSG.columns[0] #Lista que trae el nombre de la columna que corresponde al indice indicado"
   ]
  },
  {
   "cell_type": "code",
   "execution_count": 32,
   "id": "ac92476c",
   "metadata": {},
   "outputs": [
    {
     "data": {
      "text/plain": [
       "RangeIndex(start=0, stop=3, step=1)"
      ]
     },
     "execution_count": 32,
     "metadata": {},
     "output_type": "execute_result"
    }
   ],
   "source": [
    "df_teamPSG.index #Indica desde que número inicia los registros, hasta donde terminan y como se van pasando de uno al otro"
   ]
  },
  {
   "cell_type": "markdown",
   "id": "3eb0a0ca",
   "metadata": {},
   "source": [
    "### OTRAS FORMAS DE FILTRAR"
   ]
  },
  {
   "cell_type": "markdown",
   "id": "daa4317b",
   "metadata": {},
   "source": [
    "#### CAMBIAR LA ALTURA DE UN JUGADOR"
   ]
  },
  {
   "cell_type": "code",
   "execution_count": 33,
   "id": "b934538b",
   "metadata": {},
   "outputs": [
    {
     "data": {
      "text/plain": [
       "0     True\n",
       "1    False\n",
       "2    False\n",
       "Name: Jugador, dtype: bool"
      ]
     },
     "execution_count": 33,
     "metadata": {},
     "output_type": "execute_result"
    }
   ],
   "source": [
    "posho = df_teamPSG[\"Jugador\"] == \"Lucas Castronuovo\"\n",
    "posho #Recorre el dataframe en los registros de la columna Jugador, indicando los casos en donde se cumple con la condición indicando true y en caso de que no se indica false"
   ]
  },
  {
   "cell_type": "code",
   "execution_count": 35,
   "id": "451ca7f1",
   "metadata": {},
   "outputs": [
    {
     "data": {
      "text/plain": [
       "0    167\n",
       "Name: Altura, dtype: int64"
      ]
     },
     "execution_count": 35,
     "metadata": {},
     "output_type": "execute_result"
    }
   ],
   "source": [
    "df_teamPSG.loc[posho, \"Altura\"] #Trae la altura del registro que es true en la condición de posho"
   ]
  },
  {
   "cell_type": "code",
   "execution_count": 36,
   "id": "3ffdb52a",
   "metadata": {},
   "outputs": [],
   "source": [
    "df_teamPSG.loc[posho, \"Altura\"] = 168 #Crecí un centímetro"
   ]
  },
  {
   "cell_type": "code",
   "execution_count": 39,
   "id": "f5c1987c",
   "metadata": {},
   "outputs": [],
   "source": [
    "df_teamPSG.loc[df_teamPSG[\"Jugador\"] == \"Alan Varela\", \"Altura\"] = 177 #Hice lo mismo pero todo en una línea"
   ]
  },
  {
   "cell_type": "code",
   "execution_count": 38,
   "id": "140a3519",
   "metadata": {},
   "outputs": [
    {
     "data": {
      "text/html": [
       "<div>\n",
       "<style scoped>\n",
       "    .dataframe tbody tr th:only-of-type {\n",
       "        vertical-align: middle;\n",
       "    }\n",
       "\n",
       "    .dataframe tbody tr th {\n",
       "        vertical-align: top;\n",
       "    }\n",
       "\n",
       "    .dataframe thead th {\n",
       "        text-align: right;\n",
       "    }\n",
       "</style>\n",
       "<table border=\"1\" class=\"dataframe\">\n",
       "  <thead>\n",
       "    <tr style=\"text-align: right;\">\n",
       "      <th></th>\n",
       "      <th>Jugador</th>\n",
       "      <th>Altura</th>\n",
       "      <th>Puntaje</th>\n",
       "    </tr>\n",
       "  </thead>\n",
       "  <tbody>\n",
       "    <tr>\n",
       "      <th>0</th>\n",
       "      <td>Lucas Castronuovo</td>\n",
       "      <td>168</td>\n",
       "      <td>90</td>\n",
       "    </tr>\n",
       "    <tr>\n",
       "      <th>1</th>\n",
       "      <td>Alan Varela</td>\n",
       "      <td>177</td>\n",
       "      <td>82</td>\n",
       "    </tr>\n",
       "    <tr>\n",
       "      <th>2</th>\n",
       "      <td>Kylian Mbappé</td>\n",
       "      <td>178</td>\n",
       "      <td>95</td>\n",
       "    </tr>\n",
       "  </tbody>\n",
       "</table>\n",
       "</div>"
      ],
      "text/plain": [
       "             Jugador  Altura  Puntaje\n",
       "0  Lucas Castronuovo     168       90\n",
       "1        Alan Varela     177       82\n",
       "2      Kylian Mbappé     178       95"
      ]
     },
     "execution_count": 38,
     "metadata": {},
     "output_type": "execute_result"
    }
   ],
   "source": [
    "df_teamPSG"
   ]
  },
  {
   "cell_type": "code",
   "execution_count": 40,
   "id": "de2a0b24",
   "metadata": {},
   "outputs": [
    {
     "data": {
      "text/plain": [
       "(3, 3)"
      ]
     },
     "execution_count": 40,
     "metadata": {},
     "output_type": "execute_result"
    }
   ],
   "source": [
    "df_teamPSG.shape #tamaño de las filas y las columnas"
   ]
  },
  {
   "cell_type": "code",
   "execution_count": 43,
   "id": "af7a3292",
   "metadata": {},
   "outputs": [
    {
     "data": {
      "text/html": [
       "<div>\n",
       "<style scoped>\n",
       "    .dataframe tbody tr th:only-of-type {\n",
       "        vertical-align: middle;\n",
       "    }\n",
       "\n",
       "    .dataframe tbody tr th {\n",
       "        vertical-align: top;\n",
       "    }\n",
       "\n",
       "    .dataframe thead th {\n",
       "        text-align: right;\n",
       "    }\n",
       "</style>\n",
       "<table border=\"1\" class=\"dataframe\">\n",
       "  <thead>\n",
       "    <tr style=\"text-align: right;\">\n",
       "      <th></th>\n",
       "      <th>Jugador</th>\n",
       "      <th>Altura</th>\n",
       "      <th>Puntaje</th>\n",
       "    </tr>\n",
       "  </thead>\n",
       "  <tbody>\n",
       "    <tr>\n",
       "      <th>0</th>\n",
       "      <td>Lucas Castronuovo</td>\n",
       "      <td>168</td>\n",
       "      <td>90</td>\n",
       "    </tr>\n",
       "    <tr>\n",
       "      <th>1</th>\n",
       "      <td>Alan Varela</td>\n",
       "      <td>177</td>\n",
       "      <td>82</td>\n",
       "    </tr>\n",
       "  </tbody>\n",
       "</table>\n",
       "</div>"
      ],
      "text/plain": [
       "             Jugador  Altura  Puntaje\n",
       "0  Lucas Castronuovo     168       90\n",
       "1        Alan Varela     177       82"
      ]
     },
     "execution_count": 43,
     "metadata": {},
     "output_type": "execute_result"
    }
   ],
   "source": [
    "df_teamPSG.head(2) #Visualizar los 2 primeros registros"
   ]
  },
  {
   "cell_type": "code",
   "execution_count": 45,
   "id": "ef1a10e4",
   "metadata": {},
   "outputs": [
    {
     "data": {
      "text/html": [
       "<div>\n",
       "<style scoped>\n",
       "    .dataframe tbody tr th:only-of-type {\n",
       "        vertical-align: middle;\n",
       "    }\n",
       "\n",
       "    .dataframe tbody tr th {\n",
       "        vertical-align: top;\n",
       "    }\n",
       "\n",
       "    .dataframe thead th {\n",
       "        text-align: right;\n",
       "    }\n",
       "</style>\n",
       "<table border=\"1\" class=\"dataframe\">\n",
       "  <thead>\n",
       "    <tr style=\"text-align: right;\">\n",
       "      <th></th>\n",
       "      <th>Jugador</th>\n",
       "      <th>Altura</th>\n",
       "      <th>Puntaje</th>\n",
       "    </tr>\n",
       "  </thead>\n",
       "  <tbody>\n",
       "    <tr>\n",
       "      <th>1</th>\n",
       "      <td>Alan Varela</td>\n",
       "      <td>177</td>\n",
       "      <td>82</td>\n",
       "    </tr>\n",
       "    <tr>\n",
       "      <th>2</th>\n",
       "      <td>Kylian Mbappé</td>\n",
       "      <td>178</td>\n",
       "      <td>95</td>\n",
       "    </tr>\n",
       "  </tbody>\n",
       "</table>\n",
       "</div>"
      ],
      "text/plain": [
       "         Jugador  Altura  Puntaje\n",
       "1    Alan Varela     177       82\n",
       "2  Kylian Mbappé     178       95"
      ]
     },
     "execution_count": 45,
     "metadata": {},
     "output_type": "execute_result"
    }
   ],
   "source": [
    "df_teamPSG.tail(2) #Visualizar los 2 últimos registros"
   ]
  },
  {
   "cell_type": "code",
   "execution_count": 46,
   "id": "687c9436",
   "metadata": {},
   "outputs": [],
   "source": [
    "#Eliminar columna\n",
    "\n",
    "#df.drop(columns=\"cod_dosis_generica\",inplace=True) # eliminar columna cod_dosis_generica\n",
    "#df.drop(columns=[\"depto_aplicacion_id\",\"vacuna\"],inplace=True) # eliminar más de 1 columna"
   ]
  },
  {
   "cell_type": "markdown",
   "id": "fab9eadd",
   "metadata": {},
   "source": [
    "### ORDENAR REGISTROS USANDO SORT_VALUES"
   ]
  },
  {
   "cell_type": "code",
   "execution_count": 3,
   "id": "6b9fb276",
   "metadata": {},
   "outputs": [],
   "source": [
    "df_teamPSG.sort_values(\"Puntaje\", ascending = False) \n",
    "cabezon = df_teamPSG.sort_values(\"Puntaje\", ascending = False)\n"
   ]
  },
  {
   "cell_type": "code",
   "execution_count": 4,
   "id": "2b6d597a",
   "metadata": {},
   "outputs": [
    {
     "data": {
      "text/html": [
       "<div>\n",
       "<style scoped>\n",
       "    .dataframe tbody tr th:only-of-type {\n",
       "        vertical-align: middle;\n",
       "    }\n",
       "\n",
       "    .dataframe tbody tr th {\n",
       "        vertical-align: top;\n",
       "    }\n",
       "\n",
       "    .dataframe thead th {\n",
       "        text-align: right;\n",
       "    }\n",
       "</style>\n",
       "<table border=\"1\" class=\"dataframe\">\n",
       "  <thead>\n",
       "    <tr style=\"text-align: right;\">\n",
       "      <th></th>\n",
       "      <th>Jugador</th>\n",
       "      <th>Altura</th>\n",
       "      <th>Puntaje</th>\n",
       "    </tr>\n",
       "  </thead>\n",
       "  <tbody>\n",
       "    <tr>\n",
       "      <th>0</th>\n",
       "      <td>Lucas Castronuovo</td>\n",
       "      <td>167</td>\n",
       "      <td>90</td>\n",
       "    </tr>\n",
       "    <tr>\n",
       "      <th>1</th>\n",
       "      <td>Alan Varela</td>\n",
       "      <td>175</td>\n",
       "      <td>82</td>\n",
       "    </tr>\n",
       "    <tr>\n",
       "      <th>2</th>\n",
       "      <td>Kylian Mbappé</td>\n",
       "      <td>178</td>\n",
       "      <td>95</td>\n",
       "    </tr>\n",
       "  </tbody>\n",
       "</table>\n",
       "</div>"
      ],
      "text/plain": [
       "             Jugador  Altura  Puntaje\n",
       "0  Lucas Castronuovo     167       90\n",
       "1        Alan Varela     175       82\n",
       "2      Kylian Mbappé     178       95"
      ]
     },
     "execution_count": 4,
     "metadata": {},
     "output_type": "execute_result"
    }
   ],
   "source": [
    "df_teamPSG"
   ]
  },
  {
   "cell_type": "code",
   "execution_count": 5,
   "id": "ae784dc5",
   "metadata": {},
   "outputs": [
    {
     "data": {
      "text/html": [
       "<div>\n",
       "<style scoped>\n",
       "    .dataframe tbody tr th:only-of-type {\n",
       "        vertical-align: middle;\n",
       "    }\n",
       "\n",
       "    .dataframe tbody tr th {\n",
       "        vertical-align: top;\n",
       "    }\n",
       "\n",
       "    .dataframe thead th {\n",
       "        text-align: right;\n",
       "    }\n",
       "</style>\n",
       "<table border=\"1\" class=\"dataframe\">\n",
       "  <thead>\n",
       "    <tr style=\"text-align: right;\">\n",
       "      <th></th>\n",
       "      <th>Jugador</th>\n",
       "      <th>Altura</th>\n",
       "      <th>Puntaje</th>\n",
       "    </tr>\n",
       "  </thead>\n",
       "  <tbody>\n",
       "    <tr>\n",
       "      <th>2</th>\n",
       "      <td>Kylian Mbappé</td>\n",
       "      <td>178</td>\n",
       "      <td>95</td>\n",
       "    </tr>\n",
       "    <tr>\n",
       "      <th>0</th>\n",
       "      <td>Lucas Castronuovo</td>\n",
       "      <td>167</td>\n",
       "      <td>90</td>\n",
       "    </tr>\n",
       "    <tr>\n",
       "      <th>1</th>\n",
       "      <td>Alan Varela</td>\n",
       "      <td>175</td>\n",
       "      <td>82</td>\n",
       "    </tr>\n",
       "  </tbody>\n",
       "</table>\n",
       "</div>"
      ],
      "text/plain": [
       "             Jugador  Altura  Puntaje\n",
       "2      Kylian Mbappé     178       95\n",
       "0  Lucas Castronuovo     167       90\n",
       "1        Alan Varela     175       82"
      ]
     },
     "execution_count": 5,
     "metadata": {},
     "output_type": "execute_result"
    }
   ],
   "source": [
    "cabezon"
   ]
  },
  {
   "cell_type": "markdown",
   "id": "f443379f",
   "metadata": {},
   "source": [
    "### CREAR EN UN DATAFRAME EXISTENTE"
   ]
  },
  {
   "cell_type": "code",
   "execution_count": 27,
   "id": "1e926eaa",
   "metadata": {},
   "outputs": [],
   "source": [
    "df_teamPSG[\"Equipo\"] = \"PSG\" #Crear una columna constante"
   ]
  },
  {
   "cell_type": "code",
   "execution_count": 28,
   "id": "d16f0303",
   "metadata": {},
   "outputs": [
    {
     "data": {
      "text/html": [
       "<div>\n",
       "<style scoped>\n",
       "    .dataframe tbody tr th:only-of-type {\n",
       "        vertical-align: middle;\n",
       "    }\n",
       "\n",
       "    .dataframe tbody tr th {\n",
       "        vertical-align: top;\n",
       "    }\n",
       "\n",
       "    .dataframe thead th {\n",
       "        text-align: right;\n",
       "    }\n",
       "</style>\n",
       "<table border=\"1\" class=\"dataframe\">\n",
       "  <thead>\n",
       "    <tr style=\"text-align: right;\">\n",
       "      <th></th>\n",
       "      <th>Jugador</th>\n",
       "      <th>Altura</th>\n",
       "      <th>Puntaje</th>\n",
       "      <th>Equipo</th>\n",
       "    </tr>\n",
       "  </thead>\n",
       "  <tbody>\n",
       "    <tr>\n",
       "      <th>0</th>\n",
       "      <td>Lucas Castronuovo</td>\n",
       "      <td>167</td>\n",
       "      <td>90</td>\n",
       "      <td>PSG</td>\n",
       "    </tr>\n",
       "    <tr>\n",
       "      <th>1</th>\n",
       "      <td>Alan Varela</td>\n",
       "      <td>175</td>\n",
       "      <td>82</td>\n",
       "      <td>PSG</td>\n",
       "    </tr>\n",
       "    <tr>\n",
       "      <th>2</th>\n",
       "      <td>Kylian Mbappé</td>\n",
       "      <td>178</td>\n",
       "      <td>95</td>\n",
       "      <td>PSG</td>\n",
       "    </tr>\n",
       "  </tbody>\n",
       "</table>\n",
       "</div>"
      ],
      "text/plain": [
       "             Jugador  Altura  Puntaje Equipo\n",
       "0  Lucas Castronuovo     167       90    PSG\n",
       "1        Alan Varela     175       82    PSG\n",
       "2      Kylian Mbappé     178       95    PSG"
      ]
     },
     "execution_count": 28,
     "metadata": {},
     "output_type": "execute_result"
    }
   ],
   "source": [
    "df_teamPSG"
   ]
  },
  {
   "cell_type": "code",
   "execution_count": 29,
   "id": "6209470f",
   "metadata": {},
   "outputs": [],
   "source": [
    "df_teamPSG[\"Altura en metros\"] = df_teamPSG[\"Altura\"]/100"
   ]
  },
  {
   "cell_type": "code",
   "execution_count": 30,
   "id": "e570267c",
   "metadata": {},
   "outputs": [
    {
     "data": {
      "text/html": [
       "<div>\n",
       "<style scoped>\n",
       "    .dataframe tbody tr th:only-of-type {\n",
       "        vertical-align: middle;\n",
       "    }\n",
       "\n",
       "    .dataframe tbody tr th {\n",
       "        vertical-align: top;\n",
       "    }\n",
       "\n",
       "    .dataframe thead th {\n",
       "        text-align: right;\n",
       "    }\n",
       "</style>\n",
       "<table border=\"1\" class=\"dataframe\">\n",
       "  <thead>\n",
       "    <tr style=\"text-align: right;\">\n",
       "      <th></th>\n",
       "      <th>Jugador</th>\n",
       "      <th>Altura</th>\n",
       "      <th>Puntaje</th>\n",
       "      <th>Equipo</th>\n",
       "      <th>Altura en metros</th>\n",
       "    </tr>\n",
       "  </thead>\n",
       "  <tbody>\n",
       "    <tr>\n",
       "      <th>0</th>\n",
       "      <td>Lucas Castronuovo</td>\n",
       "      <td>167</td>\n",
       "      <td>90</td>\n",
       "      <td>PSG</td>\n",
       "      <td>1.67</td>\n",
       "    </tr>\n",
       "    <tr>\n",
       "      <th>1</th>\n",
       "      <td>Alan Varela</td>\n",
       "      <td>175</td>\n",
       "      <td>82</td>\n",
       "      <td>PSG</td>\n",
       "      <td>1.75</td>\n",
       "    </tr>\n",
       "    <tr>\n",
       "      <th>2</th>\n",
       "      <td>Kylian Mbappé</td>\n",
       "      <td>178</td>\n",
       "      <td>95</td>\n",
       "      <td>PSG</td>\n",
       "      <td>1.78</td>\n",
       "    </tr>\n",
       "  </tbody>\n",
       "</table>\n",
       "</div>"
      ],
      "text/plain": [
       "             Jugador  Altura  Puntaje Equipo  Altura en metros\n",
       "0  Lucas Castronuovo     167       90    PSG              1.67\n",
       "1        Alan Varela     175       82    PSG              1.75\n",
       "2      Kylian Mbappé     178       95    PSG              1.78"
      ]
     },
     "execution_count": 30,
     "metadata": {},
     "output_type": "execute_result"
    }
   ],
   "source": [
    "df_teamPSG"
   ]
  },
  {
   "cell_type": "code",
   "execution_count": 14,
   "id": "a774cf97",
   "metadata": {},
   "outputs": [
    {
     "data": {
      "text/plain": [
       "Jugador              object\n",
       "Altura                int64\n",
       "Puntaje               int64\n",
       "Equipo               object\n",
       "Altura en metros    float64\n",
       "dtype: object"
      ]
     },
     "execution_count": 14,
     "metadata": {},
     "output_type": "execute_result"
    }
   ],
   "source": [
    "df_teamPSG.dtypes"
   ]
  },
  {
   "cell_type": "markdown",
   "id": "2a44c89d",
   "metadata": {},
   "source": [
    "### HACER PANDAS QUERYS"
   ]
  },
  {
   "cell_type": "code",
   "execution_count": 15,
   "id": "ada8ba5b",
   "metadata": {},
   "outputs": [
    {
     "data": {
      "text/html": [
       "<div>\n",
       "<style scoped>\n",
       "    .dataframe tbody tr th:only-of-type {\n",
       "        vertical-align: middle;\n",
       "    }\n",
       "\n",
       "    .dataframe tbody tr th {\n",
       "        vertical-align: top;\n",
       "    }\n",
       "\n",
       "    .dataframe thead th {\n",
       "        text-align: right;\n",
       "    }\n",
       "</style>\n",
       "<table border=\"1\" class=\"dataframe\">\n",
       "  <thead>\n",
       "    <tr style=\"text-align: right;\">\n",
       "      <th></th>\n",
       "      <th>Jugador</th>\n",
       "      <th>Altura</th>\n",
       "      <th>Puntaje</th>\n",
       "      <th>Equipo</th>\n",
       "      <th>Altura en metros</th>\n",
       "    </tr>\n",
       "  </thead>\n",
       "  <tbody>\n",
       "    <tr>\n",
       "      <th>0</th>\n",
       "      <td>Lucas Castronuovo</td>\n",
       "      <td>167</td>\n",
       "      <td>90</td>\n",
       "      <td>PSG</td>\n",
       "      <td>1.67</td>\n",
       "    </tr>\n",
       "    <tr>\n",
       "      <th>2</th>\n",
       "      <td>Kylian Mbappé</td>\n",
       "      <td>178</td>\n",
       "      <td>95</td>\n",
       "      <td>PSG</td>\n",
       "      <td>1.78</td>\n",
       "    </tr>\n",
       "  </tbody>\n",
       "</table>\n",
       "</div>"
      ],
      "text/plain": [
       "             Jugador  Altura  Puntaje Equipo  Altura en metros\n",
       "0  Lucas Castronuovo     167       90    PSG              1.67\n",
       "2      Kylian Mbappé     178       95    PSG              1.78"
      ]
     },
     "execution_count": 15,
     "metadata": {},
     "output_type": "execute_result"
    }
   ],
   "source": [
    "df_teamPSG.query(\"Puntaje >= 90 and Equipo == 'PSG'\")"
   ]
  },
  {
   "cell_type": "code",
   "execution_count": 17,
   "id": "e34b6968",
   "metadata": {},
   "outputs": [
    {
     "data": {
      "text/html": [
       "<div>\n",
       "<style scoped>\n",
       "    .dataframe tbody tr th:only-of-type {\n",
       "        vertical-align: middle;\n",
       "    }\n",
       "\n",
       "    .dataframe tbody tr th {\n",
       "        vertical-align: top;\n",
       "    }\n",
       "\n",
       "    .dataframe thead th {\n",
       "        text-align: right;\n",
       "    }\n",
       "</style>\n",
       "<table border=\"1\" class=\"dataframe\">\n",
       "  <thead>\n",
       "    <tr style=\"text-align: right;\">\n",
       "      <th></th>\n",
       "      <th>Jugador</th>\n",
       "      <th>Altura</th>\n",
       "      <th>Puntaje</th>\n",
       "      <th>Altura en metros</th>\n",
       "    </tr>\n",
       "    <tr>\n",
       "      <th>Equipo</th>\n",
       "      <th></th>\n",
       "      <th></th>\n",
       "      <th></th>\n",
       "      <th></th>\n",
       "    </tr>\n",
       "  </thead>\n",
       "  <tbody>\n",
       "    <tr>\n",
       "      <th>PSG</th>\n",
       "      <td>3</td>\n",
       "      <td>3</td>\n",
       "      <td>3</td>\n",
       "      <td>3</td>\n",
       "    </tr>\n",
       "  </tbody>\n",
       "</table>\n",
       "</div>"
      ],
      "text/plain": [
       "        Jugador  Altura  Puntaje  Altura en metros\n",
       "Equipo                                            \n",
       "PSG           3       3        3                 3"
      ]
     },
     "execution_count": 17,
     "metadata": {},
     "output_type": "execute_result"
    }
   ],
   "source": [
    "df_teamPSG.groupby(\"Equipo\").count()"
   ]
  },
  {
   "cell_type": "code",
   "execution_count": 18,
   "id": "c2f9f789",
   "metadata": {},
   "outputs": [
    {
     "data": {
      "text/plain": [
       "3"
      ]
     },
     "execution_count": 18,
     "metadata": {},
     "output_type": "execute_result"
    }
   ],
   "source": [
    "df_teamPSG.nunique()[\"Jugador\"]"
   ]
  },
  {
   "cell_type": "code",
   "execution_count": 32,
   "id": "8b70343a",
   "metadata": {},
   "outputs": [
    {
     "data": {
      "text/plain": [
       "Lucas Castronuovo    1\n",
       "Alan Varela          1\n",
       "Kylian Mbappé        1\n",
       "Name: Jugador, dtype: int64"
      ]
     },
     "execution_count": 32,
     "metadata": {},
     "output_type": "execute_result"
    }
   ],
   "source": [
    "\n",
    "daluca = df_teamPSG[\"Jugador\"].value_counts()\n",
    "daluca"
   ]
  },
  {
   "cell_type": "code",
   "execution_count": null,
   "id": "47345d3a",
   "metadata": {},
   "outputs": [],
   "source": []
  },
  {
   "cell_type": "code",
   "execution_count": null,
   "id": "a700d790",
   "metadata": {},
   "outputs": [],
   "source": []
  }
 ],
 "metadata": {
  "kernelspec": {
   "display_name": "Python 3 (ipykernel)",
   "language": "python",
   "name": "python3"
  },
  "language_info": {
   "codemirror_mode": {
    "name": "ipython",
    "version": 3
   },
   "file_extension": ".py",
   "mimetype": "text/x-python",
   "name": "python",
   "nbconvert_exporter": "python",
   "pygments_lexer": "ipython3",
   "version": "3.9.7"
  }
 },
 "nbformat": 4,
 "nbformat_minor": 5
}
