{
 "cells": [
  {
   "cell_type": "markdown",
   "metadata": {},
   "source": [
    "# Estadistica"
   ]
  },
  {
   "cell_type": "markdown",
   "metadata": {},
   "source": [
    "#  Dataset de Cálidad de Vino"
   ]
  },
  {
   "cell_type": "markdown",
   "metadata": {},
   "source": [
    "# Importación de las librerías a utilizar"
   ]
  },
  {
   "cell_type": "code",
   "execution_count": 5,
   "metadata": {},
   "outputs": [],
   "source": [
    "# Libreria de manejo de datos\n",
    "import pandas as pd\n",
    "\n",
    "# Librerias de visualizaciñon\n",
    "import matplotlib.pyplot as plt\n",
    "import seaborn as sns\n",
    "\n",
    "#Librería Númerico\n",
    "import numpy as np\n",
    "\n",
    "\n",
    "%matplotlib inline"
   ]
  },
  {
   "cell_type": "markdown",
   "metadata": {},
   "source": [
    "# Carga y union de datasets\n",
    "#### Los datos de los vinos provienen de dos archivos distintos (del tipo csv) que serán unidos en un dataframe \"wines\""
   ]
  },
  {
   "cell_type": "code",
   "execution_count": 8,
   "metadata": {},
   "outputs": [],
   "source": [
    "# Shift + Tab para ver el Docstring de los métodos "
   ]
  },
  {
   "cell_type": "code",
   "execution_count": 6,
   "metadata": {},
   "outputs": [],
   "source": [
    "white_wine = pd.read_csv('winequality-white.csv', sep=';')"
   ]
  },
  {
   "cell_type": "code",
   "execution_count": 10,
   "metadata": {},
   "outputs": [
    {
     "data": {
      "text/plain": [
       "(4898, 12)"
      ]
     },
     "execution_count": 10,
     "metadata": {},
     "output_type": "execute_result"
    }
   ],
   "source": [
    "# Ver las dimensiones del dataset\n",
    "white_wine.shape"
   ]
  },
  {
   "cell_type": "code",
   "execution_count": 11,
   "metadata": {},
   "outputs": [
    {
     "data": {
      "text/html": [
       "<div>\n",
       "<style scoped>\n",
       "    .dataframe tbody tr th:only-of-type {\n",
       "        vertical-align: middle;\n",
       "    }\n",
       "\n",
       "    .dataframe tbody tr th {\n",
       "        vertical-align: top;\n",
       "    }\n",
       "\n",
       "    .dataframe thead th {\n",
       "        text-align: right;\n",
       "    }\n",
       "</style>\n",
       "<table border=\"1\" class=\"dataframe\">\n",
       "  <thead>\n",
       "    <tr style=\"text-align: right;\">\n",
       "      <th></th>\n",
       "      <th>fixed acidity</th>\n",
       "      <th>volatile acidity</th>\n",
       "      <th>citric acid</th>\n",
       "      <th>residual sugar</th>\n",
       "      <th>chlorides</th>\n",
       "      <th>free sulfur dioxide</th>\n",
       "      <th>total sulfur dioxide</th>\n",
       "      <th>density</th>\n",
       "      <th>pH</th>\n",
       "      <th>sulphates</th>\n",
       "      <th>alcohol</th>\n",
       "      <th>quality</th>\n",
       "    </tr>\n",
       "  </thead>\n",
       "  <tbody>\n",
       "    <tr>\n",
       "      <th>0</th>\n",
       "      <td>7.0</td>\n",
       "      <td>0.27</td>\n",
       "      <td>0.36</td>\n",
       "      <td>20.7</td>\n",
       "      <td>0.045</td>\n",
       "      <td>45.0</td>\n",
       "      <td>170.0</td>\n",
       "      <td>1.0010</td>\n",
       "      <td>3.00</td>\n",
       "      <td>0.45</td>\n",
       "      <td>8.8</td>\n",
       "      <td>6</td>\n",
       "    </tr>\n",
       "    <tr>\n",
       "      <th>1</th>\n",
       "      <td>6.3</td>\n",
       "      <td>0.30</td>\n",
       "      <td>0.34</td>\n",
       "      <td>1.6</td>\n",
       "      <td>0.049</td>\n",
       "      <td>14.0</td>\n",
       "      <td>132.0</td>\n",
       "      <td>0.9940</td>\n",
       "      <td>3.30</td>\n",
       "      <td>0.49</td>\n",
       "      <td>9.5</td>\n",
       "      <td>6</td>\n",
       "    </tr>\n",
       "    <tr>\n",
       "      <th>2</th>\n",
       "      <td>8.1</td>\n",
       "      <td>0.28</td>\n",
       "      <td>0.40</td>\n",
       "      <td>6.9</td>\n",
       "      <td>0.050</td>\n",
       "      <td>30.0</td>\n",
       "      <td>97.0</td>\n",
       "      <td>0.9951</td>\n",
       "      <td>3.26</td>\n",
       "      <td>0.44</td>\n",
       "      <td>10.1</td>\n",
       "      <td>6</td>\n",
       "    </tr>\n",
       "    <tr>\n",
       "      <th>3</th>\n",
       "      <td>7.2</td>\n",
       "      <td>0.23</td>\n",
       "      <td>0.32</td>\n",
       "      <td>8.5</td>\n",
       "      <td>0.058</td>\n",
       "      <td>47.0</td>\n",
       "      <td>186.0</td>\n",
       "      <td>0.9956</td>\n",
       "      <td>3.19</td>\n",
       "      <td>0.40</td>\n",
       "      <td>9.9</td>\n",
       "      <td>6</td>\n",
       "    </tr>\n",
       "    <tr>\n",
       "      <th>4</th>\n",
       "      <td>7.2</td>\n",
       "      <td>0.23</td>\n",
       "      <td>0.32</td>\n",
       "      <td>8.5</td>\n",
       "      <td>0.058</td>\n",
       "      <td>47.0</td>\n",
       "      <td>186.0</td>\n",
       "      <td>0.9956</td>\n",
       "      <td>3.19</td>\n",
       "      <td>0.40</td>\n",
       "      <td>9.9</td>\n",
       "      <td>6</td>\n",
       "    </tr>\n",
       "  </tbody>\n",
       "</table>\n",
       "</div>"
      ],
      "text/plain": [
       "   fixed acidity  volatile acidity  citric acid  residual sugar  chlorides  \\\n",
       "0            7.0              0.27         0.36            20.7      0.045   \n",
       "1            6.3              0.30         0.34             1.6      0.049   \n",
       "2            8.1              0.28         0.40             6.9      0.050   \n",
       "3            7.2              0.23         0.32             8.5      0.058   \n",
       "4            7.2              0.23         0.32             8.5      0.058   \n",
       "\n",
       "   free sulfur dioxide  total sulfur dioxide  density    pH  sulphates  \\\n",
       "0                 45.0                 170.0   1.0010  3.00       0.45   \n",
       "1                 14.0                 132.0   0.9940  3.30       0.49   \n",
       "2                 30.0                  97.0   0.9951  3.26       0.44   \n",
       "3                 47.0                 186.0   0.9956  3.19       0.40   \n",
       "4                 47.0                 186.0   0.9956  3.19       0.40   \n",
       "\n",
       "   alcohol  quality  \n",
       "0      8.8        6  \n",
       "1      9.5        6  \n",
       "2     10.1        6  \n",
       "3      9.9        6  \n",
       "4      9.9        6  "
      ]
     },
     "execution_count": 11,
     "metadata": {},
     "output_type": "execute_result"
    }
   ],
   "source": [
    "#Ver los primeros registros\n",
    "white_wine.head()"
   ]
  },
  {
   "cell_type": "code",
   "execution_count": 37,
   "metadata": {},
   "outputs": [],
   "source": [
    "white_wine = pd.read_csv('winequality-white.csv', sep=';')\n",
    "red_wine = pd.read_csv('winequality-red.csv', sep=';')\n",
    "\n",
    "# store wine type as an attribute\n",
    "red_wine['wine_type'] = 'red'   \n",
    "white_wine['wine_type'] = 'white'\n",
    "\n",
    "# bucket wine quality scores into qualitative quality labels\n",
    "red_wine['quality_label'] = red_wine['quality'].apply(lambda value: 'low' \n",
    "                                                          if value <= 5 else 'medium' \n",
    "                                                              if value <= 7 else 'high')\n",
    "red_wine['quality_label'] = pd.Categorical(red_wine['quality_label'], \n",
    "                                           categories=['low', 'medium', 'high'])\n",
    "white_wine['quality_label'] = white_wine['quality'].apply(lambda value: 'low' \n",
    "                                                              if value <= 5 else 'medium' \n",
    "                                                                  if value <= 7 else 'high')\n",
    "white_wine['quality_label'] = pd.Categorical(white_wine['quality_label'], \n",
    "                                             categories=['low', 'medium', 'high'])\n",
    "\n",
    "# merge red and white wine datasets\n",
    "wines = pd.concat([red_wine, white_wine])\n",
    "\n",
    "# re-shuffle records just to randomize data points\n",
    "wines = wines.sample(frac=1, random_state=42).reset_index(drop=True)"
   ]
  },
  {
   "cell_type": "code",
   "execution_count": 14,
   "metadata": {},
   "outputs": [],
   "source": [
    "# Agregar una columna nueva con una constante de 5\n",
    "#wines['miColumna'] = 5"
   ]
  },
  {
   "cell_type": "markdown",
   "metadata": {},
   "source": [
    "# Usando el método head(), podemos ver los primeros registros del dataframe"
   ]
  },
  {
   "cell_type": "code",
   "execution_count": 18,
   "metadata": {},
   "outputs": [
    {
     "data": {
      "text/html": [
       "<div>\n",
       "<style scoped>\n",
       "    .dataframe tbody tr th:only-of-type {\n",
       "        vertical-align: middle;\n",
       "    }\n",
       "\n",
       "    .dataframe tbody tr th {\n",
       "        vertical-align: top;\n",
       "    }\n",
       "\n",
       "    .dataframe thead th {\n",
       "        text-align: right;\n",
       "    }\n",
       "</style>\n",
       "<table border=\"1\" class=\"dataframe\">\n",
       "  <thead>\n",
       "    <tr style=\"text-align: right;\">\n",
       "      <th></th>\n",
       "      <th>fixed acidity</th>\n",
       "      <th>volatile acidity</th>\n",
       "      <th>citric acid</th>\n",
       "      <th>residual sugar</th>\n",
       "      <th>chlorides</th>\n",
       "      <th>free sulfur dioxide</th>\n",
       "      <th>total sulfur dioxide</th>\n",
       "      <th>density</th>\n",
       "      <th>pH</th>\n",
       "      <th>sulphates</th>\n",
       "      <th>alcohol</th>\n",
       "      <th>quality</th>\n",
       "      <th>wine_type</th>\n",
       "      <th>quality_label</th>\n",
       "    </tr>\n",
       "  </thead>\n",
       "  <tbody>\n",
       "    <tr>\n",
       "      <th>0</th>\n",
       "      <td>7.0</td>\n",
       "      <td>0.17</td>\n",
       "      <td>0.74</td>\n",
       "      <td>12.8</td>\n",
       "      <td>0.045</td>\n",
       "      <td>24.0</td>\n",
       "      <td>126.0</td>\n",
       "      <td>0.99420</td>\n",
       "      <td>3.26</td>\n",
       "      <td>0.38</td>\n",
       "      <td>12.2</td>\n",
       "      <td>8</td>\n",
       "      <td>white</td>\n",
       "      <td>high</td>\n",
       "    </tr>\n",
       "    <tr>\n",
       "      <th>1</th>\n",
       "      <td>7.7</td>\n",
       "      <td>0.64</td>\n",
       "      <td>0.21</td>\n",
       "      <td>2.2</td>\n",
       "      <td>0.077</td>\n",
       "      <td>32.0</td>\n",
       "      <td>133.0</td>\n",
       "      <td>0.99560</td>\n",
       "      <td>3.27</td>\n",
       "      <td>0.45</td>\n",
       "      <td>9.9</td>\n",
       "      <td>5</td>\n",
       "      <td>red</td>\n",
       "      <td>low</td>\n",
       "    </tr>\n",
       "    <tr>\n",
       "      <th>2</th>\n",
       "      <td>6.8</td>\n",
       "      <td>0.39</td>\n",
       "      <td>0.34</td>\n",
       "      <td>7.4</td>\n",
       "      <td>0.020</td>\n",
       "      <td>38.0</td>\n",
       "      <td>133.0</td>\n",
       "      <td>0.99212</td>\n",
       "      <td>3.18</td>\n",
       "      <td>0.44</td>\n",
       "      <td>12.0</td>\n",
       "      <td>7</td>\n",
       "      <td>white</td>\n",
       "      <td>medium</td>\n",
       "    </tr>\n",
       "    <tr>\n",
       "      <th>3</th>\n",
       "      <td>6.3</td>\n",
       "      <td>0.28</td>\n",
       "      <td>0.47</td>\n",
       "      <td>11.2</td>\n",
       "      <td>0.040</td>\n",
       "      <td>61.0</td>\n",
       "      <td>183.0</td>\n",
       "      <td>0.99592</td>\n",
       "      <td>3.12</td>\n",
       "      <td>0.51</td>\n",
       "      <td>9.5</td>\n",
       "      <td>6</td>\n",
       "      <td>white</td>\n",
       "      <td>medium</td>\n",
       "    </tr>\n",
       "    <tr>\n",
       "      <th>4</th>\n",
       "      <td>7.4</td>\n",
       "      <td>0.35</td>\n",
       "      <td>0.20</td>\n",
       "      <td>13.9</td>\n",
       "      <td>0.054</td>\n",
       "      <td>63.0</td>\n",
       "      <td>229.0</td>\n",
       "      <td>0.99888</td>\n",
       "      <td>3.11</td>\n",
       "      <td>0.50</td>\n",
       "      <td>8.9</td>\n",
       "      <td>6</td>\n",
       "      <td>white</td>\n",
       "      <td>medium</td>\n",
       "    </tr>\n",
       "  </tbody>\n",
       "</table>\n",
       "</div>"
      ],
      "text/plain": [
       "   fixed acidity  volatile acidity  citric acid  residual sugar  chlorides  \\\n",
       "0            7.0              0.17         0.74            12.8      0.045   \n",
       "1            7.7              0.64         0.21             2.2      0.077   \n",
       "2            6.8              0.39         0.34             7.4      0.020   \n",
       "3            6.3              0.28         0.47            11.2      0.040   \n",
       "4            7.4              0.35         0.20            13.9      0.054   \n",
       "\n",
       "   free sulfur dioxide  total sulfur dioxide  density    pH  sulphates  \\\n",
       "0                 24.0                 126.0  0.99420  3.26       0.38   \n",
       "1                 32.0                 133.0  0.99560  3.27       0.45   \n",
       "2                 38.0                 133.0  0.99212  3.18       0.44   \n",
       "3                 61.0                 183.0  0.99592  3.12       0.51   \n",
       "4                 63.0                 229.0  0.99888  3.11       0.50   \n",
       "\n",
       "   alcohol  quality wine_type quality_label  \n",
       "0     12.2        8     white          high  \n",
       "1      9.9        5       red           low  \n",
       "2     12.0        7     white        medium  \n",
       "3      9.5        6     white        medium  \n",
       "4      8.9        6     white        medium  "
      ]
     },
     "execution_count": 18,
     "metadata": {},
     "output_type": "execute_result"
    }
   ],
   "source": [
    "wines.head()"
   ]
  },
  {
   "cell_type": "markdown",
   "metadata": {},
   "source": [
    "### Entendimiento del Negocio/Problema\n",
    "\n",
    "El vino es una bebida alcohólica hecha a partir de uvas que se fermenta sin la adición de azúcares, ácidos, enzimas, agua, u otros nutrientes.\n",
    "\n",
    "El vino tinto se elabora con uvas rojas y negras oscuras. El color varía normalmente de varios tonos de rojo, azul y violeta. Esto se produce con uvas enteras incluyendo la piel, que se suma al color y sabor de vino tinto.\n",
    "\n",
    "\n",
    "El vino blanco se elabora con uvas blancas sin piel o semillas. El color es generalmente de color amarillo pajizo, amarillo-verde o amarillo-oro. La mayoría de los vinos blancos tienen un sabor ligero y afrutado, en comparación con los vinos tintos\n",
    "\n",
    "### Entendimiento de las propiedades de los vinos (nuestras variables) \n",
    "\n",
    "\n",
    "- **fixed acidity (Ácidos Fijos):** Los ácidos son una de las propiedades fundamentales de vino y contribuyen en gran medida al sabor del vino. Significativamente reducir el ácido podría conducir a un sabor plano. Los ácidos fijos incluyen tartárico, málico, cítrico y ácido succínico, que se encuentra en las uvas (excepto succínico). Esta variable se expresa generalmente en $\\frac{g(tartaricacid)}{dm^3}$ en el dataset.\n",
    "\n",
    "\n",
    "- **volatile acidity (Ácido Volatil):** Estos ácidos se generan al separarse por destilación del vino antes de completar el proceso de producción. Está constituido principalmente de ácido acético aunque otros ácidos como láctico, ácido butírico y fórmico también pueden estar presentes. El exceso de ácidos volátiles son indeseables y dan lugar a un sabor desagradable. En los EE.UU., los límites legales de acidez volátil son 1,2 g / 50 para el vino tinto de mesa y 1,1 g / 50 para el vino blanco de mesa. La acidez volátil es expresada en $\\frac{g(aceticacid)}{dm^3}$ en el dataset.\n",
    "\n",
    "\n",
    "- **citric acid (Ácido Cítrico):** Este es uno de los ácidos fijos que da al vino su frescura. Por lo general, la mayor parte se consume durante el proceso de fermentación y, a veces se añade por separado para dar el vino más frescura. Por lo general se expresa en $\\frac{g}{dm^3}$ en el dataset.\n",
    "\n",
    "\n",
    "- **residual sugar (Azucar Residual):** Esto se refiere típicamente al azúcar natural de la uva que permanece luego de que el proceso de fermentación se detiene, o se detuvo. Por lo general se expresa en $\\frac{g}{dm^3}$ en el dataset.\n",
    "\n",
    "\n",
    "- **chlorides (Cloruros):** Esto suele ser un importante contribuyente a la salinidad en el vino. Por lo general se expresa en $\\frac{g(sodiumchloride)}{dm^3}$ en el dataset.\n",
    "\n",
    "\n",
    "- **free sulfur dioxide (Dióxido de Azufre libre):** Esta es la parte del dióxido de azufre que cuando se añade a un vino se dice que es libre después de la ligante parte restante. Los Enólogos siempre tratarán de conseguir la más alta proporción de azufre libre de unirse. También son conocidos como los sulfitos y demasiado de él no es deseable y da un olor a acre. Esta variable se expresa en $\\frac{mg}{dm^3}$ en el dataset.\n",
    "\n",
    "\n",
    "- **total sulfur dioxide (Total de Dióxido de Azufre):** Esta es la suma total de el dióxido de azufre libre ($SO_2$).Está expresado en $\\frac{mg}{dm^3}$. Esto se añade principalmente para matar las bacterias dañinas y preservar su calidad y frescura. Por lo general hay límites legales de los niveles de azufre en el vino y el exceso de la misma, incluso pueden matar a una buena levadura y dar un olor indeseable.\n",
    "\n",
    "\n",
    "- **density (Densidad):** Esto se puede representar como una comparación del peso de un volumen específico de vino a un volumen equivalente de agua. Se utiliza generalmente como una medida de la conversión de azúcar en alcohol. Se expresa en $\\frac{g}{cm^3}$.\n",
    "\n",
    "\n",
    "- **pH:** También conocido como el potencial de hidrógeno, esto es una escala numérica para especificar la acidez o basicidad del vino. La acidez fija contribuye en mayor medida hacia el pH de los vinos. Soluciones con un pH inferior a 7 son ácidas, mientras que las soluciones con un pH mayor que 7 son básicas. Con un pH de 7, el agua pura es neutra. La mayoría de los vinos tienen un pH entre 2,9 y 3,9 y por lo tanto son demasiado ácidos.\n",
    "\n",
    "\n",
    "- **sulphates (Sulfatos):** Estos son sales minerales que contiene azufre. Sulfatos son al vino como el pegamento es a la alimentación. Ellos son una parte regular de la elaboración del vino en todo el mundo y se consideran esenciales. Están conectados al proceso de fermentación y afecta el aroma y el sabor del vino. Se expresan en $\\frac{g(potassiumsulphate)}{dm^3}$ en el dataset.\n",
    "\n",
    "\n",
    "- **alcohol:** El vino es una bebida alcohólica. El alcohol se forma como resultado de la conversión de la levadura en azúcar durante el proceso de fermentación. El porcentaje de alcohol puede variar de un vino a otro. Por lo tanto no es una sorpresa para este atributo a ser parte de este conjunto de datos. Por lo general se mide en% vol o alcohol por volumen.\n",
    "\n",
    "\n",
    "- **quality (Calidad):** Expertos en vino calificaron la calidad del vino entre 0 (muy malo) y 10 (muy excelentes). La puntuación de la calidad final es la media de al menos tres evaluaciones realizadas por los mismos expertos en vino.\n",
    "\n",
    "\n",
    "- **wine_type (Tipo de Vino):** Ya que originalmente se tenían dos conjuntos de datos para el vino tinto y blanco, se introdujo este atributo en el conjunto de datos resultante de la fusión final que indica el tipo de vino para cada punto de datos. Un vino puede ser 'tinto' o un vino 'blanco'. \n",
    "\n",
    "\n",
    "- **quality_label (Tipo de Calidad):** Este es un atributo derivado del atributo `Calidad`. Las puntuaciones de calidad del vino se agrupan en tres grupos cualitativamente, baja, media y alta calidad. Los vinos de calidad con una puntuación de 1, 2 ,3, 4 y 5 son de baja calidad, las puntuaciones de 6 y 7 son de calidad media decenas de 8, 9 y 10 son vinos de alta calidad. . "
   ]
  },
  {
   "cell_type": "markdown",
   "metadata": {},
   "source": [
    "# Media"
   ]
  },
  {
   "cell_type": "code",
   "execution_count": 26,
   "metadata": {},
   "outputs": [
    {
     "data": {
      "text/plain": [
       "0.3186332153301468"
      ]
     },
     "execution_count": 26,
     "metadata": {},
     "output_type": "execute_result"
    }
   ],
   "source": [
    "wines['citric acid'].mean()"
   ]
  },
  {
   "cell_type": "code",
   "execution_count": 25,
   "metadata": {},
   "outputs": [
    {
     "data": {
      "text/plain": [
       "0.32"
      ]
     },
     "execution_count": 25,
     "metadata": {},
     "output_type": "execute_result"
    }
   ],
   "source": [
    "round(wines['citric acid'].mean(),2)"
   ]
  },
  {
   "cell_type": "code",
   "execution_count": 28,
   "metadata": {},
   "outputs": [
    {
     "data": {
      "text/plain": [
       "10.491800831152835"
      ]
     },
     "execution_count": 28,
     "metadata": {},
     "output_type": "execute_result"
    }
   ],
   "source": [
    "wines.alcohol.mean()"
   ]
  },
  {
   "cell_type": "code",
   "execution_count": 76,
   "metadata": {},
   "outputs": [
    {
     "data": {
      "text/plain": [
       "fixed acidity             7.215307\n",
       "volatile acidity          0.339666\n",
       "citric acid               0.318633\n",
       "residual sugar            5.443235\n",
       "chlorides                 0.056034\n",
       "free sulfur dioxide      30.525319\n",
       "total sulfur dioxide    115.744574\n",
       "density                   0.994697\n",
       "pH                        3.218501\n",
       "sulphates                 0.531268\n",
       "alcohol                  10.491801\n",
       "quality                   5.818378\n",
       "dtype: float64"
      ]
     },
     "execution_count": 76,
     "metadata": {},
     "output_type": "execute_result"
    }
   ],
   "source": [
    "wines.mean()"
   ]
  },
  {
   "cell_type": "markdown",
   "metadata": {},
   "source": [
    "# Variables Categoricas"
   ]
  },
  {
   "cell_type": "markdown",
   "metadata": {},
   "source": [
    "### Moda"
   ]
  },
  {
   "cell_type": "code",
   "execution_count": 40,
   "metadata": {},
   "outputs": [],
   "source": [
    "wines['miColumna'] = 'hola'\n",
    "wines.loc[0:2000, 'miColumna'] = 'chau'"
   ]
  },
  {
   "cell_type": "code",
   "execution_count": 44,
   "metadata": {
    "scrolled": true
   },
   "outputs": [
    {
     "data": {
      "text/plain": [
       "0    hola\n",
       "dtype: object"
      ]
     },
     "execution_count": 44,
     "metadata": {},
     "output_type": "execute_result"
    }
   ],
   "source": [
    "wines.miColumna.mode()"
   ]
  },
  {
   "cell_type": "code",
   "execution_count": 45,
   "metadata": {},
   "outputs": [
    {
     "data": {
      "text/plain": [
       "hola    4496\n",
       "chau    2001\n",
       "Name: miColumna, dtype: int64"
      ]
     },
     "execution_count": 45,
     "metadata": {},
     "output_type": "execute_result"
    }
   ],
   "source": [
    "wines.miColumna.value_counts()"
   ]
  },
  {
   "cell_type": "code",
   "execution_count": 57,
   "metadata": {},
   "outputs": [
    {
     "data": {
      "text/plain": [
       "medium    3915\n",
       "low       2384\n",
       "high       198\n",
       "Name: quality_label, dtype: int64"
      ]
     },
     "execution_count": 57,
     "metadata": {},
     "output_type": "execute_result"
    }
   ],
   "source": [
    "wines.quality_label.value_counts()"
   ]
  },
  {
   "cell_type": "code",
   "execution_count": 58,
   "metadata": {},
   "outputs": [
    {
     "data": {
      "text/plain": [
       "medium    3915\n",
       "low       2384\n",
       "high       198\n",
       "Name: quality_label, dtype: int64"
      ]
     },
     "execution_count": 58,
     "metadata": {},
     "output_type": "execute_result"
    }
   ],
   "source": [
    "#valores del value counts\n",
    "wines.quality_label.value_counts()"
   ]
  },
  {
   "cell_type": "code",
   "execution_count": 51,
   "metadata": {},
   "outputs": [
    {
     "data": {
      "text/plain": [
       "CategoricalIndex(['medium', 'low', 'high'], categories=['low', 'medium', 'high'], ordered=False, dtype='category')"
      ]
     },
     "execution_count": 51,
     "metadata": {},
     "output_type": "execute_result"
    }
   ],
   "source": [
    "#indices del value counts\n",
    "wines.quality_label.value_counts().index"
   ]
  },
  {
   "cell_type": "code",
   "execution_count": 65,
   "metadata": {},
   "outputs": [
    {
     "data": {
      "text/plain": [
       "10.491800831152835"
      ]
     },
     "execution_count": 65,
     "metadata": {},
     "output_type": "execute_result"
    }
   ],
   "source": [
    "wines.alcohol.mean()"
   ]
  },
  {
   "cell_type": "code",
   "execution_count": 72,
   "metadata": {},
   "outputs": [
    {
     "ename": "AttributeError",
     "evalue": "'list' object has no attribute 'mean'",
     "output_type": "error",
     "traceback": [
      "\u001b[0;31m---------------------------------------------------------------------------\u001b[0m",
      "\u001b[0;31mAttributeError\u001b[0m                            Traceback (most recent call last)",
      "\u001b[0;32m<ipython-input-72-eb5b700549c5>\u001b[0m in \u001b[0;36m<module>\u001b[0;34m\u001b[0m\n\u001b[1;32m      1\u001b[0m \u001b[0mlista_al\u001b[0m \u001b[0;34m=\u001b[0m \u001b[0mlist\u001b[0m\u001b[0;34m(\u001b[0m\u001b[0mwines\u001b[0m\u001b[0;34m.\u001b[0m\u001b[0malcohol\u001b[0m\u001b[0;34m)\u001b[0m\u001b[0;34m\u001b[0m\u001b[0;34m\u001b[0m\u001b[0m\n\u001b[0;32m----> 2\u001b[0;31m \u001b[0mlista_al\u001b[0m\u001b[0;34m.\u001b[0m\u001b[0mmean\u001b[0m\u001b[0;34m(\u001b[0m\u001b[0;34m)\u001b[0m\u001b[0;34m\u001b[0m\u001b[0;34m\u001b[0m\u001b[0m\n\u001b[0m",
      "\u001b[0;31mAttributeError\u001b[0m: 'list' object has no attribute 'mean'"
     ]
    }
   ],
   "source": [
    "lista_al = list(wines.alcohol)\n",
    "lista_al.mean()"
   ]
  },
  {
   "cell_type": "code",
   "execution_count": 73,
   "metadata": {},
   "outputs": [
    {
     "data": {
      "text/plain": [
       "10.491800831152835"
      ]
     },
     "execution_count": 73,
     "metadata": {},
     "output_type": "execute_result"
    }
   ],
   "source": [
    "suma = 0\n",
    "for x in lista_al:\n",
    "    suma = suma + x\n",
    "    \n",
    "suma / len(lista_al)"
   ]
  },
  {
   "cell_type": "markdown",
   "metadata": {},
   "source": [
    "# Tipos de Datos"
   ]
  },
  {
   "cell_type": "code",
   "execution_count": 63,
   "metadata": {},
   "outputs": [
    {
     "data": {
      "text/plain": [
       "pandas.core.frame.DataFrame"
      ]
     },
     "execution_count": 63,
     "metadata": {},
     "output_type": "execute_result"
    }
   ],
   "source": [
    "type(wines)"
   ]
  },
  {
   "cell_type": "code",
   "execution_count": 59,
   "metadata": {},
   "outputs": [
    {
     "data": {
      "text/plain": [
       "pandas.core.series.Series"
      ]
     },
     "execution_count": 59,
     "metadata": {},
     "output_type": "execute_result"
    }
   ],
   "source": [
    "#valores del value counts\n",
    "type(wines.quality_label.value_counts())"
   ]
  },
  {
   "cell_type": "markdown",
   "metadata": {},
   "source": [
    "# Mediana"
   ]
  },
  {
   "cell_type": "code",
   "execution_count": 39,
   "metadata": {},
   "outputs": [
    {
     "data": {
      "text/plain": [
       "fixed acidity             7.00000\n",
       "volatile acidity          0.29000\n",
       "citric acid               0.31000\n",
       "residual sugar            3.00000\n",
       "chlorides                 0.04700\n",
       "free sulfur dioxide      29.00000\n",
       "total sulfur dioxide    118.00000\n",
       "density                   0.99489\n",
       "pH                        3.21000\n",
       "sulphates                 0.51000\n",
       "alcohol                  10.30000\n",
       "quality                   6.00000\n",
       "dtype: float64"
      ]
     },
     "execution_count": 39,
     "metadata": {},
     "output_type": "execute_result"
    }
   ],
   "source": [
    "wines.median()"
   ]
  },
  {
   "cell_type": "code",
   "execution_count": 29,
   "metadata": {},
   "outputs": [
    {
     "data": {
      "text/plain": [
       "0.31"
      ]
     },
     "execution_count": 29,
     "metadata": {},
     "output_type": "execute_result"
    }
   ],
   "source": [
    "wines['citric acid'].median()"
   ]
  },
  {
   "cell_type": "code",
   "execution_count": 30,
   "metadata": {},
   "outputs": [
    {
     "data": {
      "text/plain": [
       "10.3"
      ]
     },
     "execution_count": 30,
     "metadata": {},
     "output_type": "execute_result"
    }
   ],
   "source": [
    "wines.alcohol.median()"
   ]
  },
  {
   "cell_type": "markdown",
   "metadata": {},
   "source": [
    "# Desvío Estandar"
   ]
  },
  {
   "cell_type": "code",
   "execution_count": 74,
   "metadata": {},
   "outputs": [
    {
     "data": {
      "text/plain": [
       "1.1927117488710004"
      ]
     },
     "execution_count": 74,
     "metadata": {},
     "output_type": "execute_result"
    }
   ],
   "source": [
    "wines.alcohol.std()"
   ]
  },
  {
   "cell_type": "code",
   "execution_count": 79,
   "metadata": {},
   "outputs": [
    {
     "data": {
      "text/plain": [
       "fixed acidity            1.296434\n",
       "volatile acidity         0.164636\n",
       "citric acid              0.145318\n",
       "residual sugar           4.757804\n",
       "chlorides                0.035034\n",
       "free sulfur dioxide     17.749400\n",
       "total sulfur dioxide    56.521855\n",
       "density                  0.002999\n",
       "pH                       0.160787\n",
       "sulphates                0.148806\n",
       "alcohol                  1.192712\n",
       "quality                  0.873255\n",
       "dtype: float64"
      ]
     },
     "execution_count": 79,
     "metadata": {},
     "output_type": "execute_result"
    }
   ],
   "source": [
    "wines.std()"
   ]
  },
  {
   "cell_type": "markdown",
   "metadata": {},
   "source": [
    "# describe"
   ]
  },
  {
   "cell_type": "code",
   "execution_count": 82,
   "metadata": {},
   "outputs": [
    {
     "data": {
      "text/html": [
       "<div>\n",
       "<style scoped>\n",
       "    .dataframe tbody tr th:only-of-type {\n",
       "        vertical-align: middle;\n",
       "    }\n",
       "\n",
       "    .dataframe tbody tr th {\n",
       "        vertical-align: top;\n",
       "    }\n",
       "\n",
       "    .dataframe thead th {\n",
       "        text-align: right;\n",
       "    }\n",
       "</style>\n",
       "<table border=\"1\" class=\"dataframe\">\n",
       "  <thead>\n",
       "    <tr style=\"text-align: right;\">\n",
       "      <th></th>\n",
       "      <th>fixed acidity</th>\n",
       "      <th>volatile acidity</th>\n",
       "      <th>citric acid</th>\n",
       "      <th>residual sugar</th>\n",
       "      <th>chlorides</th>\n",
       "      <th>free sulfur dioxide</th>\n",
       "      <th>total sulfur dioxide</th>\n",
       "      <th>density</th>\n",
       "      <th>pH</th>\n",
       "      <th>sulphates</th>\n",
       "      <th>alcohol</th>\n",
       "      <th>quality</th>\n",
       "    </tr>\n",
       "  </thead>\n",
       "  <tbody>\n",
       "    <tr>\n",
       "      <th>count</th>\n",
       "      <td>6497.0000</td>\n",
       "      <td>6497.0000</td>\n",
       "      <td>6497.0000</td>\n",
       "      <td>6497.0000</td>\n",
       "      <td>6497.000</td>\n",
       "      <td>6497.0000</td>\n",
       "      <td>6497.0000</td>\n",
       "      <td>6497.0000</td>\n",
       "      <td>6497.0000</td>\n",
       "      <td>6497.0000</td>\n",
       "      <td>6497.0000</td>\n",
       "      <td>6497.0000</td>\n",
       "    </tr>\n",
       "    <tr>\n",
       "      <th>mean</th>\n",
       "      <td>7.2153</td>\n",
       "      <td>0.3397</td>\n",
       "      <td>0.3186</td>\n",
       "      <td>5.4432</td>\n",
       "      <td>0.056</td>\n",
       "      <td>30.5253</td>\n",
       "      <td>115.7446</td>\n",
       "      <td>0.9947</td>\n",
       "      <td>3.2185</td>\n",
       "      <td>0.5313</td>\n",
       "      <td>10.4918</td>\n",
       "      <td>5.8184</td>\n",
       "    </tr>\n",
       "    <tr>\n",
       "      <th>std</th>\n",
       "      <td>1.2964</td>\n",
       "      <td>0.1646</td>\n",
       "      <td>0.1453</td>\n",
       "      <td>4.7578</td>\n",
       "      <td>0.035</td>\n",
       "      <td>17.7494</td>\n",
       "      <td>56.5219</td>\n",
       "      <td>0.0030</td>\n",
       "      <td>0.1608</td>\n",
       "      <td>0.1488</td>\n",
       "      <td>1.1927</td>\n",
       "      <td>0.8733</td>\n",
       "    </tr>\n",
       "    <tr>\n",
       "      <th>min</th>\n",
       "      <td>3.8000</td>\n",
       "      <td>0.0800</td>\n",
       "      <td>0.0000</td>\n",
       "      <td>0.6000</td>\n",
       "      <td>0.009</td>\n",
       "      <td>1.0000</td>\n",
       "      <td>6.0000</td>\n",
       "      <td>0.9871</td>\n",
       "      <td>2.7200</td>\n",
       "      <td>0.2200</td>\n",
       "      <td>8.0000</td>\n",
       "      <td>3.0000</td>\n",
       "    </tr>\n",
       "    <tr>\n",
       "      <th>25%</th>\n",
       "      <td>6.4000</td>\n",
       "      <td>0.2300</td>\n",
       "      <td>0.2500</td>\n",
       "      <td>1.8000</td>\n",
       "      <td>0.038</td>\n",
       "      <td>17.0000</td>\n",
       "      <td>77.0000</td>\n",
       "      <td>0.9923</td>\n",
       "      <td>3.1100</td>\n",
       "      <td>0.4300</td>\n",
       "      <td>9.5000</td>\n",
       "      <td>5.0000</td>\n",
       "    </tr>\n",
       "    <tr>\n",
       "      <th>50%</th>\n",
       "      <td>7.0000</td>\n",
       "      <td>0.2900</td>\n",
       "      <td>0.3100</td>\n",
       "      <td>3.0000</td>\n",
       "      <td>0.047</td>\n",
       "      <td>29.0000</td>\n",
       "      <td>118.0000</td>\n",
       "      <td>0.9949</td>\n",
       "      <td>3.2100</td>\n",
       "      <td>0.5100</td>\n",
       "      <td>10.3000</td>\n",
       "      <td>6.0000</td>\n",
       "    </tr>\n",
       "    <tr>\n",
       "      <th>75%</th>\n",
       "      <td>7.7000</td>\n",
       "      <td>0.4000</td>\n",
       "      <td>0.3900</td>\n",
       "      <td>8.1000</td>\n",
       "      <td>0.065</td>\n",
       "      <td>41.0000</td>\n",
       "      <td>156.0000</td>\n",
       "      <td>0.9970</td>\n",
       "      <td>3.3200</td>\n",
       "      <td>0.6000</td>\n",
       "      <td>11.3000</td>\n",
       "      <td>6.0000</td>\n",
       "    </tr>\n",
       "    <tr>\n",
       "      <th>max</th>\n",
       "      <td>15.9000</td>\n",
       "      <td>1.5800</td>\n",
       "      <td>1.6600</td>\n",
       "      <td>65.8000</td>\n",
       "      <td>0.611</td>\n",
       "      <td>289.0000</td>\n",
       "      <td>440.0000</td>\n",
       "      <td>1.0390</td>\n",
       "      <td>4.0100</td>\n",
       "      <td>2.0000</td>\n",
       "      <td>14.9000</td>\n",
       "      <td>9.0000</td>\n",
       "    </tr>\n",
       "  </tbody>\n",
       "</table>\n",
       "</div>"
      ],
      "text/plain": [
       "       fixed acidity  volatile acidity  citric acid  residual sugar  \\\n",
       "count      6497.0000         6497.0000    6497.0000       6497.0000   \n",
       "mean          7.2153            0.3397       0.3186          5.4432   \n",
       "std           1.2964            0.1646       0.1453          4.7578   \n",
       "min           3.8000            0.0800       0.0000          0.6000   \n",
       "25%           6.4000            0.2300       0.2500          1.8000   \n",
       "50%           7.0000            0.2900       0.3100          3.0000   \n",
       "75%           7.7000            0.4000       0.3900          8.1000   \n",
       "max          15.9000            1.5800       1.6600         65.8000   \n",
       "\n",
       "       chlorides  free sulfur dioxide  total sulfur dioxide    density  \\\n",
       "count   6497.000            6497.0000             6497.0000  6497.0000   \n",
       "mean       0.056              30.5253              115.7446     0.9947   \n",
       "std        0.035              17.7494               56.5219     0.0030   \n",
       "min        0.009               1.0000                6.0000     0.9871   \n",
       "25%        0.038              17.0000               77.0000     0.9923   \n",
       "50%        0.047              29.0000              118.0000     0.9949   \n",
       "75%        0.065              41.0000              156.0000     0.9970   \n",
       "max        0.611             289.0000              440.0000     1.0390   \n",
       "\n",
       "              pH  sulphates    alcohol    quality  \n",
       "count  6497.0000  6497.0000  6497.0000  6497.0000  \n",
       "mean      3.2185     0.5313    10.4918     5.8184  \n",
       "std       0.1608     0.1488     1.1927     0.8733  \n",
       "min       2.7200     0.2200     8.0000     3.0000  \n",
       "25%       3.1100     0.4300     9.5000     5.0000  \n",
       "50%       3.2100     0.5100    10.3000     6.0000  \n",
       "75%       3.3200     0.6000    11.3000     6.0000  \n",
       "max       4.0100     2.0000    14.9000     9.0000  "
      ]
     },
     "execution_count": 82,
     "metadata": {},
     "output_type": "execute_result"
    }
   ],
   "source": [
    "wines.describe().round(4)"
   ]
  },
  {
   "cell_type": "markdown",
   "metadata": {},
   "source": [
    "# Valores Agrupados"
   ]
  },
  {
   "cell_type": "code",
   "execution_count": 84,
   "metadata": {},
   "outputs": [
    {
     "data": {
      "text/html": [
       "<div>\n",
       "<style scoped>\n",
       "    .dataframe tbody tr th:only-of-type {\n",
       "        vertical-align: middle;\n",
       "    }\n",
       "\n",
       "    .dataframe tbody tr th {\n",
       "        vertical-align: top;\n",
       "    }\n",
       "\n",
       "    .dataframe thead th {\n",
       "        text-align: right;\n",
       "    }\n",
       "</style>\n",
       "<table border=\"1\" class=\"dataframe\">\n",
       "  <thead>\n",
       "    <tr style=\"text-align: right;\">\n",
       "      <th></th>\n",
       "      <th>fixed acidity</th>\n",
       "      <th>volatile acidity</th>\n",
       "      <th>citric acid</th>\n",
       "      <th>residual sugar</th>\n",
       "      <th>chlorides</th>\n",
       "      <th>free sulfur dioxide</th>\n",
       "      <th>total sulfur dioxide</th>\n",
       "      <th>density</th>\n",
       "      <th>pH</th>\n",
       "      <th>sulphates</th>\n",
       "      <th>alcohol</th>\n",
       "      <th>quality</th>\n",
       "      <th>wine_type</th>\n",
       "      <th>quality_label</th>\n",
       "      <th>miColumna</th>\n",
       "    </tr>\n",
       "  </thead>\n",
       "  <tbody>\n",
       "    <tr>\n",
       "      <th>0</th>\n",
       "      <td>7.0</td>\n",
       "      <td>0.17</td>\n",
       "      <td>0.74</td>\n",
       "      <td>12.8</td>\n",
       "      <td>0.045</td>\n",
       "      <td>24.0</td>\n",
       "      <td>126.0</td>\n",
       "      <td>0.99420</td>\n",
       "      <td>3.26</td>\n",
       "      <td>0.38</td>\n",
       "      <td>12.2</td>\n",
       "      <td>8</td>\n",
       "      <td>white</td>\n",
       "      <td>high</td>\n",
       "      <td>chau</td>\n",
       "    </tr>\n",
       "    <tr>\n",
       "      <th>1</th>\n",
       "      <td>7.7</td>\n",
       "      <td>0.64</td>\n",
       "      <td>0.21</td>\n",
       "      <td>2.2</td>\n",
       "      <td>0.077</td>\n",
       "      <td>32.0</td>\n",
       "      <td>133.0</td>\n",
       "      <td>0.99560</td>\n",
       "      <td>3.27</td>\n",
       "      <td>0.45</td>\n",
       "      <td>9.9</td>\n",
       "      <td>5</td>\n",
       "      <td>red</td>\n",
       "      <td>low</td>\n",
       "      <td>chau</td>\n",
       "    </tr>\n",
       "    <tr>\n",
       "      <th>2</th>\n",
       "      <td>6.8</td>\n",
       "      <td>0.39</td>\n",
       "      <td>0.34</td>\n",
       "      <td>7.4</td>\n",
       "      <td>0.020</td>\n",
       "      <td>38.0</td>\n",
       "      <td>133.0</td>\n",
       "      <td>0.99212</td>\n",
       "      <td>3.18</td>\n",
       "      <td>0.44</td>\n",
       "      <td>12.0</td>\n",
       "      <td>7</td>\n",
       "      <td>white</td>\n",
       "      <td>medium</td>\n",
       "      <td>chau</td>\n",
       "    </tr>\n",
       "    <tr>\n",
       "      <th>3</th>\n",
       "      <td>6.3</td>\n",
       "      <td>0.28</td>\n",
       "      <td>0.47</td>\n",
       "      <td>11.2</td>\n",
       "      <td>0.040</td>\n",
       "      <td>61.0</td>\n",
       "      <td>183.0</td>\n",
       "      <td>0.99592</td>\n",
       "      <td>3.12</td>\n",
       "      <td>0.51</td>\n",
       "      <td>9.5</td>\n",
       "      <td>6</td>\n",
       "      <td>white</td>\n",
       "      <td>medium</td>\n",
       "      <td>chau</td>\n",
       "    </tr>\n",
       "    <tr>\n",
       "      <th>4</th>\n",
       "      <td>7.4</td>\n",
       "      <td>0.35</td>\n",
       "      <td>0.20</td>\n",
       "      <td>13.9</td>\n",
       "      <td>0.054</td>\n",
       "      <td>63.0</td>\n",
       "      <td>229.0</td>\n",
       "      <td>0.99888</td>\n",
       "      <td>3.11</td>\n",
       "      <td>0.50</td>\n",
       "      <td>8.9</td>\n",
       "      <td>6</td>\n",
       "      <td>white</td>\n",
       "      <td>medium</td>\n",
       "      <td>chau</td>\n",
       "    </tr>\n",
       "  </tbody>\n",
       "</table>\n",
       "</div>"
      ],
      "text/plain": [
       "   fixed acidity  volatile acidity  citric acid  residual sugar  chlorides  \\\n",
       "0            7.0              0.17         0.74            12.8      0.045   \n",
       "1            7.7              0.64         0.21             2.2      0.077   \n",
       "2            6.8              0.39         0.34             7.4      0.020   \n",
       "3            6.3              0.28         0.47            11.2      0.040   \n",
       "4            7.4              0.35         0.20            13.9      0.054   \n",
       "\n",
       "   free sulfur dioxide  total sulfur dioxide  density    pH  sulphates  \\\n",
       "0                 24.0                 126.0  0.99420  3.26       0.38   \n",
       "1                 32.0                 133.0  0.99560  3.27       0.45   \n",
       "2                 38.0                 133.0  0.99212  3.18       0.44   \n",
       "3                 61.0                 183.0  0.99592  3.12       0.51   \n",
       "4                 63.0                 229.0  0.99888  3.11       0.50   \n",
       "\n",
       "   alcohol  quality wine_type quality_label miColumna  \n",
       "0     12.2        8     white          high      chau  \n",
       "1      9.9        5       red           low      chau  \n",
       "2     12.0        7     white        medium      chau  \n",
       "3      9.5        6     white        medium      chau  \n",
       "4      8.9        6     white        medium      chau  "
      ]
     },
     "execution_count": 84,
     "metadata": {},
     "output_type": "execute_result"
    }
   ],
   "source": [
    "wines.head()"
   ]
  },
  {
   "cell_type": "code",
   "execution_count": 85,
   "metadata": {},
   "outputs": [
    {
     "data": {
      "text/plain": [
       "medium    3915\n",
       "low       2384\n",
       "high       198\n",
       "Name: quality_label, dtype: int64"
      ]
     },
     "execution_count": 85,
     "metadata": {},
     "output_type": "execute_result"
    }
   ],
   "source": [
    "wines.quality_label.value_counts()"
   ]
  },
  {
   "cell_type": "code",
   "execution_count": 98,
   "metadata": {},
   "outputs": [
    {
     "data": {
      "text/html": [
       "<div>\n",
       "<style scoped>\n",
       "    .dataframe tbody tr th:only-of-type {\n",
       "        vertical-align: middle;\n",
       "    }\n",
       "\n",
       "    .dataframe tbody tr th {\n",
       "        vertical-align: top;\n",
       "    }\n",
       "\n",
       "    .dataframe thead th {\n",
       "        text-align: right;\n",
       "    }\n",
       "</style>\n",
       "<table border=\"1\" class=\"dataframe\">\n",
       "  <thead>\n",
       "    <tr style=\"text-align: right;\">\n",
       "      <th></th>\n",
       "      <th>fixed acidity</th>\n",
       "      <th>volatile acidity</th>\n",
       "      <th>citric acid</th>\n",
       "      <th>residual sugar</th>\n",
       "      <th>chlorides</th>\n",
       "      <th>free sulfur dioxide</th>\n",
       "      <th>total sulfur dioxide</th>\n",
       "      <th>density</th>\n",
       "      <th>pH</th>\n",
       "      <th>sulphates</th>\n",
       "      <th>alcohol</th>\n",
       "      <th>quality</th>\n",
       "    </tr>\n",
       "    <tr>\n",
       "      <th>quality_label</th>\n",
       "      <th></th>\n",
       "      <th></th>\n",
       "      <th></th>\n",
       "      <th></th>\n",
       "      <th></th>\n",
       "      <th></th>\n",
       "      <th></th>\n",
       "      <th></th>\n",
       "      <th></th>\n",
       "      <th></th>\n",
       "      <th></th>\n",
       "      <th></th>\n",
       "    </tr>\n",
       "  </thead>\n",
       "  <tbody>\n",
       "    <tr>\n",
       "      <th>low</th>\n",
       "      <td>7.3300</td>\n",
       "      <td>0.3974</td>\n",
       "      <td>0.3042</td>\n",
       "      <td>5.6462</td>\n",
       "      <td>0.0644</td>\n",
       "      <td>29.4805</td>\n",
       "      <td>119.2771</td>\n",
       "      <td>0.9958</td>\n",
       "      <td>3.2145</td>\n",
       "      <td>0.5243</td>\n",
       "      <td>9.8735</td>\n",
       "      <td>4.8842</td>\n",
       "    </tr>\n",
       "    <tr>\n",
       "      <th>medium</th>\n",
       "      <td>7.1639</td>\n",
       "      <td>0.3070</td>\n",
       "      <td>0.3267</td>\n",
       "      <td>5.3243</td>\n",
       "      <td>0.0517</td>\n",
       "      <td>30.9603</td>\n",
       "      <td>113.5057</td>\n",
       "      <td>0.9942</td>\n",
       "      <td>3.2206</td>\n",
       "      <td>0.5365</td>\n",
       "      <td>10.8076</td>\n",
       "      <td>6.2756</td>\n",
       "    </tr>\n",
       "    <tr>\n",
       "      <th>high</th>\n",
       "      <td>6.8500</td>\n",
       "      <td>0.2912</td>\n",
       "      <td>0.3339</td>\n",
       "      <td>5.3510</td>\n",
       "      <td>0.0408</td>\n",
       "      <td>34.5051</td>\n",
       "      <td>117.4798</td>\n",
       "      <td>0.9925</td>\n",
       "      <td>3.2254</td>\n",
       "      <td>0.5113</td>\n",
       "      <td>11.6914</td>\n",
       "      <td>8.0253</td>\n",
       "    </tr>\n",
       "  </tbody>\n",
       "</table>\n",
       "</div>"
      ],
      "text/plain": [
       "               fixed acidity  volatile acidity  citric acid  residual sugar  \\\n",
       "quality_label                                                                 \n",
       "low                   7.3300            0.3974       0.3042          5.6462   \n",
       "medium                7.1639            0.3070       0.3267          5.3243   \n",
       "high                  6.8500            0.2912       0.3339          5.3510   \n",
       "\n",
       "               chlorides  free sulfur dioxide  total sulfur dioxide  density  \\\n",
       "quality_label                                                                  \n",
       "low               0.0644              29.4805              119.2771   0.9958   \n",
       "medium            0.0517              30.9603              113.5057   0.9942   \n",
       "high              0.0408              34.5051              117.4798   0.9925   \n",
       "\n",
       "                   pH  sulphates  alcohol  quality  \n",
       "quality_label                                       \n",
       "low            3.2145     0.5243   9.8735   4.8842  \n",
       "medium         3.2206     0.5365  10.8076   6.2756  \n",
       "high           3.2254     0.5113  11.6914   8.0253  "
      ]
     },
     "execution_count": 98,
     "metadata": {},
     "output_type": "execute_result"
    }
   ],
   "source": [
    "wines.groupby('quality_label').mean().round(4)"
   ]
  },
  {
   "cell_type": "code",
   "execution_count": 93,
   "metadata": {},
   "outputs": [],
   "source": [
    "df = wines.groupby('quality_label').mean()[['quality','free sulfur dioxide']].reset_index()"
   ]
  },
  {
   "cell_type": "code",
   "execution_count": 102,
   "metadata": {},
   "outputs": [
    {
     "data": {
      "text/html": [
       "<div>\n",
       "<style scoped>\n",
       "    .dataframe tbody tr th:only-of-type {\n",
       "        vertical-align: middle;\n",
       "    }\n",
       "\n",
       "    .dataframe tbody tr th {\n",
       "        vertical-align: top;\n",
       "    }\n",
       "\n",
       "    .dataframe thead th {\n",
       "        text-align: right;\n",
       "    }\n",
       "</style>\n",
       "<table border=\"1\" class=\"dataframe\">\n",
       "  <thead>\n",
       "    <tr style=\"text-align: right;\">\n",
       "      <th></th>\n",
       "      <th>quality_label</th>\n",
       "      <th>quality</th>\n",
       "      <th>free sulfur dioxide</th>\n",
       "    </tr>\n",
       "  </thead>\n",
       "  <tbody>\n",
       "    <tr>\n",
       "      <th>0</th>\n",
       "      <td>low</td>\n",
       "      <td>4.884228</td>\n",
       "      <td>29.480495</td>\n",
       "    </tr>\n",
       "  </tbody>\n",
       "</table>\n",
       "</div>"
      ],
      "text/plain": [
       "  quality_label   quality  free sulfur dioxide\n",
       "0           low  4.884228            29.480495"
      ]
     },
     "execution_count": 102,
     "metadata": {},
     "output_type": "execute_result"
    }
   ],
   "source": [
    "df.iloc[0:1]"
   ]
  },
  {
   "cell_type": "code",
   "execution_count": 96,
   "metadata": {},
   "outputs": [
    {
     "data": {
      "text/html": [
       "<div>\n",
       "<style scoped>\n",
       "    .dataframe tbody tr th:only-of-type {\n",
       "        vertical-align: middle;\n",
       "    }\n",
       "\n",
       "    .dataframe tbody tr th {\n",
       "        vertical-align: top;\n",
       "    }\n",
       "\n",
       "    .dataframe thead th {\n",
       "        text-align: right;\n",
       "    }\n",
       "</style>\n",
       "<table border=\"1\" class=\"dataframe\">\n",
       "  <thead>\n",
       "    <tr style=\"text-align: right;\">\n",
       "      <th></th>\n",
       "      <th>quality</th>\n",
       "      <th>free sulfur dioxide</th>\n",
       "    </tr>\n",
       "  </thead>\n",
       "  <tbody>\n",
       "    <tr>\n",
       "      <th>quality</th>\n",
       "      <td>1.000000</td>\n",
       "      <td>0.986053</td>\n",
       "    </tr>\n",
       "    <tr>\n",
       "      <th>free sulfur dioxide</th>\n",
       "      <td>0.986053</td>\n",
       "      <td>1.000000</td>\n",
       "    </tr>\n",
       "  </tbody>\n",
       "</table>\n",
       "</div>"
      ],
      "text/plain": [
       "                      quality  free sulfur dioxide\n",
       "quality              1.000000             0.986053\n",
       "free sulfur dioxide  0.986053             1.000000"
      ]
     },
     "execution_count": 96,
     "metadata": {},
     "output_type": "execute_result"
    }
   ],
   "source": [
    "df[['quality','free sulfur dioxide']].corr()"
   ]
  },
  {
   "cell_type": "markdown",
   "metadata": {},
   "source": [
    "# Correlación"
   ]
  },
  {
   "cell_type": "code",
   "execution_count": 89,
   "metadata": {},
   "outputs": [
    {
     "data": {
      "text/html": [
       "<div>\n",
       "<style scoped>\n",
       "    .dataframe tbody tr th:only-of-type {\n",
       "        vertical-align: middle;\n",
       "    }\n",
       "\n",
       "    .dataframe tbody tr th {\n",
       "        vertical-align: top;\n",
       "    }\n",
       "\n",
       "    .dataframe thead th {\n",
       "        text-align: right;\n",
       "    }\n",
       "</style>\n",
       "<table border=\"1\" class=\"dataframe\">\n",
       "  <thead>\n",
       "    <tr style=\"text-align: right;\">\n",
       "      <th></th>\n",
       "      <th>fixed acidity</th>\n",
       "      <th>volatile acidity</th>\n",
       "      <th>citric acid</th>\n",
       "      <th>residual sugar</th>\n",
       "      <th>chlorides</th>\n",
       "      <th>free sulfur dioxide</th>\n",
       "      <th>total sulfur dioxide</th>\n",
       "      <th>density</th>\n",
       "      <th>pH</th>\n",
       "      <th>sulphates</th>\n",
       "      <th>alcohol</th>\n",
       "      <th>quality</th>\n",
       "    </tr>\n",
       "  </thead>\n",
       "  <tbody>\n",
       "    <tr>\n",
       "      <th>fixed acidity</th>\n",
       "      <td>1.00</td>\n",
       "      <td>0.22</td>\n",
       "      <td>0.32</td>\n",
       "      <td>-0.11</td>\n",
       "      <td>0.30</td>\n",
       "      <td>-0.28</td>\n",
       "      <td>-0.33</td>\n",
       "      <td>0.46</td>\n",
       "      <td>-0.25</td>\n",
       "      <td>0.30</td>\n",
       "      <td>-0.10</td>\n",
       "      <td>-0.08</td>\n",
       "    </tr>\n",
       "    <tr>\n",
       "      <th>volatile acidity</th>\n",
       "      <td>0.22</td>\n",
       "      <td>1.00</td>\n",
       "      <td>-0.38</td>\n",
       "      <td>-0.20</td>\n",
       "      <td>0.38</td>\n",
       "      <td>-0.35</td>\n",
       "      <td>-0.41</td>\n",
       "      <td>0.27</td>\n",
       "      <td>0.26</td>\n",
       "      <td>0.23</td>\n",
       "      <td>-0.04</td>\n",
       "      <td>-0.27</td>\n",
       "    </tr>\n",
       "    <tr>\n",
       "      <th>citric acid</th>\n",
       "      <td>0.32</td>\n",
       "      <td>-0.38</td>\n",
       "      <td>1.00</td>\n",
       "      <td>0.14</td>\n",
       "      <td>0.04</td>\n",
       "      <td>0.13</td>\n",
       "      <td>0.20</td>\n",
       "      <td>0.10</td>\n",
       "      <td>-0.33</td>\n",
       "      <td>0.06</td>\n",
       "      <td>-0.01</td>\n",
       "      <td>0.09</td>\n",
       "    </tr>\n",
       "    <tr>\n",
       "      <th>residual sugar</th>\n",
       "      <td>-0.11</td>\n",
       "      <td>-0.20</td>\n",
       "      <td>0.14</td>\n",
       "      <td>1.00</td>\n",
       "      <td>-0.13</td>\n",
       "      <td>0.40</td>\n",
       "      <td>0.50</td>\n",
       "      <td>0.55</td>\n",
       "      <td>-0.27</td>\n",
       "      <td>-0.19</td>\n",
       "      <td>-0.36</td>\n",
       "      <td>-0.04</td>\n",
       "    </tr>\n",
       "    <tr>\n",
       "      <th>chlorides</th>\n",
       "      <td>0.30</td>\n",
       "      <td>0.38</td>\n",
       "      <td>0.04</td>\n",
       "      <td>-0.13</td>\n",
       "      <td>1.00</td>\n",
       "      <td>-0.20</td>\n",
       "      <td>-0.28</td>\n",
       "      <td>0.36</td>\n",
       "      <td>0.04</td>\n",
       "      <td>0.40</td>\n",
       "      <td>-0.26</td>\n",
       "      <td>-0.20</td>\n",
       "    </tr>\n",
       "    <tr>\n",
       "      <th>free sulfur dioxide</th>\n",
       "      <td>-0.28</td>\n",
       "      <td>-0.35</td>\n",
       "      <td>0.13</td>\n",
       "      <td>0.40</td>\n",
       "      <td>-0.20</td>\n",
       "      <td>1.00</td>\n",
       "      <td>0.72</td>\n",
       "      <td>0.03</td>\n",
       "      <td>-0.15</td>\n",
       "      <td>-0.19</td>\n",
       "      <td>-0.18</td>\n",
       "      <td>0.06</td>\n",
       "    </tr>\n",
       "    <tr>\n",
       "      <th>total sulfur dioxide</th>\n",
       "      <td>-0.33</td>\n",
       "      <td>-0.41</td>\n",
       "      <td>0.20</td>\n",
       "      <td>0.50</td>\n",
       "      <td>-0.28</td>\n",
       "      <td>0.72</td>\n",
       "      <td>1.00</td>\n",
       "      <td>0.03</td>\n",
       "      <td>-0.24</td>\n",
       "      <td>-0.28</td>\n",
       "      <td>-0.27</td>\n",
       "      <td>-0.04</td>\n",
       "    </tr>\n",
       "    <tr>\n",
       "      <th>density</th>\n",
       "      <td>0.46</td>\n",
       "      <td>0.27</td>\n",
       "      <td>0.10</td>\n",
       "      <td>0.55</td>\n",
       "      <td>0.36</td>\n",
       "      <td>0.03</td>\n",
       "      <td>0.03</td>\n",
       "      <td>1.00</td>\n",
       "      <td>0.01</td>\n",
       "      <td>0.26</td>\n",
       "      <td>-0.69</td>\n",
       "      <td>-0.31</td>\n",
       "    </tr>\n",
       "    <tr>\n",
       "      <th>pH</th>\n",
       "      <td>-0.25</td>\n",
       "      <td>0.26</td>\n",
       "      <td>-0.33</td>\n",
       "      <td>-0.27</td>\n",
       "      <td>0.04</td>\n",
       "      <td>-0.15</td>\n",
       "      <td>-0.24</td>\n",
       "      <td>0.01</td>\n",
       "      <td>1.00</td>\n",
       "      <td>0.19</td>\n",
       "      <td>0.12</td>\n",
       "      <td>0.02</td>\n",
       "    </tr>\n",
       "    <tr>\n",
       "      <th>sulphates</th>\n",
       "      <td>0.30</td>\n",
       "      <td>0.23</td>\n",
       "      <td>0.06</td>\n",
       "      <td>-0.19</td>\n",
       "      <td>0.40</td>\n",
       "      <td>-0.19</td>\n",
       "      <td>-0.28</td>\n",
       "      <td>0.26</td>\n",
       "      <td>0.19</td>\n",
       "      <td>1.00</td>\n",
       "      <td>-0.00</td>\n",
       "      <td>0.04</td>\n",
       "    </tr>\n",
       "    <tr>\n",
       "      <th>alcohol</th>\n",
       "      <td>-0.10</td>\n",
       "      <td>-0.04</td>\n",
       "      <td>-0.01</td>\n",
       "      <td>-0.36</td>\n",
       "      <td>-0.26</td>\n",
       "      <td>-0.18</td>\n",
       "      <td>-0.27</td>\n",
       "      <td>-0.69</td>\n",
       "      <td>0.12</td>\n",
       "      <td>-0.00</td>\n",
       "      <td>1.00</td>\n",
       "      <td>0.44</td>\n",
       "    </tr>\n",
       "    <tr>\n",
       "      <th>quality</th>\n",
       "      <td>-0.08</td>\n",
       "      <td>-0.27</td>\n",
       "      <td>0.09</td>\n",
       "      <td>-0.04</td>\n",
       "      <td>-0.20</td>\n",
       "      <td>0.06</td>\n",
       "      <td>-0.04</td>\n",
       "      <td>-0.31</td>\n",
       "      <td>0.02</td>\n",
       "      <td>0.04</td>\n",
       "      <td>0.44</td>\n",
       "      <td>1.00</td>\n",
       "    </tr>\n",
       "  </tbody>\n",
       "</table>\n",
       "</div>"
      ],
      "text/plain": [
       "                      fixed acidity  volatile acidity  citric acid  \\\n",
       "fixed acidity                  1.00              0.22         0.32   \n",
       "volatile acidity               0.22              1.00        -0.38   \n",
       "citric acid                    0.32             -0.38         1.00   \n",
       "residual sugar                -0.11             -0.20         0.14   \n",
       "chlorides                      0.30              0.38         0.04   \n",
       "free sulfur dioxide           -0.28             -0.35         0.13   \n",
       "total sulfur dioxide          -0.33             -0.41         0.20   \n",
       "density                        0.46              0.27         0.10   \n",
       "pH                            -0.25              0.26        -0.33   \n",
       "sulphates                      0.30              0.23         0.06   \n",
       "alcohol                       -0.10             -0.04        -0.01   \n",
       "quality                       -0.08             -0.27         0.09   \n",
       "\n",
       "                      residual sugar  chlorides  free sulfur dioxide  \\\n",
       "fixed acidity                  -0.11       0.30                -0.28   \n",
       "volatile acidity               -0.20       0.38                -0.35   \n",
       "citric acid                     0.14       0.04                 0.13   \n",
       "residual sugar                  1.00      -0.13                 0.40   \n",
       "chlorides                      -0.13       1.00                -0.20   \n",
       "free sulfur dioxide             0.40      -0.20                 1.00   \n",
       "total sulfur dioxide            0.50      -0.28                 0.72   \n",
       "density                         0.55       0.36                 0.03   \n",
       "pH                             -0.27       0.04                -0.15   \n",
       "sulphates                      -0.19       0.40                -0.19   \n",
       "alcohol                        -0.36      -0.26                -0.18   \n",
       "quality                        -0.04      -0.20                 0.06   \n",
       "\n",
       "                      total sulfur dioxide  density    pH  sulphates  alcohol  \\\n",
       "fixed acidity                        -0.33     0.46 -0.25       0.30    -0.10   \n",
       "volatile acidity                     -0.41     0.27  0.26       0.23    -0.04   \n",
       "citric acid                           0.20     0.10 -0.33       0.06    -0.01   \n",
       "residual sugar                        0.50     0.55 -0.27      -0.19    -0.36   \n",
       "chlorides                            -0.28     0.36  0.04       0.40    -0.26   \n",
       "free sulfur dioxide                   0.72     0.03 -0.15      -0.19    -0.18   \n",
       "total sulfur dioxide                  1.00     0.03 -0.24      -0.28    -0.27   \n",
       "density                               0.03     1.00  0.01       0.26    -0.69   \n",
       "pH                                   -0.24     0.01  1.00       0.19     0.12   \n",
       "sulphates                            -0.28     0.26  0.19       1.00    -0.00   \n",
       "alcohol                              -0.27    -0.69  0.12      -0.00     1.00   \n",
       "quality                              -0.04    -0.31  0.02       0.04     0.44   \n",
       "\n",
       "                      quality  \n",
       "fixed acidity           -0.08  \n",
       "volatile acidity        -0.27  \n",
       "citric acid              0.09  \n",
       "residual sugar          -0.04  \n",
       "chlorides               -0.20  \n",
       "free sulfur dioxide      0.06  \n",
       "total sulfur dioxide    -0.04  \n",
       "density                 -0.31  \n",
       "pH                       0.02  \n",
       "sulphates                0.04  \n",
       "alcohol                  0.44  \n",
       "quality                  1.00  "
      ]
     },
     "execution_count": 89,
     "metadata": {},
     "output_type": "execute_result"
    }
   ],
   "source": [
    "wines.corr().round(2)"
   ]
  },
  {
   "cell_type": "code",
   "execution_count": null,
   "metadata": {},
   "outputs": [],
   "source": []
  }
 ],
 "metadata": {
  "anaconda-cloud": {},
  "kernelspec": {
   "display_name": "Python 3 (ipykernel)",
   "language": "python",
   "name": "python3"
  },
  "language_info": {
   "codemirror_mode": {
    "name": "ipython",
    "version": 3
   },
   "file_extension": ".py",
   "mimetype": "text/x-python",
   "name": "python",
   "nbconvert_exporter": "python",
   "pygments_lexer": "ipython3",
   "version": "3.9.7"
  }
 },
 "nbformat": 4,
 "nbformat_minor": 1
}
