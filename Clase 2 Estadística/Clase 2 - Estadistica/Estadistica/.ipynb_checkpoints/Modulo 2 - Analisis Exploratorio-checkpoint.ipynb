{
 "cells": [
  {
   "cell_type": "markdown",
   "metadata": {},
   "source": [
    "# Estadistica"
   ]
  },
  {
   "cell_type": "markdown",
   "metadata": {},
   "source": [
    "#  Dataset de Cálidad de Vino"
   ]
  },
  {
   "cell_type": "markdown",
   "metadata": {},
   "source": [
    "# Importación de las librerías a utilizar"
   ]
  },
  {
   "cell_type": "code",
   "execution_count": 6,
   "metadata": {},
   "outputs": [],
   "source": [
    "import pandas as pd\n",
    "import matplotlib.pyplot as plt\n",
    "\n",
    "import numpy as np\n",
    "import seaborn as sns\n",
    "\n",
    "%matplotlib inline"
   ]
  },
  {
   "cell_type": "markdown",
   "metadata": {},
   "source": [
    "# Carga y union de datasets\n",
    "#### Los datos de los vinos provienen de dos archivos distintos (del tipo csv) que serán unidos en un dataframe \"wines\""
   ]
  },
  {
   "cell_type": "code",
   "execution_count": 2,
   "metadata": {},
   "outputs": [],
   "source": [
    "white_wine = pd.read_csv('winequality-white.csv', sep=';')\n",
    "red_wine = pd.read_csv('winequality-red.csv', sep=';')\n",
    "\n",
    "# store wine type as an attribute\n",
    "red_wine['wine_type'] = 'red'   \n",
    "white_wine['wine_type'] = 'white'\n",
    "\n",
    "# bucket wine quality scores into qualitative quality labels\n",
    "red_wine['quality_label'] = red_wine['quality'].apply(lambda value: 'low' \n",
    "                                                          if value <= 5 else 'medium' \n",
    "                                                              if value <= 7 else 'high')\n",
    "red_wine['quality_label'] = pd.Categorical(red_wine['quality_label'], \n",
    "                                           categories=['low', 'medium', 'high'])\n",
    "white_wine['quality_label'] = white_wine['quality'].apply(lambda value: 'low' \n",
    "                                                              if value <= 5 else 'medium' \n",
    "                                                                  if value <= 7 else 'high')\n",
    "white_wine['quality_label'] = pd.Categorical(white_wine['quality_label'], \n",
    "                                             categories=['low', 'medium', 'high'])\n",
    "\n",
    "# merge red and white wine datasets\n",
    "wines = pd.concat([red_wine, white_wine])\n",
    "\n",
    "# re-shuffle records just to randomize data points\n",
    "wines = wines.sample(frac=1, random_state=42).reset_index(drop=True)"
   ]
  },
  {
   "cell_type": "markdown",
   "metadata": {},
   "source": [
    "# Usando el método head(), podemos ver los primeros registros del dataframe"
   ]
  },
  {
   "cell_type": "code",
   "execution_count": 3,
   "metadata": {},
   "outputs": [
    {
     "data": {
      "text/html": [
       "<div>\n",
       "<style scoped>\n",
       "    .dataframe tbody tr th:only-of-type {\n",
       "        vertical-align: middle;\n",
       "    }\n",
       "\n",
       "    .dataframe tbody tr th {\n",
       "        vertical-align: top;\n",
       "    }\n",
       "\n",
       "    .dataframe thead th {\n",
       "        text-align: right;\n",
       "    }\n",
       "</style>\n",
       "<table border=\"1\" class=\"dataframe\">\n",
       "  <thead>\n",
       "    <tr style=\"text-align: right;\">\n",
       "      <th></th>\n",
       "      <th>fixed acidity</th>\n",
       "      <th>volatile acidity</th>\n",
       "      <th>citric acid</th>\n",
       "      <th>residual sugar</th>\n",
       "      <th>chlorides</th>\n",
       "      <th>free sulfur dioxide</th>\n",
       "      <th>total sulfur dioxide</th>\n",
       "      <th>density</th>\n",
       "      <th>pH</th>\n",
       "      <th>sulphates</th>\n",
       "      <th>alcohol</th>\n",
       "      <th>quality</th>\n",
       "      <th>wine_type</th>\n",
       "      <th>quality_label</th>\n",
       "    </tr>\n",
       "  </thead>\n",
       "  <tbody>\n",
       "    <tr>\n",
       "      <th>0</th>\n",
       "      <td>7.0</td>\n",
       "      <td>0.17</td>\n",
       "      <td>0.74</td>\n",
       "      <td>12.8</td>\n",
       "      <td>0.045</td>\n",
       "      <td>24.0</td>\n",
       "      <td>126.0</td>\n",
       "      <td>0.99420</td>\n",
       "      <td>3.26</td>\n",
       "      <td>0.38</td>\n",
       "      <td>12.2</td>\n",
       "      <td>8</td>\n",
       "      <td>white</td>\n",
       "      <td>high</td>\n",
       "    </tr>\n",
       "    <tr>\n",
       "      <th>1</th>\n",
       "      <td>7.7</td>\n",
       "      <td>0.64</td>\n",
       "      <td>0.21</td>\n",
       "      <td>2.2</td>\n",
       "      <td>0.077</td>\n",
       "      <td>32.0</td>\n",
       "      <td>133.0</td>\n",
       "      <td>0.99560</td>\n",
       "      <td>3.27</td>\n",
       "      <td>0.45</td>\n",
       "      <td>9.9</td>\n",
       "      <td>5</td>\n",
       "      <td>red</td>\n",
       "      <td>low</td>\n",
       "    </tr>\n",
       "    <tr>\n",
       "      <th>2</th>\n",
       "      <td>6.8</td>\n",
       "      <td>0.39</td>\n",
       "      <td>0.34</td>\n",
       "      <td>7.4</td>\n",
       "      <td>0.020</td>\n",
       "      <td>38.0</td>\n",
       "      <td>133.0</td>\n",
       "      <td>0.99212</td>\n",
       "      <td>3.18</td>\n",
       "      <td>0.44</td>\n",
       "      <td>12.0</td>\n",
       "      <td>7</td>\n",
       "      <td>white</td>\n",
       "      <td>medium</td>\n",
       "    </tr>\n",
       "    <tr>\n",
       "      <th>3</th>\n",
       "      <td>6.3</td>\n",
       "      <td>0.28</td>\n",
       "      <td>0.47</td>\n",
       "      <td>11.2</td>\n",
       "      <td>0.040</td>\n",
       "      <td>61.0</td>\n",
       "      <td>183.0</td>\n",
       "      <td>0.99592</td>\n",
       "      <td>3.12</td>\n",
       "      <td>0.51</td>\n",
       "      <td>9.5</td>\n",
       "      <td>6</td>\n",
       "      <td>white</td>\n",
       "      <td>medium</td>\n",
       "    </tr>\n",
       "    <tr>\n",
       "      <th>4</th>\n",
       "      <td>7.4</td>\n",
       "      <td>0.35</td>\n",
       "      <td>0.20</td>\n",
       "      <td>13.9</td>\n",
       "      <td>0.054</td>\n",
       "      <td>63.0</td>\n",
       "      <td>229.0</td>\n",
       "      <td>0.99888</td>\n",
       "      <td>3.11</td>\n",
       "      <td>0.50</td>\n",
       "      <td>8.9</td>\n",
       "      <td>6</td>\n",
       "      <td>white</td>\n",
       "      <td>medium</td>\n",
       "    </tr>\n",
       "  </tbody>\n",
       "</table>\n",
       "</div>"
      ],
      "text/plain": [
       "   fixed acidity  volatile acidity  citric acid  residual sugar  chlorides  \\\n",
       "0            7.0              0.17         0.74            12.8      0.045   \n",
       "1            7.7              0.64         0.21             2.2      0.077   \n",
       "2            6.8              0.39         0.34             7.4      0.020   \n",
       "3            6.3              0.28         0.47            11.2      0.040   \n",
       "4            7.4              0.35         0.20            13.9      0.054   \n",
       "\n",
       "   free sulfur dioxide  total sulfur dioxide  density    pH  sulphates  \\\n",
       "0                 24.0                 126.0  0.99420  3.26       0.38   \n",
       "1                 32.0                 133.0  0.99560  3.27       0.45   \n",
       "2                 38.0                 133.0  0.99212  3.18       0.44   \n",
       "3                 61.0                 183.0  0.99592  3.12       0.51   \n",
       "4                 63.0                 229.0  0.99888  3.11       0.50   \n",
       "\n",
       "   alcohol  quality wine_type quality_label  \n",
       "0     12.2        8     white          high  \n",
       "1      9.9        5       red           low  \n",
       "2     12.0        7     white        medium  \n",
       "3      9.5        6     white        medium  \n",
       "4      8.9        6     white        medium  "
      ]
     },
     "execution_count": 3,
     "metadata": {},
     "output_type": "execute_result"
    }
   ],
   "source": [
    "wines.head()"
   ]
  },
  {
   "cell_type": "markdown",
   "metadata": {},
   "source": [
    "### Entendimiento del Negocio/Problema\n",
    "\n",
    "El vino es una bebida alcohólica hecha a partir de uvas que se fermenta sin la adición de azúcares, ácidos, enzimas, agua, u otros nutrientes.\n",
    "\n",
    "El vino tinto se elabora con uvas rojas y negras oscuras. El color varía normalmente de varios tonos de rojo, azul y violeta. Esto se produce con uvas enteras incluyendo la piel, que se suma al color y sabor de vino tinto.\n",
    "\n",
    "\n",
    "El vino blanco se elabora con uvas blancas sin piel o semillas. El color es generalmente de color amarillo pajizo, amarillo-verde o amarillo-oro. La mayoría de los vinos blancos tienen un sabor ligero y afrutado, en comparación con los vinos tintos\n",
    "\n",
    "### Entendimiento de las propiedades de los vinos (nuestras variables) \n",
    "\n",
    "\n",
    "- **fixed acidity (Ácidos Fijos):** Los ácidos son una de las propiedades fundamentales de vino y contribuyen en gran medida al sabor del vino. Significativamente reducir el ácido podría conducir a un sabor plano. Los ácidos fijos incluyen tartárico, málico, cítrico y ácido succínico, que se encuentra en las uvas (excepto succínico). Esta variable se expresa generalmente en $\\frac{g(tartaricacid)}{dm^3}$ en el dataset.\n",
    "\n",
    "\n",
    "- **volatile acidity (Ácido Volatil):** Estos ácidos se generan al separarse por destilación del vino antes de completar el proceso de producción. Está constituido principalmente de ácido acético aunque otros ácidos como láctico, ácido butírico y fórmico también pueden estar presentes. El exceso de ácidos volátiles son indeseables y dan lugar a un sabor desagradable. En los EE.UU., los límites legales de acidez volátil son 1,2 g / 50 para el vino tinto de mesa y 1,1 g / 50 para el vino blanco de mesa. La acidez volátil es expresada en $\\frac{g(aceticacid)}{dm^3}$ en el dataset.\n",
    "\n",
    "\n",
    "- **citric acid (Ácido Cítrico):** Este es uno de los ácidos fijos que da al vino su frescura. Por lo general, la mayor parte se consume durante el proceso de fermentación y, a veces se añade por separado para dar el vino más frescura. Por lo general se expresa en $\\frac{g}{dm^3}$ en el dataset.\n",
    "\n",
    "\n",
    "- **residual sugar (Azucar Residual):** Esto se refiere típicamente al azúcar natural de la uva que permanece luego de que el proceso de fermentación se detiene, o se detuvo. Por lo general se expresa en $\\frac{g}{dm^3}$ en el dataset.\n",
    "\n",
    "\n",
    "- **chlorides (Cloruros):** Esto suele ser un importante contribuyente a la salinidad en el vino. Por lo general se expresa en $\\frac{g(sodiumchloride)}{dm^3}$ en el dataset.\n",
    "\n",
    "\n",
    "- **free sulfur dioxide (Dióxido de Azufre libre):** Esta es la parte del dióxido de azufre que cuando se añade a un vino se dice que es libre después de la ligante parte restante. Los Enólogos siempre tratarán de conseguir la más alta proporción de azufre libre de unirse. También son conocidos como los sulfitos y demasiado de él no es deseable y da un olor a acre. Esta variable se expresa en $\\frac{mg}{dm^3}$ en el dataset.\n",
    "\n",
    "\n",
    "- **total sulfur dioxide (Total de Dióxido de Azufre):** Esta es la suma total de el dióxido de azufre libre ($SO_2$).Está expresado en $\\frac{mg}{dm^3}$. Esto se añade principalmente para matar las bacterias dañinas y preservar su calidad y frescura. Por lo general hay límites legales de los niveles de azufre en el vino y el exceso de la misma, incluso pueden matar a una buena levadura y dar un olor indeseable.\n",
    "\n",
    "\n",
    "- **density (Densidad):** Esto se puede representar como una comparación del peso de un volumen específico de vino a un volumen equivalente de agua. Se utiliza generalmente como una medida de la conversión de azúcar en alcohol. Se expresa en $\\frac{g}{cm^3}$.\n",
    "\n",
    "\n",
    "- **pH:** También conocido como el potencial de hidrógeno, esto es una escala numérica para especificar la acidez o basicidad del vino. La acidez fija contribuye en mayor medida hacia el pH de los vinos. Soluciones con un pH inferior a 7 son ácidas, mientras que las soluciones con un pH mayor que 7 son básicas. Con un pH de 7, el agua pura es neutra. La mayoría de los vinos tienen un pH entre 2,9 y 3,9 y por lo tanto son demasiado ácidos.\n",
    "\n",
    "\n",
    "- **sulphates (Sulfatos):** Estos son sales minerales que contiene azufre. Sulfatos son al vino como el pegamento es a la alimentación. Ellos son una parte regular de la elaboración del vino en todo el mundo y se consideran esenciales. Están conectados al proceso de fermentación y afecta el aroma y el sabor del vino. Se expresan en $\\frac{g(potassiumsulphate)}{dm^3}$ en el dataset.\n",
    "\n",
    "\n",
    "- **alcohol:** El vino es una bebida alcohólica. El alcohol se forma como resultado de la conversión de la levadura en azúcar durante el proceso de fermentación. El porcentaje de alcohol puede variar de un vino a otro. Por lo tanto no es una sorpresa para este atributo a ser parte de este conjunto de datos. Por lo general se mide en% vol o alcohol por volumen.\n",
    "\n",
    "\n",
    "- **quality (Calidad):** Expertos en vino calificaron la calidad del vino entre 0 (muy malo) y 10 (muy excelentes). La puntuación de la calidad final es la media de al menos tres evaluaciones realizadas por los mismos expertos en vino.\n",
    "\n",
    "\n",
    "- **wine_type (Tipo de Vino):** Ya que originalmente se tenían dos conjuntos de datos para el vino tinto y blanco, se introdujo este atributo en el conjunto de datos resultante de la fusión final que indica el tipo de vino para cada punto de datos. Un vino puede ser 'tinto' o un vino 'blanco'. \n",
    "\n",
    "\n",
    "- **quality_label (Tipo de Calidad):** Este es un atributo derivado del atributo `Calidad`. Las puntuaciones de calidad del vino se agrupan en tres grupos cualitativamente, baja, media y alta calidad. Los vinos de calidad con una puntuación de 1, 2 ,3, 4 y 5 son de baja calidad, las puntuaciones de 6 y 7 son de calidad media decenas de 8, 9 y 10 son vinos de alta calidad. . "
   ]
  },
  {
   "cell_type": "markdown",
   "metadata": {},
   "source": [
    "# Media"
   ]
  },
  {
   "cell_type": "code",
   "execution_count": null,
   "metadata": {},
   "outputs": [],
   "source": []
  },
  {
   "cell_type": "markdown",
   "metadata": {},
   "source": [
    "# Mediana"
   ]
  },
  {
   "cell_type": "code",
   "execution_count": null,
   "metadata": {},
   "outputs": [],
   "source": []
  },
  {
   "cell_type": "markdown",
   "metadata": {},
   "source": [
    "# Desvío Estandar"
   ]
  },
  {
   "cell_type": "code",
   "execution_count": null,
   "metadata": {},
   "outputs": [],
   "source": []
  },
  {
   "cell_type": "markdown",
   "metadata": {},
   "source": [
    "# Cuantiles"
   ]
  },
  {
   "cell_type": "code",
   "execution_count": null,
   "metadata": {},
   "outputs": [],
   "source": []
  },
  {
   "cell_type": "markdown",
   "metadata": {},
   "source": [
    "# describe"
   ]
  },
  {
   "cell_type": "code",
   "execution_count": null,
   "metadata": {},
   "outputs": [],
   "source": []
  }
 ],
 "metadata": {
  "anaconda-cloud": {},
  "kernelspec": {
   "display_name": "Python 3",
   "language": "python",
   "name": "python3"
  },
  "language_info": {
   "codemirror_mode": {
    "name": "ipython",
    "version": 3
   },
   "file_extension": ".py",
   "mimetype": "text/x-python",
   "name": "python",
   "nbconvert_exporter": "python",
   "pygments_lexer": "ipython3",
   "version": "3.7.6"
  }
 },
 "nbformat": 4,
 "nbformat_minor": 1
}
