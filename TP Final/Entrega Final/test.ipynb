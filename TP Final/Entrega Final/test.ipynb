{
 "cells": [
  {
   "cell_type": "code",
   "metadata": {
    "cell_id": "a99940aa-755a-4722-a1da-814a27defd27",
    "deepnote_to_be_reexecuted": false,
    "source_hash": "9b82ee11",
    "execution_start": 1653595488101,
    "execution_millis": 2,
    "deepnote_cell_type": "code",
    "deepnote_cell_height": 81
   },
   "source": "import pandas as pd",
   "execution_count": null,
   "outputs": []
  },
  {
   "cell_type": "code",
   "metadata": {
    "cell_id": "00001-b06fea72-6493-484a-84c7-436bec1d74e9",
    "deepnote_to_be_reexecuted": false,
    "source_hash": "6a77453d",
    "execution_start": 1653595490794,
    "execution_millis": 2066,
    "deepnote_cell_type": "code",
    "deepnote_cell_height": 81
   },
   "source": "import matplotlib.pyplot as plt",
   "execution_count": null,
   "outputs": []
  },
  {
   "cell_type": "code",
   "metadata": {
    "cell_id": "00002-3dff1345-3f6a-4711-8f67-e1c8efbd33e0",
    "deepnote_to_be_reexecuted": false,
    "source_hash": "43ceef9",
    "execution_start": 1653509053297,
    "execution_millis": 768,
    "deepnote_cell_type": "code",
    "deepnote_cell_height": 81
   },
   "source": "df_00s = pd.read_csv('/datasets/datasets-spotify/dataset-of-00s.csv')",
   "execution_count": null,
   "outputs": []
  },
  {
   "cell_type": "code",
   "metadata": {
    "cell_id": "00003-481bb8ff-9f14-46ff-9400-6161d7111654",
    "deepnote_to_be_reexecuted": false,
    "source_hash": "eb0cd61b",
    "execution_start": 1653595493464,
    "execution_millis": 460,
    "deepnote_cell_type": "code",
    "deepnote_cell_height": 81
   },
   "source": "df_10s = pd.read_csv('/datasets/datasets-spotify/dataset-of-10s.csv')",
   "execution_count": null,
   "outputs": []
  },
  {
   "cell_type": "code",
   "metadata": {
    "cell_id": "00004-2b780522-e1bd-410f-ab59-2d34b037068e",
    "deepnote_to_be_reexecuted": true,
    "source_hash": "3df4167b",
    "execution_start": 1653361862298,
    "execution_millis": 221,
    "deepnote_cell_type": "code",
    "deepnote_cell_height": 81
   },
   "source": "df_90s = pd.read_csv('/datasets/datasets-spotify/dataset-of-90s.csv')",
   "execution_count": null,
   "outputs": []
  },
  {
   "cell_type": "code",
   "metadata": {
    "cell_id": "00005-b7e33141-93f4-4417-8a24-dce181bdf9ff",
    "deepnote_to_be_reexecuted": true,
    "source_hash": "145d42df",
    "execution_start": 1653361862528,
    "execution_millis": 256,
    "deepnote_cell_type": "code",
    "deepnote_cell_height": 81
   },
   "source": "df_80s = pd.read_csv('/datasets/datasets-spotify/dataset-of-80s.csv')",
   "execution_count": null,
   "outputs": []
  },
  {
   "cell_type": "code",
   "metadata": {
    "cell_id": "00006-28c63519-2189-4472-9e70-c02785ca65e8",
    "deepnote_to_be_reexecuted": true,
    "source_hash": "99b2d658",
    "execution_start": 1653361862793,
    "execution_millis": 248,
    "deepnote_cell_type": "code",
    "deepnote_cell_height": 81
   },
   "source": "df_70s = pd.read_csv('/datasets/datasets-spotify/dataset-of-70s.csv')",
   "execution_count": null,
   "outputs": []
  },
  {
   "cell_type": "code",
   "metadata": {
    "cell_id": "00007-0ba3d401-9c2e-405b-a9b3-dfa0aaef90ad",
    "deepnote_to_be_reexecuted": true,
    "source_hash": "b623e53d",
    "execution_start": 1653361863047,
    "execution_millis": 7,
    "deepnote_cell_type": "code",
    "deepnote_cell_height": 81
   },
   "source": "",
   "execution_count": null,
   "outputs": []
  },
  {
   "cell_type": "code",
   "metadata": {
    "cell_id": "00008-5345e7bd-bbb9-4761-83cf-09e7256e6585",
    "deepnote_to_be_reexecuted": true,
    "source_hash": "6a147ecf",
    "execution_start": 1653361863069,
    "execution_millis": 72,
    "deepnote_cell_type": "code",
    "deepnote_cell_height": 271.6875,
    "deepnote_output_heights": [
     174.6875
    ]
   },
   "source": "df_10s['time_signature'].describe()",
   "execution_count": null,
   "outputs": [
    {
     "output_type": "execute_result",
     "execution_count": 8,
     "data": {
      "text/plain": "count    6398.000000\nmean        3.930916\nstd         0.377469\nmin         0.000000\n25%         4.000000\n50%         4.000000\n75%         4.000000\nmax         5.000000\nName: time_signature, dtype: float64"
     },
     "metadata": {}
    }
   ]
  },
  {
   "cell_type": "code",
   "metadata": {
    "cell_id": "00009-48fba115-2cf1-41bc-88eb-d74270650cb5",
    "deepnote_to_be_reexecuted": true,
    "source_hash": "27b439c6",
    "execution_start": 1653361863146,
    "execution_millis": 61,
    "deepnote_table_state": {
     "pageSize": 10,
     "pageIndex": 0,
     "filters": [],
     "sortBy": []
    },
    "deepnote_table_loading": false,
    "deepnote_cell_type": "code",
    "deepnote_cell_height": 600
   },
   "source": "df_10s.loc[(df_10s['danceability'] > 0.9),['track', 'artist','danceability','tempo','chorus_hit']]",
   "execution_count": null,
   "outputs": [
    {
     "output_type": "execute_result",
     "execution_count": 20,
     "data": {
      "application/vnd.deepnote.dataframe.v3+json": {
       "column_count": 5,
       "row_count": 133,
       "columns": [
        {
         "name": "track",
         "dtype": "object",
         "stats": {
          "unique_count": 132,
          "nan_count": 0,
          "categories": [
           {
            "name": "Funk-O-Holic",
            "count": 2
           },
           {
            "name": "Butterfly Doors",
            "count": 1
           },
           {
            "name": "130 others",
            "count": 130
           }
          ]
         }
        },
        {
         "name": "artist",
         "dtype": "object",
         "stats": {
          "unique_count": 113,
          "nan_count": 0,
          "categories": [
           {
            "name": "Joey Trap",
            "count": 6
           },
           {
            "name": "Young Thug",
            "count": 4
           },
           {
            "name": "111 others",
            "count": 123
           }
          ]
         }
        },
        {
         "name": "danceability",
         "dtype": "float64",
         "stats": {
          "unique_count": 61,
          "nan_count": 0,
          "min": "0.901",
          "max": "0.981",
          "histogram": [
           {
            "bin_start": 0.901,
            "bin_end": 0.909,
            "count": 20
           },
           {
            "bin_start": 0.909,
            "bin_end": 0.917,
            "count": 19
           },
           {
            "bin_start": 0.917,
            "bin_end": 0.925,
            "count": 18
           },
           {
            "bin_start": 0.925,
            "bin_end": 0.933,
            "count": 22
           },
           {
            "bin_start": 0.933,
            "bin_end": 0.9410000000000001,
            "count": 17
           },
           {
            "bin_start": 0.9410000000000001,
            "bin_end": 0.949,
            "count": 8
           },
           {
            "bin_start": 0.949,
            "bin_end": 0.957,
            "count": 10
           },
           {
            "bin_start": 0.957,
            "bin_end": 0.965,
            "count": 9
           },
           {
            "bin_start": 0.965,
            "bin_end": 0.973,
            "count": 5
           },
           {
            "bin_start": 0.973,
            "bin_end": 0.981,
            "count": 5
           }
          ]
         }
        },
        {
         "name": "tempo",
         "dtype": "float64",
         "stats": {
          "unique_count": 128,
          "nan_count": 0,
          "min": "85.018",
          "max": "154.983",
          "histogram": [
           {
            "bin_start": 85.018,
            "bin_end": 92.0145,
            "count": 4
           },
           {
            "bin_start": 92.0145,
            "bin_end": 99.011,
            "count": 15
           },
           {
            "bin_start": 99.011,
            "bin_end": 106.0075,
            "count": 11
           },
           {
            "bin_start": 106.0075,
            "bin_end": 113.004,
            "count": 13
           },
           {
            "bin_start": 113.004,
            "bin_end": 120.0005,
            "count": 9
           },
           {
            "bin_start": 120.0005,
            "bin_end": 126.997,
            "count": 31
           },
           {
            "bin_start": 126.997,
            "bin_end": 133.9935,
            "count": 21
           },
           {
            "bin_start": 133.9935,
            "bin_end": 140.99,
            "count": 21
           },
           {
            "bin_start": 140.99,
            "bin_end": 147.9865,
            "count": 5
           },
           {
            "bin_start": 147.9865,
            "bin_end": 154.983,
            "count": 3
           }
          ]
         }
        },
        {
         "name": "chorus_hit",
         "dtype": "float64",
         "stats": {
          "unique_count": 130,
          "nan_count": 0,
          "min": "16.68816",
          "max": "128.38386",
          "histogram": [
           {
            "bin_start": 16.68816,
            "bin_end": 27.85773,
            "count": 20
           },
           {
            "bin_start": 27.85773,
            "bin_end": 39.0273,
            "count": 52
           },
           {
            "bin_start": 39.0273,
            "bin_end": 50.196870000000004,
            "count": 29
           },
           {
            "bin_start": 50.196870000000004,
            "bin_end": 61.36644,
            "count": 18
           },
           {
            "bin_start": 61.36644,
            "bin_end": 72.53601,
            "count": 6
           },
           {
            "bin_start": 72.53601,
            "bin_end": 83.70558,
            "count": 5
           },
           {
            "bin_start": 83.70558,
            "bin_end": 94.87515,
            "count": 1
           },
           {
            "bin_start": 94.87515,
            "bin_end": 106.04472,
            "count": 1
           },
           {
            "bin_start": 106.04472,
            "bin_end": 117.21428999999999,
            "count": 0
           },
           {
            "bin_start": 117.21428999999999,
            "bin_end": 128.38386,
            "count": 1
           }
          ]
         }
        },
        {
         "name": "_deepnote_index_column",
         "dtype": "int64"
        }
       ],
       "rows": [
        {
         "track": "Butterfly Doors",
         "artist": "Lil Pump",
         "danceability": 0.925,
         "tempo": 130.008,
         "chorus_hit": 51.23142,
         "_deepnote_index_column": 47
        },
        {
         "track": "Red Room",
         "artist": "Offset",
         "danceability": 0.936,
         "tempo": 112.347,
         "chorus_hit": 30.46901,
         "_deepnote_index_column": 95
        },
        {
         "track": "No Complaints",
         "artist": "Metro Boomin Featuring Offset & Drake",
         "danceability": 0.913,
         "tempo": 123.975,
         "chorus_hit": 28.656,
         "_deepnote_index_column": 171
        },
        {
         "track": "Chanel (Go Get It)",
         "artist": "Young Thug Featuring Gunna & Lil Baby",
         "danceability": 0.938,
         "tempo": 140.011,
         "chorus_hit": 25.73629,
         "_deepnote_index_column": 221
        },
        {
         "track": "Bad And Boujee",
         "artist": "Migos Featuring Lil Uzi Vert",
         "danceability": 0.927,
         "tempo": 127.076,
         "chorus_hit": 47.37726,
         "_deepnote_index_column": 226
        },
        {
         "track": "Bad Liar",
         "artist": "Selena Gomez",
         "danceability": 0.965,
         "tempo": 121.032,
         "chorus_hit": 40.67693,
         "_deepnote_index_column": 313
        },
        {
         "track": "I Love It",
         "artist": "Kanye West & Lil Pump",
         "danceability": 0.901,
         "tempo": 104.053,
         "chorus_hit": 54.54286,
         "_deepnote_index_column": 394
        },
        {
         "track": "Best Friend",
         "artist": "Young Thug",
         "danceability": 0.959,
         "tempo": 127.029,
         "chorus_hit": 46.84761,
         "_deepnote_index_column": 400
        },
        {
         "track": "Splashin",
         "artist": "Rich The Kid",
         "danceability": 0.942,
         "tempo": 100.017,
         "chorus_hit": 34.99647,
         "_deepnote_index_column": 432
        },
        {
         "track": "Make Love",
         "artist": "Gucci Mane & Nicki Minaj",
         "danceability": 0.972,
         "tempo": 129.984,
         "chorus_hit": 76.75199,
         "_deepnote_index_column": 514
        }
       ]
      },
      "text/plain": "                              track  \\\n47                  Butterfly Doors   \n95                         Red Room   \n171                   No Complaints   \n221              Chanel (Go Get It)   \n226                  Bad And Boujee   \n...                             ...   \n6225                           Surf   \n6273           Funk-O-Holic - Mixed   \n6286  Neighbor (feat. Travis Scott)   \n6355                        Te Bote   \n6394              Calling My Spirit   \n\n                                                 artist  danceability  \\\n47                                             Lil Pump         0.925   \n95                                               Offset         0.936   \n171               Metro Boomin Featuring Offset & Drake         0.913   \n221               Young Thug Featuring Gunna & Lil Baby         0.938   \n226                        Migos Featuring Lil Uzi Vert         0.927   \n...                                                 ...           ...   \n6225                         Young Thug Featuring Gunna         0.930   \n6273                                         C. Da Afro         0.920   \n6286                                            Juicy J         0.921   \n6355  Casper Magico, Nio Garcia, Darell, Nicky Jam, ...         0.903   \n6394                                        Kodak Black         0.910   \n\n        tempo  chorus_hit  \n47    130.008    51.23142  \n95    112.347    30.46901  \n171   123.975    28.65600  \n221   140.011    25.73629  \n226   127.076    47.37726  \n...       ...         ...  \n6225  140.987    43.05382  \n6273  118.006    32.04810  \n6286  139.979    21.88406  \n6355   96.507    32.38844  \n6394  119.985    32.53856  \n\n[133 rows x 5 columns]",
      "text/html": "<div>\n<style scoped>\n    .dataframe tbody tr th:only-of-type {\n        vertical-align: middle;\n    }\n\n    .dataframe tbody tr th {\n        vertical-align: top;\n    }\n\n    .dataframe thead th {\n        text-align: right;\n    }\n</style>\n<table border=\"1\" class=\"dataframe\">\n  <thead>\n    <tr style=\"text-align: right;\">\n      <th></th>\n      <th>track</th>\n      <th>artist</th>\n      <th>danceability</th>\n      <th>tempo</th>\n      <th>chorus_hit</th>\n    </tr>\n  </thead>\n  <tbody>\n    <tr>\n      <th>47</th>\n      <td>Butterfly Doors</td>\n      <td>Lil Pump</td>\n      <td>0.925</td>\n      <td>130.008</td>\n      <td>51.23142</td>\n    </tr>\n    <tr>\n      <th>95</th>\n      <td>Red Room</td>\n      <td>Offset</td>\n      <td>0.936</td>\n      <td>112.347</td>\n      <td>30.46901</td>\n    </tr>\n    <tr>\n      <th>171</th>\n      <td>No Complaints</td>\n      <td>Metro Boomin Featuring Offset &amp; Drake</td>\n      <td>0.913</td>\n      <td>123.975</td>\n      <td>28.65600</td>\n    </tr>\n    <tr>\n      <th>221</th>\n      <td>Chanel (Go Get It)</td>\n      <td>Young Thug Featuring Gunna &amp; Lil Baby</td>\n      <td>0.938</td>\n      <td>140.011</td>\n      <td>25.73629</td>\n    </tr>\n    <tr>\n      <th>226</th>\n      <td>Bad And Boujee</td>\n      <td>Migos Featuring Lil Uzi Vert</td>\n      <td>0.927</td>\n      <td>127.076</td>\n      <td>47.37726</td>\n    </tr>\n    <tr>\n      <th>...</th>\n      <td>...</td>\n      <td>...</td>\n      <td>...</td>\n      <td>...</td>\n      <td>...</td>\n    </tr>\n    <tr>\n      <th>6225</th>\n      <td>Surf</td>\n      <td>Young Thug Featuring Gunna</td>\n      <td>0.930</td>\n      <td>140.987</td>\n      <td>43.05382</td>\n    </tr>\n    <tr>\n      <th>6273</th>\n      <td>Funk-O-Holic - Mixed</td>\n      <td>C. Da Afro</td>\n      <td>0.920</td>\n      <td>118.006</td>\n      <td>32.04810</td>\n    </tr>\n    <tr>\n      <th>6286</th>\n      <td>Neighbor (feat. Travis Scott)</td>\n      <td>Juicy J</td>\n      <td>0.921</td>\n      <td>139.979</td>\n      <td>21.88406</td>\n    </tr>\n    <tr>\n      <th>6355</th>\n      <td>Te Bote</td>\n      <td>Casper Magico, Nio Garcia, Darell, Nicky Jam, ...</td>\n      <td>0.903</td>\n      <td>96.507</td>\n      <td>32.38844</td>\n    </tr>\n    <tr>\n      <th>6394</th>\n      <td>Calling My Spirit</td>\n      <td>Kodak Black</td>\n      <td>0.910</td>\n      <td>119.985</td>\n      <td>32.53856</td>\n    </tr>\n  </tbody>\n</table>\n<p>133 rows × 5 columns</p>\n</div>"
     },
     "metadata": {}
    }
   ]
  },
  {
   "cell_type": "code",
   "metadata": {
    "cell_id": "00010-8849f0b7-7a9e-4067-8dd1-4c47819022ab",
    "deepnote_to_be_reexecuted": true,
    "source_hash": "b623e53d",
    "execution_start": 1653361863256,
    "execution_millis": 0,
    "deepnote_cell_type": "code",
    "deepnote_cell_height": 81
   },
   "source": "",
   "execution_count": null,
   "outputs": []
  },
  {
   "cell_type": "code",
   "metadata": {
    "cell_id": "00011-40f1fbcf-2b82-42e2-9543-dfe8b61b82f4",
    "deepnote_to_be_reexecuted": true,
    "source_hash": "d9544c5e",
    "execution_start": 1653361863286,
    "execution_millis": 2,
    "deepnote_cell_type": "code",
    "deepnote_cell_height": 600
   },
   "source": "df_90s.loc[df_90s['danceability'] > 0.9,['track', 'artist','danceability','tempo']]",
   "execution_count": null,
   "outputs": [
    {
     "output_type": "execute_result",
     "execution_count": 10,
     "data": {
      "application/vnd.deepnote.dataframe.v3+json": {
       "column_count": 4,
       "row_count": 63,
       "columns": [
        {
         "name": "track",
         "dtype": "object",
         "stats": {
          "unique_count": 63,
          "nan_count": 0,
          "categories": [
           {
            "name": "Shoop",
            "count": 1
           },
           {
            "name": "Knockin' Boots",
            "count": 1
           },
           {
            "name": "61 others",
            "count": 61
           }
          ]
         }
        },
        {
         "name": "artist",
         "dtype": "object",
         "stats": {
          "unique_count": 56,
          "nan_count": 0,
          "categories": [
           {
            "name": "Salt-N-Pepa",
            "count": 2
           },
           {
            "name": "Candyman",
            "count": 2
           },
           {
            "name": "54 others",
            "count": 59
           }
          ]
         }
        },
        {
         "name": "danceability",
         "dtype": "float64",
         "stats": {
          "unique_count": 41,
          "nan_count": 0,
          "min": "0.901",
          "max": "0.979",
          "histogram": [
           {
            "bin_start": 0.901,
            "bin_end": 0.9088,
            "count": 13
           },
           {
            "bin_start": 0.9088,
            "bin_end": 0.9166,
            "count": 7
           },
           {
            "bin_start": 0.9166,
            "bin_end": 0.9244,
            "count": 7
           },
           {
            "bin_start": 0.9244,
            "bin_end": 0.9322,
            "count": 10
           },
           {
            "bin_start": 0.9322,
            "bin_end": 0.94,
            "count": 9
           },
           {
            "bin_start": 0.94,
            "bin_end": 0.9478,
            "count": 8
           },
           {
            "bin_start": 0.9478,
            "bin_end": 0.9556,
            "count": 3
           },
           {
            "bin_start": 0.9556,
            "bin_end": 0.9634,
            "count": 2
           },
           {
            "bin_start": 0.9634,
            "bin_end": 0.9712,
            "count": 2
           },
           {
            "bin_start": 0.9712,
            "bin_end": 0.979,
            "count": 2
           }
          ]
         }
        },
        {
         "name": "tempo",
         "dtype": "float64",
         "stats": {
          "unique_count": 63,
          "nan_count": 0,
          "min": "90.458",
          "max": "135.959",
          "histogram": [
           {
            "bin_start": 90.458,
            "bin_end": 95.0081,
            "count": 6
           },
           {
            "bin_start": 95.0081,
            "bin_end": 99.5582,
            "count": 9
           },
           {
            "bin_start": 99.5582,
            "bin_end": 104.1083,
            "count": 18
           },
           {
            "bin_start": 104.1083,
            "bin_end": 108.6584,
            "count": 9
           },
           {
            "bin_start": 108.6584,
            "bin_end": 113.2085,
            "count": 2
           },
           {
            "bin_start": 113.2085,
            "bin_end": 117.7586,
            "count": 7
           },
           {
            "bin_start": 117.7586,
            "bin_end": 122.3087,
            "count": 3
           },
           {
            "bin_start": 122.3087,
            "bin_end": 126.8588,
            "count": 3
           },
           {
            "bin_start": 126.8588,
            "bin_end": 131.40890000000002,
            "count": 4
           },
           {
            "bin_start": 131.40890000000002,
            "bin_end": 135.959,
            "count": 2
           }
          ]
         }
        },
        {
         "name": "_deepnote_index_column",
         "dtype": "int64"
        }
       ],
       "rows": [
        {
         "track": "Shoop",
         "artist": "Salt-N-Pepa",
         "danceability": 0.939,
         "tempo": 96.918,
         "_deepnote_index_column": 133
        },
        {
         "track": "Knockin' Boots",
         "artist": "Candyman",
         "danceability": 0.94,
         "tempo": 101.403,
         "_deepnote_index_column": 251
        },
        {
         "track": "Got Your Money",
         "artist": "Ol' Dirty Bastard Featuring Kelis",
         "danceability": 0.934,
         "tempo": 103.04,
         "_deepnote_index_column": 302
        },
        {
         "track": "I Can't Dance",
         "artist": "Genesis",
         "danceability": 0.914,
         "tempo": 107.557,
         "_deepnote_index_column": 306
        },
        {
         "track": "Foe Life",
         "artist": "Mack 10",
         "danceability": 0.917,
         "tempo": 91.082,
         "_deepnote_index_column": 386
        },
        {
         "track": "Jump On It",
         "artist": "Sir Mix-A-Lot",
         "danceability": 0.908,
         "tempo": 113.974,
         "_deepnote_index_column": 461
        },
        {
         "track": "Treat 'Em Right",
         "artist": "Chubb Rock",
         "danceability": 0.932,
         "tempo": 116.351,
         "_deepnote_index_column": 482
        },
        {
         "track": "Can't Nobody Hold Me Down",
         "artist": "Puff Daddy (Featuring Mase)",
         "danceability": 0.928,
         "tempo": 93.987,
         "_deepnote_index_column": 649
        },
        {
         "track": "Dangerous",
         "artist": "Busta Rhymes",
         "danceability": 0.913,
         "tempo": 103.268,
         "_deepnote_index_column": 651
        },
        {
         "track": "Pimp Of The Year",
         "artist": "Dru Down",
         "danceability": 0.931,
         "tempo": 101.064,
         "_deepnote_index_column": 914
        }
       ]
      },
      "text/plain": "                                track                                artist  \\\n133                             Shoop                           Salt-N-Pepa   \n251                    Knockin' Boots                              Candyman   \n302                    Got Your Money     Ol' Dirty Bastard Featuring Kelis   \n306                     I Can't Dance                               Genesis   \n386                          Foe Life                               Mack 10   \n...                               ...                                   ...   \n4961  I Wonder If Heaven Got A Ghetto                                  2Pac   \n4966                        Cowabunga          Teenage Mutant Ninja Turtles   \n5043                    Vivrant Thing                                 Q-Tip   \n5083          Sonho de Metal / Opalão                                   GOG   \n5376                    You Can Do It  Ice Cube Featuring Mack 10 & Ms. Toi   \n\n      danceability    tempo  \n133          0.939   96.918  \n251          0.940  101.403  \n302          0.934  103.040  \n306          0.914  107.557  \n386          0.917   91.082  \n...            ...      ...  \n4961         0.928  108.054  \n4966         0.903  106.994  \n5043         0.914   99.034  \n5083         0.940  102.564  \n5376         0.946   99.883  \n\n[63 rows x 4 columns]",
      "text/html": "<div>\n<style scoped>\n    .dataframe tbody tr th:only-of-type {\n        vertical-align: middle;\n    }\n\n    .dataframe tbody tr th {\n        vertical-align: top;\n    }\n\n    .dataframe thead th {\n        text-align: right;\n    }\n</style>\n<table border=\"1\" class=\"dataframe\">\n  <thead>\n    <tr style=\"text-align: right;\">\n      <th></th>\n      <th>track</th>\n      <th>artist</th>\n      <th>danceability</th>\n      <th>tempo</th>\n    </tr>\n  </thead>\n  <tbody>\n    <tr>\n      <th>133</th>\n      <td>Shoop</td>\n      <td>Salt-N-Pepa</td>\n      <td>0.939</td>\n      <td>96.918</td>\n    </tr>\n    <tr>\n      <th>251</th>\n      <td>Knockin' Boots</td>\n      <td>Candyman</td>\n      <td>0.940</td>\n      <td>101.403</td>\n    </tr>\n    <tr>\n      <th>302</th>\n      <td>Got Your Money</td>\n      <td>Ol' Dirty Bastard Featuring Kelis</td>\n      <td>0.934</td>\n      <td>103.040</td>\n    </tr>\n    <tr>\n      <th>306</th>\n      <td>I Can't Dance</td>\n      <td>Genesis</td>\n      <td>0.914</td>\n      <td>107.557</td>\n    </tr>\n    <tr>\n      <th>386</th>\n      <td>Foe Life</td>\n      <td>Mack 10</td>\n      <td>0.917</td>\n      <td>91.082</td>\n    </tr>\n    <tr>\n      <th>...</th>\n      <td>...</td>\n      <td>...</td>\n      <td>...</td>\n      <td>...</td>\n    </tr>\n    <tr>\n      <th>4961</th>\n      <td>I Wonder If Heaven Got A Ghetto</td>\n      <td>2Pac</td>\n      <td>0.928</td>\n      <td>108.054</td>\n    </tr>\n    <tr>\n      <th>4966</th>\n      <td>Cowabunga</td>\n      <td>Teenage Mutant Ninja Turtles</td>\n      <td>0.903</td>\n      <td>106.994</td>\n    </tr>\n    <tr>\n      <th>5043</th>\n      <td>Vivrant Thing</td>\n      <td>Q-Tip</td>\n      <td>0.914</td>\n      <td>99.034</td>\n    </tr>\n    <tr>\n      <th>5083</th>\n      <td>Sonho de Metal / Opalão</td>\n      <td>GOG</td>\n      <td>0.940</td>\n      <td>102.564</td>\n    </tr>\n    <tr>\n      <th>5376</th>\n      <td>You Can Do It</td>\n      <td>Ice Cube Featuring Mack 10 &amp; Ms. Toi</td>\n      <td>0.946</td>\n      <td>99.883</td>\n    </tr>\n  </tbody>\n</table>\n<p>63 rows × 4 columns</p>\n</div>"
     },
     "metadata": {}
    }
   ]
  },
  {
   "cell_type": "code",
   "metadata": {
    "cell_id": "00012-36dbb7dd-cf72-4605-baaf-1fcbe864475f",
    "deepnote_to_be_reexecuted": false,
    "source_hash": "a39daae3",
    "execution_start": 1653509037617,
    "execution_millis": 15,
    "deepnote_cell_type": "code",
    "deepnote_cell_height": 144.1875
   },
   "source": "df_80s.loc[df_80s['danceability'] > 0.9,['track', 'artist','danceability','tempo']]",
   "execution_count": null,
   "outputs": [
    {
     "output_type": "error",
     "ename": "NameError",
     "evalue": "name 'df_80s' is not defined",
     "traceback": [
      "\u001b[0;31m---------------------------------------------------------------------------\u001b[0m",
      "\u001b[0;31mNameError\u001b[0m                                 Traceback (most recent call last)",
      "\u001b[0;32m<ipython-input-3-b7566f5c52b6>\u001b[0m in \u001b[0;36m<module>\u001b[0;34m\u001b[0m\n\u001b[0;32m----> 1\u001b[0;31m \u001b[0mdf_80s\u001b[0m\u001b[0;34m.\u001b[0m\u001b[0mloc\u001b[0m\u001b[0;34m[\u001b[0m\u001b[0mdf_80s\u001b[0m\u001b[0;34m[\u001b[0m\u001b[0;34m'danceability'\u001b[0m\u001b[0;34m]\u001b[0m \u001b[0;34m>\u001b[0m \u001b[0;36m0.9\u001b[0m\u001b[0;34m,\u001b[0m\u001b[0;34m[\u001b[0m\u001b[0;34m'track'\u001b[0m\u001b[0;34m,\u001b[0m \u001b[0;34m'artist'\u001b[0m\u001b[0;34m,\u001b[0m\u001b[0;34m'danceability'\u001b[0m\u001b[0;34m,\u001b[0m\u001b[0;34m'tempo'\u001b[0m\u001b[0;34m]\u001b[0m\u001b[0;34m]\u001b[0m\u001b[0;34m\u001b[0m\u001b[0;34m\u001b[0m\u001b[0m\n\u001b[0m",
      "\u001b[0;31mNameError\u001b[0m: name 'df_80s' is not defined"
     ]
    }
   ]
  },
  {
   "cell_type": "code",
   "metadata": {
    "cell_id": "00013-42818339-8122-489c-b904-a67c702ca4ca",
    "deepnote_to_be_reexecuted": true,
    "source_hash": "fd1aa9b1",
    "execution_start": 1653361863388,
    "execution_millis": 85,
    "deepnote_cell_type": "code",
    "deepnote_cell_height": 600
   },
   "source": "df_70s.loc[df_70s['danceability'] > 0.9,['track', 'artist','danceability','tempo']]",
   "execution_count": null,
   "outputs": [
    {
     "output_type": "execute_result",
     "execution_count": 12,
     "data": {
      "application/vnd.deepnote.dataframe.v3+json": {
       "column_count": 4,
       "row_count": 17,
       "columns": [
        {
         "name": "track",
         "dtype": "object",
         "stats": {
          "unique_count": 17,
          "nan_count": 0,
          "categories": [
           {
            "name": "Rumour Has It",
            "count": 1
           },
           {
            "name": "Take Me To The River",
            "count": 1
           },
           {
            "name": "15 others",
            "count": 15
           }
          ]
         }
        },
        {
         "name": "artist",
         "dtype": "object",
         "stats": {
          "unique_count": 16,
          "nan_count": 0,
          "categories": [
           {
            "name": "James Brown",
            "count": 2
           },
           {
            "name": "Donna Summer",
            "count": 1
           },
           {
            "name": "14 others",
            "count": 14
           }
          ]
         }
        },
        {
         "name": "danceability",
         "dtype": "float64",
         "stats": {
          "unique_count": 15,
          "nan_count": 0,
          "min": "0.903",
          "max": "0.961",
          "histogram": [
           {
            "bin_start": 0.903,
            "bin_end": 0.9088,
            "count": 4
           },
           {
            "bin_start": 0.9088,
            "bin_end": 0.9146,
            "count": 3
           },
           {
            "bin_start": 0.9146,
            "bin_end": 0.9204,
            "count": 2
           },
           {
            "bin_start": 0.9204,
            "bin_end": 0.9262,
            "count": 2
           },
           {
            "bin_start": 0.9262,
            "bin_end": 0.9319999999999999,
            "count": 1
           },
           {
            "bin_start": 0.9319999999999999,
            "bin_end": 0.9378,
            "count": 0
           },
           {
            "bin_start": 0.9378,
            "bin_end": 0.9436,
            "count": 2
           },
           {
            "bin_start": 0.9436,
            "bin_end": 0.9494,
            "count": 1
           },
           {
            "bin_start": 0.9494,
            "bin_end": 0.9551999999999999,
            "count": 1
           },
           {
            "bin_start": 0.9551999999999999,
            "bin_end": 0.961,
            "count": 1
           }
          ]
         }
        },
        {
         "name": "tempo",
         "dtype": "float64",
         "stats": {
          "unique_count": 17,
          "nan_count": 0,
          "min": "101.739",
          "max": "132.56",
          "histogram": [
           {
            "bin_start": 101.739,
            "bin_end": 104.8211,
            "count": 3
           },
           {
            "bin_start": 104.8211,
            "bin_end": 107.9032,
            "count": 0
           },
           {
            "bin_start": 107.9032,
            "bin_end": 110.9853,
            "count": 3
           },
           {
            "bin_start": 110.9853,
            "bin_end": 114.0674,
            "count": 2
           },
           {
            "bin_start": 114.0674,
            "bin_end": 117.1495,
            "count": 2
           },
           {
            "bin_start": 117.1495,
            "bin_end": 120.2316,
            "count": 1
           },
           {
            "bin_start": 120.2316,
            "bin_end": 123.3137,
            "count": 0
           },
           {
            "bin_start": 123.3137,
            "bin_end": 126.39580000000001,
            "count": 1
           },
           {
            "bin_start": 126.39580000000001,
            "bin_end": 129.4779,
            "count": 2
           },
           {
            "bin_start": 129.4779,
            "bin_end": 132.56,
            "count": 3
           }
          ]
         }
        },
        {
         "name": "_deepnote_index_column",
         "dtype": "int64"
        }
       ],
       "rows": [
        {
         "track": "Rumour Has It",
         "artist": "Donna Summer",
         "danceability": 0.903,
         "tempo": 130.669,
         "_deepnote_index_column": 35
        },
        {
         "track": "Take Me To The River",
         "artist": "Syl Johnson",
         "danceability": 0.922,
         "tempo": 114.261,
         "_deepnote_index_column": 203
        },
        {
         "track": "People Are Changin'",
         "artist": "Timmy Thomas",
         "danceability": 0.961,
         "tempo": 108.826,
         "_deepnote_index_column": 853
        },
        {
         "track": "What Is This (Ba Ba)",
         "artist": "The Reggae Boys",
         "danceability": 0.948,
         "tempo": 124.864,
         "_deepnote_index_column": 908
        },
        {
         "track": "Doing It To Death",
         "artist": "Fred Wesley & The J.B.'s",
         "danceability": 0.92,
         "tempo": 113.784,
         "_deepnote_index_column": 1230
        },
        {
         "track": "Soft And Wet",
         "artist": "Prince",
         "danceability": 0.904,
         "tempo": 115.362,
         "_deepnote_index_column": 2222
        },
        {
         "track": "Love And Happiness",
         "artist": "Earnest Jackson",
         "danceability": 0.906,
         "tempo": 101.739,
         "_deepnote_index_column": 2871
        },
        {
         "track": "Wasn't It Good",
         "artist": "Cher",
         "danceability": 0.922,
         "tempo": 129.413,
         "_deepnote_index_column": 3151
        },
        {
         "track": "Now Run And Tell That",
         "artist": "Denise LaSalle",
         "danceability": 0.909,
         "tempo": 111.757,
         "_deepnote_index_column": 3265
        },
        {
         "track": "Sexy, Sexy, Sexy",
         "artist": "James Brown",
         "danceability": 0.951,
         "tempo": 127.152,
         "_deepnote_index_column": 3300
        }
       ]
      },
      "text/plain": "                      track                    artist  danceability    tempo\n35            Rumour Has It              Donna Summer         0.903  130.669\n203    Take Me To The River               Syl Johnson         0.922  114.261\n853     People Are Changin'              Timmy Thomas         0.961  108.826\n908    What Is This (Ba Ba)           The Reggae Boys         0.948  124.864\n1230      Doing It To Death  Fred Wesley & The J.B.'s         0.920  113.784\n2222           Soft And Wet                    Prince         0.904  115.362\n2871     Love And Happiness           Earnest Jackson         0.906  101.739\n3151         Wasn't It Good                      Cher         0.922  129.413\n3265  Now Run And Tell That            Denise LaSalle         0.909  111.757\n3300       Sexy, Sexy, Sexy               James Brown         0.951  127.152\n4636              Pop Muzik                         M         0.940  110.796\n4776     Soul Power (Pt. 1)               James Brown         0.903  104.360\n5527              Groove Me                King Floyd         0.913  103.620\n6430           Boogie Fever               The Sylvers         0.917  132.560\n6520               Le Freak                      Chic         0.910  118.533\n7137                Get Off                      Foxy         0.930  130.792\n7723           Future Shock           Curtis Mayfield         0.942  110.608",
      "text/html": "<div>\n<style scoped>\n    .dataframe tbody tr th:only-of-type {\n        vertical-align: middle;\n    }\n\n    .dataframe tbody tr th {\n        vertical-align: top;\n    }\n\n    .dataframe thead th {\n        text-align: right;\n    }\n</style>\n<table border=\"1\" class=\"dataframe\">\n  <thead>\n    <tr style=\"text-align: right;\">\n      <th></th>\n      <th>track</th>\n      <th>artist</th>\n      <th>danceability</th>\n      <th>tempo</th>\n    </tr>\n  </thead>\n  <tbody>\n    <tr>\n      <th>35</th>\n      <td>Rumour Has It</td>\n      <td>Donna Summer</td>\n      <td>0.903</td>\n      <td>130.669</td>\n    </tr>\n    <tr>\n      <th>203</th>\n      <td>Take Me To The River</td>\n      <td>Syl Johnson</td>\n      <td>0.922</td>\n      <td>114.261</td>\n    </tr>\n    <tr>\n      <th>853</th>\n      <td>People Are Changin'</td>\n      <td>Timmy Thomas</td>\n      <td>0.961</td>\n      <td>108.826</td>\n    </tr>\n    <tr>\n      <th>908</th>\n      <td>What Is This (Ba Ba)</td>\n      <td>The Reggae Boys</td>\n      <td>0.948</td>\n      <td>124.864</td>\n    </tr>\n    <tr>\n      <th>1230</th>\n      <td>Doing It To Death</td>\n      <td>Fred Wesley &amp; The J.B.'s</td>\n      <td>0.920</td>\n      <td>113.784</td>\n    </tr>\n    <tr>\n      <th>2222</th>\n      <td>Soft And Wet</td>\n      <td>Prince</td>\n      <td>0.904</td>\n      <td>115.362</td>\n    </tr>\n    <tr>\n      <th>2871</th>\n      <td>Love And Happiness</td>\n      <td>Earnest Jackson</td>\n      <td>0.906</td>\n      <td>101.739</td>\n    </tr>\n    <tr>\n      <th>3151</th>\n      <td>Wasn't It Good</td>\n      <td>Cher</td>\n      <td>0.922</td>\n      <td>129.413</td>\n    </tr>\n    <tr>\n      <th>3265</th>\n      <td>Now Run And Tell That</td>\n      <td>Denise LaSalle</td>\n      <td>0.909</td>\n      <td>111.757</td>\n    </tr>\n    <tr>\n      <th>3300</th>\n      <td>Sexy, Sexy, Sexy</td>\n      <td>James Brown</td>\n      <td>0.951</td>\n      <td>127.152</td>\n    </tr>\n    <tr>\n      <th>4636</th>\n      <td>Pop Muzik</td>\n      <td>M</td>\n      <td>0.940</td>\n      <td>110.796</td>\n    </tr>\n    <tr>\n      <th>4776</th>\n      <td>Soul Power (Pt. 1)</td>\n      <td>James Brown</td>\n      <td>0.903</td>\n      <td>104.360</td>\n    </tr>\n    <tr>\n      <th>5527</th>\n      <td>Groove Me</td>\n      <td>King Floyd</td>\n      <td>0.913</td>\n      <td>103.620</td>\n    </tr>\n    <tr>\n      <th>6430</th>\n      <td>Boogie Fever</td>\n      <td>The Sylvers</td>\n      <td>0.917</td>\n      <td>132.560</td>\n    </tr>\n    <tr>\n      <th>6520</th>\n      <td>Le Freak</td>\n      <td>Chic</td>\n      <td>0.910</td>\n      <td>118.533</td>\n    </tr>\n    <tr>\n      <th>7137</th>\n      <td>Get Off</td>\n      <td>Foxy</td>\n      <td>0.930</td>\n      <td>130.792</td>\n    </tr>\n    <tr>\n      <th>7723</th>\n      <td>Future Shock</td>\n      <td>Curtis Mayfield</td>\n      <td>0.942</td>\n      <td>110.608</td>\n    </tr>\n  </tbody>\n</table>\n</div>"
     },
     "metadata": {}
    }
   ]
  },
  {
   "cell_type": "code",
   "metadata": {
    "cell_id": "00015-d755f189-bffa-44a8-9777-6283ac77048e",
    "deepnote_to_be_reexecuted": false,
    "source_hash": "796e117f",
    "execution_start": 1653509190679,
    "execution_millis": 42,
    "deepnote_table_state": {
     "pageSize": 10,
     "pageIndex": 319,
     "filters": [],
     "sortBy": []
    },
    "deepnote_table_loading": false,
    "deepnote_cell_type": "code",
    "deepnote_cell_height": 559
   },
   "source": "df_10s.loc[df_10s['target'] == 1,['track','artist','target']]",
   "execution_count": null,
   "outputs": [
    {
     "output_type": "execute_result",
     "execution_count": 16,
     "data": {
      "application/vnd.deepnote.dataframe.v3+json": {
       "column_count": 3,
       "row_count": 3199,
       "columns": [
        {
         "name": "track",
         "dtype": "object",
         "stats": {
          "unique_count": 3022,
          "nan_count": 0,
          "categories": [
           {
            "name": "Deja Vu",
            "count": 4
           },
           {
            "name": "Stay",
            "count": 4
           },
           {
            "name": "3020 others",
            "count": 3191
           }
          ]
         }
        },
        {
         "name": "artist",
         "dtype": "object",
         "stats": {
          "unique_count": 1714,
          "nan_count": 0,
          "categories": [
           {
            "name": "Drake",
            "count": 50
           },
           {
            "name": "Glee Cast",
            "count": 41
           },
           {
            "name": "1712 others",
            "count": 3108
           }
          ]
         }
        },
        {
         "name": "target",
         "dtype": "int64",
         "stats": {
          "unique_count": 1,
          "nan_count": 0,
          "min": "1",
          "max": "1",
          "histogram": [
           {
            "bin_start": 0.5,
            "bin_end": 0.6,
            "count": 0
           },
           {
            "bin_start": 0.6,
            "bin_end": 0.7,
            "count": 0
           },
           {
            "bin_start": 0.7,
            "bin_end": 0.8,
            "count": 0
           },
           {
            "bin_start": 0.8,
            "bin_end": 0.9,
            "count": 0
           },
           {
            "bin_start": 0.9,
            "bin_end": 1,
            "count": 0
           },
           {
            "bin_start": 1,
            "bin_end": 1.1,
            "count": 3199
           },
           {
            "bin_start": 1.1,
            "bin_end": 1.2000000000000002,
            "count": 0
           },
           {
            "bin_start": 1.2000000000000002,
            "bin_end": 1.3,
            "count": 0
           },
           {
            "bin_start": 1.3,
            "bin_end": 1.4,
            "count": 0
           },
           {
            "bin_start": 1.4,
            "bin_end": 1.5,
            "count": 0
           }
          ]
         }
        },
        {
         "name": "_deepnote_index_column",
         "dtype": "int64"
        }
       ],
       "rows": [
        {
         "track": "Death",
         "artist": "Trippie Redd Featuring DaBaby",
         "target": 1,
         "_deepnote_index_column": 6385
        },
        {
         "track": "Kinfolks",
         "artist": "Sam Hunt",
         "target": 1,
         "_deepnote_index_column": 6387
        },
        {
         "track": "Strip That Down",
         "artist": "Liam Payne Featuring Quavo",
         "target": 1,
         "_deepnote_index_column": 6388
        },
        {
         "track": "What Now",
         "artist": "Rihanna",
         "target": 1,
         "_deepnote_index_column": 6389
        },
        {
         "track": "Tear In My Heart",
         "artist": "twenty one pilots",
         "target": 1,
         "_deepnote_index_column": 6390
        },
        {
         "track": "Sweater Weather",
         "artist": "The Neighbourhood",
         "target": 1,
         "_deepnote_index_column": 6391
        },
        {
         "track": "Untouchable",
         "artist": "YoungBoy Never Broke Again",
         "target": 1,
         "_deepnote_index_column": 6392
        },
        {
         "track": "Calling My Spirit",
         "artist": "Kodak Black",
         "target": 1,
         "_deepnote_index_column": 6394
        },
        {
         "track": "Teenage Dream",
         "artist": "Katy Perry",
         "target": 1,
         "_deepnote_index_column": 6395
        }
       ]
      },
      "text/plain": "                              track                          artist  target\n0                       Wild Things                    Alessia Cara       1\n2                      Love Someone                    Lukas Graham       1\n4     Juju On That Beat (TZ Anthem)  Zay Hilfigerrr & Zayion McCall       1\n5        Here's To Never Growing Up                   Avril Lavigne       1\n7                     Helluva Night                        Ludacris       1\n...                             ...                             ...     ...\n6390               Tear In My Heart               twenty one pilots       1\n6391                Sweater Weather               The Neighbourhood       1\n6392                    Untouchable      YoungBoy Never Broke Again       1\n6394              Calling My Spirit                     Kodak Black       1\n6395                  Teenage Dream                      Katy Perry       1\n\n[3199 rows x 3 columns]",
      "text/html": "<div>\n<style scoped>\n    .dataframe tbody tr th:only-of-type {\n        vertical-align: middle;\n    }\n\n    .dataframe tbody tr th {\n        vertical-align: top;\n    }\n\n    .dataframe thead th {\n        text-align: right;\n    }\n</style>\n<table border=\"1\" class=\"dataframe\">\n  <thead>\n    <tr style=\"text-align: right;\">\n      <th></th>\n      <th>track</th>\n      <th>artist</th>\n      <th>target</th>\n    </tr>\n  </thead>\n  <tbody>\n    <tr>\n      <th>0</th>\n      <td>Wild Things</td>\n      <td>Alessia Cara</td>\n      <td>1</td>\n    </tr>\n    <tr>\n      <th>2</th>\n      <td>Love Someone</td>\n      <td>Lukas Graham</td>\n      <td>1</td>\n    </tr>\n    <tr>\n      <th>4</th>\n      <td>Juju On That Beat (TZ Anthem)</td>\n      <td>Zay Hilfigerrr &amp; Zayion McCall</td>\n      <td>1</td>\n    </tr>\n    <tr>\n      <th>5</th>\n      <td>Here's To Never Growing Up</td>\n      <td>Avril Lavigne</td>\n      <td>1</td>\n    </tr>\n    <tr>\n      <th>7</th>\n      <td>Helluva Night</td>\n      <td>Ludacris</td>\n      <td>1</td>\n    </tr>\n    <tr>\n      <th>...</th>\n      <td>...</td>\n      <td>...</td>\n      <td>...</td>\n    </tr>\n    <tr>\n      <th>6390</th>\n      <td>Tear In My Heart</td>\n      <td>twenty one pilots</td>\n      <td>1</td>\n    </tr>\n    <tr>\n      <th>6391</th>\n      <td>Sweater Weather</td>\n      <td>The Neighbourhood</td>\n      <td>1</td>\n    </tr>\n    <tr>\n      <th>6392</th>\n      <td>Untouchable</td>\n      <td>YoungBoy Never Broke Again</td>\n      <td>1</td>\n    </tr>\n    <tr>\n      <th>6394</th>\n      <td>Calling My Spirit</td>\n      <td>Kodak Black</td>\n      <td>1</td>\n    </tr>\n    <tr>\n      <th>6395</th>\n      <td>Teenage Dream</td>\n      <td>Katy Perry</td>\n      <td>1</td>\n    </tr>\n  </tbody>\n</table>\n<p>3199 rows × 3 columns</p>\n</div>"
     },
     "metadata": {}
    }
   ]
  },
  {
   "cell_type": "code",
   "metadata": {
    "cell_id": "00016-f9ffc0a3-08bc-4d81-b3bf-4f6ec8e4eb0e",
    "deepnote_to_be_reexecuted": false,
    "source_hash": "af0c237d",
    "execution_start": 1653509800466,
    "execution_millis": 8,
    "deepnote_cell_type": "code",
    "deepnote_cell_height": 194.953125
   },
   "source": "df_10s.columns",
   "execution_count": null,
   "outputs": [
    {
     "output_type": "execute_result",
     "execution_count": 17,
     "data": {
      "text/plain": "Index(['track', 'artist', 'uri', 'danceability', 'energy', 'key', 'loudness',\n       'mode', 'speechiness', 'acousticness', 'instrumentalness', 'liveness',\n       'valence', 'tempo', 'duration_ms', 'time_signature', 'chorus_hit',\n       'sections', 'target'],\n      dtype='object')"
     },
     "metadata": {}
    }
   ]
  },
  {
   "cell_type": "code",
   "metadata": {
    "cell_id": "77a9a92445034164b2826571fba22424",
    "tags": [],
    "deepnote_to_be_reexecuted": false,
    "source_hash": "75012e24",
    "execution_start": 1653510127467,
    "execution_millis": 12,
    "deepnote_table_state": {
     "pageSize": 10,
     "pageIndex": 7,
     "filters": [],
     "sortBy": [
      {
       "id": "chorus_hit",
       "type": "asc"
      }
     ]
    },
    "deepnote_table_loading": false,
    "deepnote_cell_type": "code"
   },
   "source": "df_10s.loc[(df_10s['target']== 0), ['track','artist','chorus_hit']]['chorus_hit'].mean()\n",
   "execution_count": null,
   "outputs": [
    {
     "output_type": "execute_result",
     "execution_count": 30,
     "data": {
      "text/plain": "42.70310994060644"
     },
     "metadata": {}
    }
   ]
  },
  {
   "cell_type": "code",
   "metadata": {
    "cell_id": "6c129db8ee0749e8a79e5e1b11a416a3",
    "tags": [],
    "deepnote_to_be_reexecuted": false,
    "source_hash": "bf881d66",
    "execution_start": 1653510142587,
    "execution_millis": 26,
    "deepnote_cell_type": "code"
   },
   "source": "df_10s.loc[(df_10s['target']== 1), ['chorus_hit']]['chorus_hit'].mean()",
   "execution_count": null,
   "outputs": [
    {
     "output_type": "execute_result",
     "execution_count": 31,
     "data": {
      "text/plain": "39.35368747733666"
     },
     "metadata": {}
    }
   ]
  },
  {
   "cell_type": "code",
   "metadata": {
    "cell_id": "9010e4418f034f498b945054624530ff",
    "tags": [],
    "deepnote_to_be_reexecuted": false,
    "source_hash": "78d9b997",
    "execution_start": 1653595467097,
    "execution_millis": 171,
    "deepnote_cell_type": "code"
   },
   "source": "plt.bar()",
   "execution_count": null,
   "outputs": [
    {
     "output_type": "error",
     "ename": "NameError",
     "evalue": "name 'plt' is not defined",
     "traceback": [
      "\u001b[0;31m---------------------------------------------------------------------------\u001b[0m",
      "\u001b[0;31mNameError\u001b[0m                                 Traceback (most recent call last)",
      "\u001b[0;32m<ipython-input-1-bb3c5f7e493f>\u001b[0m in \u001b[0;36m<module>\u001b[0;34m\u001b[0m\n\u001b[0;32m----> 1\u001b[0;31m \u001b[0mplt\u001b[0m\u001b[0;34m.\u001b[0m\u001b[0mbar\u001b[0m\u001b[0;34m(\u001b[0m\u001b[0;34m)\u001b[0m\u001b[0;34m\u001b[0m\u001b[0;34m\u001b[0m\u001b[0m\n\u001b[0m",
      "\u001b[0;31mNameError\u001b[0m: name 'plt' is not defined"
     ]
    }
   ]
  },
  {
   "cell_type": "code",
   "metadata": {
    "cell_id": "1a69339c113041c182cdf6224f640d58",
    "tags": [],
    "deepnote_to_be_reexecuted": false,
    "source_hash": "1efb8cc5",
    "execution_start": 1653595598289,
    "execution_millis": 40,
    "deepnote_table_state": {
     "pageSize": 10,
     "pageIndex": 1,
     "filters": [],
     "sortBy": []
    },
    "deepnote_table_loading": false,
    "deepnote_cell_type": "code"
   },
   "source": "df_10s.loc[df_10s['artist']=='Eminem',:]",
   "execution_count": null,
   "outputs": [
    {
     "output_type": "execute_result",
     "execution_count": 8,
     "data": {
      "application/vnd.deepnote.dataframe.v3+json": {
       "column_count": 19,
       "row_count": 10,
       "columns": [
        {
         "name": "track",
         "dtype": "object",
         "stats": {
          "unique_count": 10,
          "nan_count": 0,
          "categories": [
           {
            "name": "Survival",
            "count": 1
           },
           {
            "name": "Not Afraid",
            "count": 1
           },
           {
            "name": "8 others",
            "count": 8
           }
          ]
         }
        },
        {
         "name": "artist",
         "dtype": "object",
         "stats": {
          "unique_count": 1,
          "nan_count": 0,
          "categories": [
           {
            "name": "Eminem",
            "count": 10
           }
          ]
         }
        },
        {
         "name": "uri",
         "dtype": "object",
         "stats": {
          "unique_count": 10,
          "nan_count": 0,
          "categories": [
           {
            "name": "spotify:track:3stOygN0I7CIvkEB2LJGbv",
            "count": 1
           },
           {
            "name": "spotify:track:7Ie9W94M7OjPoZVV216Xus",
            "count": 1
           },
           {
            "name": "8 others",
            "count": 8
           }
          ]
         }
        },
        {
         "name": "danceability",
         "dtype": "float64",
         "stats": {
          "unique_count": 10,
          "nan_count": 0,
          "min": "0.459",
          "max": "0.939",
          "histogram": [
           {
            "bin_start": 0.459,
            "bin_end": 0.507,
            "count": 1
           },
           {
            "bin_start": 0.507,
            "bin_end": 0.555,
            "count": 0
           },
           {
            "bin_start": 0.555,
            "bin_end": 0.603,
            "count": 0
           },
           {
            "bin_start": 0.603,
            "bin_end": 0.651,
            "count": 0
           },
           {
            "bin_start": 0.651,
            "bin_end": 0.699,
            "count": 0
           },
           {
            "bin_start": 0.699,
            "bin_end": 0.747,
            "count": 2
           },
           {
            "bin_start": 0.747,
            "bin_end": 0.7949999999999999,
            "count": 2
           },
           {
            "bin_start": 0.7949999999999999,
            "bin_end": 0.843,
            "count": 2
           },
           {
            "bin_start": 0.843,
            "bin_end": 0.891,
            "count": 1
           },
           {
            "bin_start": 0.891,
            "bin_end": 0.939,
            "count": 2
           }
          ]
         }
        },
        {
         "name": "energy",
         "dtype": "float64",
         "stats": {
          "unique_count": 10,
          "nan_count": 0,
          "min": "0.546",
          "max": "0.954",
          "histogram": [
           {
            "bin_start": 0.546,
            "bin_end": 0.5868,
            "count": 2
           },
           {
            "bin_start": 0.5868,
            "bin_end": 0.6276,
            "count": 0
           },
           {
            "bin_start": 0.6276,
            "bin_end": 0.6684,
            "count": 1
           },
           {
            "bin_start": 0.6684,
            "bin_end": 0.7092,
            "count": 0
           },
           {
            "bin_start": 0.7092,
            "bin_end": 0.75,
            "count": 0
           },
           {
            "bin_start": 0.75,
            "bin_end": 0.7908,
            "count": 0
           },
           {
            "bin_start": 0.7908,
            "bin_end": 0.8315999999999999,
            "count": 3
           },
           {
            "bin_start": 0.8315999999999999,
            "bin_end": 0.8724,
            "count": 2
           },
           {
            "bin_start": 0.8724,
            "bin_end": 0.9132,
            "count": 1
           },
           {
            "bin_start": 0.9132,
            "bin_end": 0.954,
            "count": 1
           }
          ]
         }
        },
        {
         "name": "key",
         "dtype": "int64",
         "stats": {
          "unique_count": 5,
          "nan_count": 0,
          "min": "0",
          "max": "11",
          "histogram": [
           {
            "bin_start": 0,
            "bin_end": 1.1,
            "count": 5
           },
           {
            "bin_start": 1.1,
            "bin_end": 2.2,
            "count": 2
           },
           {
            "bin_start": 2.2,
            "bin_end": 3.3000000000000003,
            "count": 0
           },
           {
            "bin_start": 3.3000000000000003,
            "bin_end": 4.4,
            "count": 0
           },
           {
            "bin_start": 4.4,
            "bin_end": 5.5,
            "count": 0
           },
           {
            "bin_start": 5.5,
            "bin_end": 6.6000000000000005,
            "count": 0
           },
           {
            "bin_start": 6.6000000000000005,
            "bin_end": 7.700000000000001,
            "count": 2
           },
           {
            "bin_start": 7.700000000000001,
            "bin_end": 8.8,
            "count": 0
           },
           {
            "bin_start": 8.8,
            "bin_end": 9.9,
            "count": 0
           },
           {
            "bin_start": 9.9,
            "bin_end": 11,
            "count": 1
           }
          ]
         }
        },
        {
         "name": "loudness",
         "dtype": "float64",
         "stats": {
          "unique_count": 10,
          "nan_count": 0,
          "min": "-9.126",
          "max": "-1.19",
          "histogram": [
           {
            "bin_start": -9.126,
            "bin_end": -8.3324,
            "count": 2
           },
           {
            "bin_start": -8.3324,
            "bin_end": -7.538799999999999,
            "count": 0
           },
           {
            "bin_start": -7.538799999999999,
            "bin_end": -6.7452,
            "count": 0
           },
           {
            "bin_start": -6.7452,
            "bin_end": -5.951599999999999,
            "count": 0
           },
           {
            "bin_start": -5.951599999999999,
            "bin_end": -5.1579999999999995,
            "count": 2
           },
           {
            "bin_start": -5.1579999999999995,
            "bin_end": -4.3644,
            "count": 1
           },
           {
            "bin_start": -4.3644,
            "bin_end": -3.5707999999999993,
            "count": 2
           },
           {
            "bin_start": -3.5707999999999993,
            "bin_end": -2.7771999999999997,
            "count": 1
           },
           {
            "bin_start": -2.7771999999999997,
            "bin_end": -1.9836,
            "count": 1
           },
           {
            "bin_start": -1.9836,
            "bin_end": -1.19,
            "count": 1
           }
          ]
         }
        },
        {
         "name": "mode",
         "dtype": "int64",
         "stats": {
          "unique_count": 2,
          "nan_count": 0,
          "min": "0",
          "max": "1",
          "histogram": [
           {
            "bin_start": 0,
            "bin_end": 0.1,
            "count": 3
           },
           {
            "bin_start": 0.1,
            "bin_end": 0.2,
            "count": 0
           },
           {
            "bin_start": 0.2,
            "bin_end": 0.30000000000000004,
            "count": 0
           },
           {
            "bin_start": 0.30000000000000004,
            "bin_end": 0.4,
            "count": 0
           },
           {
            "bin_start": 0.4,
            "bin_end": 0.5,
            "count": 0
           },
           {
            "bin_start": 0.5,
            "bin_end": 0.6000000000000001,
            "count": 0
           },
           {
            "bin_start": 0.6000000000000001,
            "bin_end": 0.7000000000000001,
            "count": 0
           },
           {
            "bin_start": 0.7000000000000001,
            "bin_end": 0.8,
            "count": 0
           },
           {
            "bin_start": 0.8,
            "bin_end": 0.9,
            "count": 0
           },
           {
            "bin_start": 0.9,
            "bin_end": 1,
            "count": 7
           }
          ]
         }
        },
        {
         "name": "speechiness",
         "dtype": "float64",
         "stats": {
          "unique_count": 10,
          "nan_count": 0,
          "min": "0.064",
          "max": "0.484",
          "histogram": [
           {
            "bin_start": 0.064,
            "bin_end": 0.106,
            "count": 1
           },
           {
            "bin_start": 0.106,
            "bin_end": 0.148,
            "count": 0
           },
           {
            "bin_start": 0.148,
            "bin_end": 0.19,
            "count": 0
           },
           {
            "bin_start": 0.19,
            "bin_end": 0.23199999999999998,
            "count": 1
           },
           {
            "bin_start": 0.23199999999999998,
            "bin_end": 0.27399999999999997,
            "count": 1
           },
           {
            "bin_start": 0.27399999999999997,
            "bin_end": 0.316,
            "count": 3
           },
           {
            "bin_start": 0.316,
            "bin_end": 0.358,
            "count": 2
           },
           {
            "bin_start": 0.358,
            "bin_end": 0.39999999999999997,
            "count": 1
           },
           {
            "bin_start": 0.39999999999999997,
            "bin_end": 0.44199999999999995,
            "count": 0
           },
           {
            "bin_start": 0.44199999999999995,
            "bin_end": 0.484,
            "count": 1
           }
          ]
         }
        },
        {
         "name": "acousticness",
         "dtype": "float64",
         "stats": {
          "unique_count": 10,
          "nan_count": 0,
          "min": "0.0038",
          "max": "0.529",
          "histogram": [
           {
            "bin_start": 0.0038,
            "bin_end": 0.056319999999999995,
            "count": 4
           },
           {
            "bin_start": 0.056319999999999995,
            "bin_end": 0.10883999999999999,
            "count": 1
           },
           {
            "bin_start": 0.10883999999999999,
            "bin_end": 0.16135999999999998,
            "count": 1
           },
           {
            "bin_start": 0.16135999999999998,
            "bin_end": 0.21388,
            "count": 0
           },
           {
            "bin_start": 0.21388,
            "bin_end": 0.2664,
            "count": 1
           },
           {
            "bin_start": 0.2664,
            "bin_end": 0.31892,
            "count": 0
           },
           {
            "bin_start": 0.31892,
            "bin_end": 0.37144,
            "count": 1
           },
           {
            "bin_start": 0.37144,
            "bin_end": 0.42396,
            "count": 1
           },
           {
            "bin_start": 0.42396,
            "bin_end": 0.47648,
            "count": 0
           },
           {
            "bin_start": 0.47648,
            "bin_end": 0.529,
            "count": 1
           }
          ]
         }
        },
        {
         "name": "instrumentalness",
         "dtype": "float64",
         "stats": {
          "unique_count": 1,
          "nan_count": 0,
          "min": "0.0",
          "max": "0.0",
          "histogram": [
           {
            "bin_start": -0.5,
            "bin_end": -0.4,
            "count": 0
           },
           {
            "bin_start": -0.4,
            "bin_end": -0.3,
            "count": 0
           },
           {
            "bin_start": -0.3,
            "bin_end": -0.19999999999999996,
            "count": 0
           },
           {
            "bin_start": -0.19999999999999996,
            "bin_end": -0.09999999999999998,
            "count": 0
           },
           {
            "bin_start": -0.09999999999999998,
            "bin_end": 0,
            "count": 0
           },
           {
            "bin_start": 0,
            "bin_end": 0.10000000000000009,
            "count": 10
           },
           {
            "bin_start": 0.10000000000000009,
            "bin_end": 0.20000000000000007,
            "count": 0
           },
           {
            "bin_start": 0.20000000000000007,
            "bin_end": 0.30000000000000004,
            "count": 0
           },
           {
            "bin_start": 0.30000000000000004,
            "bin_end": 0.4,
            "count": 0
           },
           {
            "bin_start": 0.4,
            "bin_end": 0.5,
            "count": 0
           }
          ]
         }
        },
        {
         "name": "liveness",
         "dtype": "float64",
         "stats": {
          "unique_count": 10,
          "nan_count": 0,
          "min": "0.112",
          "max": "0.799",
          "histogram": [
           {
            "bin_start": 0.112,
            "bin_end": 0.18070000000000003,
            "count": 2
           },
           {
            "bin_start": 0.18070000000000003,
            "bin_end": 0.2494,
            "count": 2
           },
           {
            "bin_start": 0.2494,
            "bin_end": 0.31810000000000005,
            "count": 1
           },
           {
            "bin_start": 0.31810000000000005,
            "bin_end": 0.38680000000000003,
            "count": 3
           },
           {
            "bin_start": 0.38680000000000003,
            "bin_end": 0.4555,
            "count": 0
           },
           {
            "bin_start": 0.4555,
            "bin_end": 0.5242000000000001,
            "count": 0
           },
           {
            "bin_start": 0.5242000000000001,
            "bin_end": 0.5929000000000001,
            "count": 1
           },
           {
            "bin_start": 0.5929000000000001,
            "bin_end": 0.6616000000000001,
            "count": 0
           },
           {
            "bin_start": 0.6616000000000001,
            "bin_end": 0.7303000000000001,
            "count": 0
           },
           {
            "bin_start": 0.7303000000000001,
            "bin_end": 0.799,
            "count": 1
           }
          ]
         }
        },
        {
         "name": "valence",
         "dtype": "float64",
         "stats": {
          "unique_count": 10,
          "nan_count": 0,
          "min": "0.42",
          "max": "0.684",
          "histogram": [
           {
            "bin_start": 0.42,
            "bin_end": 0.4464,
            "count": 2
           },
           {
            "bin_start": 0.4464,
            "bin_end": 0.4728,
            "count": 1
           },
           {
            "bin_start": 0.4728,
            "bin_end": 0.4992,
            "count": 0
           },
           {
            "bin_start": 0.4992,
            "bin_end": 0.5256000000000001,
            "count": 0
           },
           {
            "bin_start": 0.5256000000000001,
            "bin_end": 0.552,
            "count": 1
           },
           {
            "bin_start": 0.552,
            "bin_end": 0.5784,
            "count": 1
           },
           {
            "bin_start": 0.5784,
            "bin_end": 0.6048,
            "count": 1
           },
           {
            "bin_start": 0.6048,
            "bin_end": 0.6312,
            "count": 1
           },
           {
            "bin_start": 0.6312,
            "bin_end": 0.6576000000000001,
            "count": 1
           },
           {
            "bin_start": 0.6576000000000001,
            "bin_end": 0.684,
            "count": 2
           }
          ]
         }
        },
        {
         "name": "tempo",
         "dtype": "float64",
         "stats": {
          "unique_count": 10,
          "nan_count": 0,
          "min": "79.982",
          "max": "182.973",
          "histogram": [
           {
            "bin_start": 79.982,
            "bin_end": 90.2811,
            "count": 1
           },
           {
            "bin_start": 90.2811,
            "bin_end": 100.5802,
            "count": 2
           },
           {
            "bin_start": 100.5802,
            "bin_end": 110.8793,
            "count": 1
           },
           {
            "bin_start": 110.8793,
            "bin_end": 121.17840000000001,
            "count": 2
           },
           {
            "bin_start": 121.17840000000001,
            "bin_end": 131.47750000000002,
            "count": 0
           },
           {
            "bin_start": 131.47750000000002,
            "bin_end": 141.7766,
            "count": 1
           },
           {
            "bin_start": 141.7766,
            "bin_end": 152.0757,
            "count": 1
           },
           {
            "bin_start": 152.0757,
            "bin_end": 162.3748,
            "count": 0
           },
           {
            "bin_start": 162.3748,
            "bin_end": 172.6739,
            "count": 0
           },
           {
            "bin_start": 172.6739,
            "bin_end": 182.973,
            "count": 2
           }
          ]
         }
        },
        {
         "name": "duration_ms",
         "dtype": "int64",
         "stats": {
          "unique_count": 10,
          "nan_count": 0,
          "min": "216029",
          "max": "363521",
          "histogram": [
           {
            "bin_start": 216029,
            "bin_end": 230778.2,
            "count": 1
           },
           {
            "bin_start": 230778.2,
            "bin_end": 245527.4,
            "count": 1
           },
           {
            "bin_start": 245527.4,
            "bin_end": 260276.6,
            "count": 2
           },
           {
            "bin_start": 260276.6,
            "bin_end": 275025.8,
            "count": 3
           },
           {
            "bin_start": 275025.8,
            "bin_end": 289775,
            "count": 0
           },
           {
            "bin_start": 289775,
            "bin_end": 304524.2,
            "count": 1
           },
           {
            "bin_start": 304524.2,
            "bin_end": 319273.4,
            "count": 0
           },
           {
            "bin_start": 319273.4,
            "bin_end": 334022.6,
            "count": 0
           },
           {
            "bin_start": 334022.6,
            "bin_end": 348771.80000000005,
            "count": 1
           },
           {
            "bin_start": 348771.80000000005,
            "bin_end": 363521,
            "count": 1
           }
          ]
         }
        },
        {
         "name": "time_signature",
         "dtype": "int64",
         "stats": {
          "unique_count": 2,
          "nan_count": 0,
          "min": "4",
          "max": "5",
          "histogram": [
           {
            "bin_start": 4,
            "bin_end": 4.1,
            "count": 9
           },
           {
            "bin_start": 4.1,
            "bin_end": 4.2,
            "count": 0
           },
           {
            "bin_start": 4.2,
            "bin_end": 4.3,
            "count": 0
           },
           {
            "bin_start": 4.3,
            "bin_end": 4.4,
            "count": 0
           },
           {
            "bin_start": 4.4,
            "bin_end": 4.5,
            "count": 0
           },
           {
            "bin_start": 4.5,
            "bin_end": 4.6,
            "count": 0
           },
           {
            "bin_start": 4.6,
            "bin_end": 4.7,
            "count": 0
           },
           {
            "bin_start": 4.7,
            "bin_end": 4.8,
            "count": 0
           },
           {
            "bin_start": 4.8,
            "bin_end": 4.9,
            "count": 0
           },
           {
            "bin_start": 4.9,
            "bin_end": 5,
            "count": 1
           }
          ]
         }
        },
        {
         "name": "chorus_hit",
         "dtype": "float64",
         "stats": {
          "unique_count": 10,
          "nan_count": 0,
          "min": "21.20115",
          "max": "76.59695",
          "histogram": [
           {
            "bin_start": 21.20115,
            "bin_end": 26.74073,
            "count": 1
           },
           {
            "bin_start": 26.74073,
            "bin_end": 32.28031,
            "count": 3
           },
           {
            "bin_start": 32.28031,
            "bin_end": 37.81989,
            "count": 0
           },
           {
            "bin_start": 37.81989,
            "bin_end": 43.35947,
            "count": 3
           },
           {
            "bin_start": 43.35947,
            "bin_end": 48.89905,
            "count": 0
           },
           {
            "bin_start": 48.89905,
            "bin_end": 54.43863,
            "count": 1
           },
           {
            "bin_start": 54.43863,
            "bin_end": 59.978210000000004,
            "count": 0
           },
           {
            "bin_start": 59.978210000000004,
            "bin_end": 65.51779,
            "count": 1
           },
           {
            "bin_start": 65.51779,
            "bin_end": 71.05737,
            "count": 0
           },
           {
            "bin_start": 71.05737,
            "bin_end": 76.59695,
            "count": 1
           }
          ]
         }
        },
        {
         "name": "sections",
         "dtype": "int64",
         "stats": {
          "unique_count": 7,
          "nan_count": 0,
          "min": "9",
          "max": "17",
          "histogram": [
           {
            "bin_start": 9,
            "bin_end": 9.8,
            "count": 1
           },
           {
            "bin_start": 9.8,
            "bin_end": 10.6,
            "count": 2
           },
           {
            "bin_start": 10.6,
            "bin_end": 11.4,
            "count": 3
           },
           {
            "bin_start": 11.4,
            "bin_end": 12.2,
            "count": 0
           },
           {
            "bin_start": 12.2,
            "bin_end": 13,
            "count": 0
           },
           {
            "bin_start": 13,
            "bin_end": 13.8,
            "count": 1
           },
           {
            "bin_start": 13.8,
            "bin_end": 14.600000000000001,
            "count": 1
           },
           {
            "bin_start": 14.600000000000001,
            "bin_end": 15.4,
            "count": 0
           },
           {
            "bin_start": 15.4,
            "bin_end": 16.2,
            "count": 1
           },
           {
            "bin_start": 16.2,
            "bin_end": 17,
            "count": 1
           }
          ]
         }
        },
        {
         "name": "target",
         "dtype": "int64",
         "stats": {
          "unique_count": 1,
          "nan_count": 0,
          "min": "1",
          "max": "1",
          "histogram": [
           {
            "bin_start": 0.5,
            "bin_end": 0.6,
            "count": 0
           },
           {
            "bin_start": 0.6,
            "bin_end": 0.7,
            "count": 0
           },
           {
            "bin_start": 0.7,
            "bin_end": 0.8,
            "count": 0
           },
           {
            "bin_start": 0.8,
            "bin_end": 0.9,
            "count": 0
           },
           {
            "bin_start": 0.9,
            "bin_end": 1,
            "count": 0
           },
           {
            "bin_start": 1,
            "bin_end": 1.1,
            "count": 10
           },
           {
            "bin_start": 1.1,
            "bin_end": 1.2000000000000002,
            "count": 0
           },
           {
            "bin_start": 1.2000000000000002,
            "bin_end": 1.3,
            "count": 0
           },
           {
            "bin_start": 1.3,
            "bin_end": 1.4,
            "count": 0
           },
           {
            "bin_start": 1.4,
            "bin_end": 1.5,
            "count": 0
           }
          ]
         }
        },
        {
         "name": "_deepnote_index_column",
         "dtype": "int64"
        }
       ],
       "rows": [
        {
         "track": "Survival",
         "artist": "Eminem",
         "uri": "spotify:track:3stOygN0I7CIvkEB2LJGbv",
         "danceability": 0.459,
         "energy": 0.899,
         "key": 2,
         "loudness": -2.978,
         "mode": 1,
         "speechiness": 0.21,
         "acousticness": 0.0038,
         "instrumentalness": 0,
         "liveness": 0.126,
         "valence": 0.437,
         "tempo": 176.384,
         "duration_ms": 272417,
         "time_signature": 4,
         "chorus_hit": 30.26082,
         "sections": 10,
         "target": 1,
         "_deepnote_index_column": 18
        },
        {
         "track": "Not Afraid",
         "artist": "Eminem",
         "uri": "spotify:track:7Ie9W94M7OjPoZVV216Xus",
         "danceability": 0.855,
         "energy": 0.954,
         "key": 0,
         "loudness": -1.19,
         "mode": 0,
         "speechiness": 0.264,
         "acousticness": 0.529,
         "instrumentalness": 0,
         "liveness": 0.205,
         "valence": 0.668,
         "tempo": 114.635,
         "duration_ms": 248133,
         "time_signature": 5,
         "chorus_hit": 60.88147,
         "sections": 11,
         "target": 1,
         "_deepnote_index_column": 723
        },
        {
         "track": "Berzerk",
         "artist": "Eminem",
         "uri": "spotify:track:6Xk7PnitV9jCRorWt2LiVZ",
         "danceability": 0.739,
         "energy": 0.872,
         "key": 11,
         "loudness": -4.059,
         "mode": 0,
         "speechiness": 0.333,
         "acousticness": 0.0217,
         "instrumentalness": 0,
         "liveness": 0.26,
         "valence": 0.684,
         "tempo": 95.084,
         "duration_ms": 238746,
         "time_signature": 4,
         "chorus_hit": 40.90364,
         "sections": 11,
         "target": 1,
         "_deepnote_index_column": 1470
        },
        {
         "track": "Kamikaze",
         "artist": "Eminem",
         "uri": "spotify:track:2gsNpSn7VvvJuSrIDfRoYy",
         "danceability": 0.78,
         "energy": 0.808,
         "key": 2,
         "loudness": -5.175,
         "mode": 1,
         "speechiness": 0.484,
         "acousticness": 0.112,
         "instrumentalness": 0,
         "liveness": 0.329,
         "valence": 0.642,
         "tempo": 79.982,
         "duration_ms": 216029,
         "time_signature": 4,
         "chorus_hit": 28.22802,
         "sections": 13,
         "target": 1,
         "_deepnote_index_column": 1772
        },
        {
         "track": "Fall",
         "artist": "Eminem",
         "uri": "spotify:track:58QhkbaAkLFnn7JwAnAato",
         "danceability": 0.83,
         "energy": 0.546,
         "key": 1,
         "loudness": -5.716,
         "mode": 1,
         "speechiness": 0.295,
         "acousticness": 0.227,
         "instrumentalness": 0,
         "liveness": 0.112,
         "valence": 0.535,
         "tempo": 182.973,
         "duration_ms": 262494,
         "time_signature": 4,
         "chorus_hit": 39.07596,
         "sections": 9,
         "target": 1,
         "_deepnote_index_column": 2222
        },
        {
         "track": "Venom",
         "artist": "Eminem",
         "uri": "spotify:track:2SL6oP2YAEQbqsrkOzRGO4",
         "danceability": 0.749,
         "energy": 0.794,
         "key": 0,
         "loudness": -5.063,
         "mode": 1,
         "speechiness": 0.064,
         "acousticness": 0.0193,
         "instrumentalness": 0,
         "liveness": 0.543,
         "valence": 0.46,
         "tempo": 135.959,
         "duration_ms": 269554,
         "time_signature": 4,
         "chorus_hit": 76.59695,
         "sections": 10,
         "target": 1,
         "_deepnote_index_column": 2367
        },
        {
         "track": "Killshot",
         "artist": "Eminem",
         "uri": "spotify:track:1jo3TwNGCXfNdB5uba3ZVv",
         "danceability": 0.892,
         "energy": 0.651,
         "key": 0,
         "loudness": -8.645,
         "mode": 0,
         "speechiness": 0.378,
         "acousticness": 0.0989,
         "instrumentalness": 0,
         "liveness": 0.371,
         "valence": 0.599,
         "tempo": 105.814,
         "duration_ms": 253580,
         "time_signature": 4,
         "chorus_hit": 29.4325,
         "sections": 14,
         "target": 1,
         "_deepnote_index_column": 4380
        },
        {
         "track": "Elevator",
         "artist": "Eminem",
         "uri": "spotify:track:26rUU3JZ9JB9OkEuG9mb3e",
         "danceability": 0.796,
         "energy": 0.793,
         "key": 7,
         "loudness": -3.911,
         "mode": 1,
         "speechiness": 0.318,
         "acousticness": 0.323,
         "instrumentalness": 0,
         "liveness": 0.332,
         "valence": 0.556,
         "tempo": 90.51,
         "duration_ms": 292933,
         "time_signature": 4,
         "chorus_hit": 41.34715,
         "sections": 11,
         "target": 1,
         "_deepnote_index_column": 5758
        },
        {
         "track": "The Ringer",
         "artist": "Eminem",
         "uri": "spotify:track:2jt2WxXMCD4zjACthkJQVE",
         "danceability": 0.939,
         "energy": 0.551,
         "key": 1,
         "loudness": -9.126,
         "mode": 1,
         "speechiness": 0.291,
         "acousticness": 0.0311,
         "instrumentalness": 0,
         "liveness": 0.192,
         "valence": 0.42,
         "tempo": 118.552,
         "duration_ms": 337941,
         "time_signature": 4,
         "chorus_hit": 21.20115,
         "sections": 16,
         "target": 1,
         "_deepnote_index_column": 5910
        },
        {
         "track": "Rap God",
         "artist": "Eminem",
         "uri": "spotify:track:6or1bKJiZ06IlK0vFvY75k",
         "danceability": 0.708,
         "energy": 0.843,
         "key": 7,
         "loudness": -2.66,
         "mode": 1,
         "speechiness": 0.314,
         "acousticness": 0.397,
         "instrumentalness": 0,
         "liveness": 0.799,
         "valence": 0.625,
         "tempo": 148.14,
         "duration_ms": 363521,
         "time_signature": 4,
         "chorus_hit": 53.18291,
         "sections": 17,
         "target": 1,
         "_deepnote_index_column": 6304
        }
       ]
      },
      "text/plain": "           track  artist                                   uri  danceability  \\\n18      Survival  Eminem  spotify:track:3stOygN0I7CIvkEB2LJGbv         0.459   \n723   Not Afraid  Eminem  spotify:track:7Ie9W94M7OjPoZVV216Xus         0.855   \n1470     Berzerk  Eminem  spotify:track:6Xk7PnitV9jCRorWt2LiVZ         0.739   \n1772    Kamikaze  Eminem  spotify:track:2gsNpSn7VvvJuSrIDfRoYy         0.780   \n2222        Fall  Eminem  spotify:track:58QhkbaAkLFnn7JwAnAato         0.830   \n2367       Venom  Eminem  spotify:track:2SL6oP2YAEQbqsrkOzRGO4         0.749   \n4380    Killshot  Eminem  spotify:track:1jo3TwNGCXfNdB5uba3ZVv         0.892   \n5758    Elevator  Eminem  spotify:track:26rUU3JZ9JB9OkEuG9mb3e         0.796   \n5910  The Ringer  Eminem  spotify:track:2jt2WxXMCD4zjACthkJQVE         0.939   \n6304     Rap God  Eminem  spotify:track:6or1bKJiZ06IlK0vFvY75k         0.708   \n\n      energy  key  loudness  mode  speechiness  acousticness  \\\n18     0.899    2    -2.978     1        0.210        0.0038   \n723    0.954    0    -1.190     0        0.264        0.5290   \n1470   0.872   11    -4.059     0        0.333        0.0217   \n1772   0.808    2    -5.175     1        0.484        0.1120   \n2222   0.546    1    -5.716     1        0.295        0.2270   \n2367   0.794    0    -5.063     1        0.064        0.0193   \n4380   0.651    0    -8.645     0        0.378        0.0989   \n5758   0.793    7    -3.911     1        0.318        0.3230   \n5910   0.551    1    -9.126     1        0.291        0.0311   \n6304   0.843    7    -2.660     1        0.314        0.3970   \n\n      instrumentalness  liveness  valence    tempo  duration_ms  \\\n18                 0.0     0.126    0.437  176.384       272417   \n723                0.0     0.205    0.668  114.635       248133   \n1470               0.0     0.260    0.684   95.084       238746   \n1772               0.0     0.329    0.642   79.982       216029   \n2222               0.0     0.112    0.535  182.973       262494   \n2367               0.0     0.543    0.460  135.959       269554   \n4380               0.0     0.371    0.599  105.814       253580   \n5758               0.0     0.332    0.556   90.510       292933   \n5910               0.0     0.192    0.420  118.552       337941   \n6304               0.0     0.799    0.625  148.140       363521   \n\n      time_signature  chorus_hit  sections  target  \n18                 4    30.26082        10       1  \n723                5    60.88147        11       1  \n1470               4    40.90364        11       1  \n1772               4    28.22802        13       1  \n2222               4    39.07596         9       1  \n2367               4    76.59695        10       1  \n4380               4    29.43250        14       1  \n5758               4    41.34715        11       1  \n5910               4    21.20115        16       1  \n6304               4    53.18291        17       1  ",
      "text/html": "<div>\n<style scoped>\n    .dataframe tbody tr th:only-of-type {\n        vertical-align: middle;\n    }\n\n    .dataframe tbody tr th {\n        vertical-align: top;\n    }\n\n    .dataframe thead th {\n        text-align: right;\n    }\n</style>\n<table border=\"1\" class=\"dataframe\">\n  <thead>\n    <tr style=\"text-align: right;\">\n      <th></th>\n      <th>track</th>\n      <th>artist</th>\n      <th>uri</th>\n      <th>danceability</th>\n      <th>energy</th>\n      <th>key</th>\n      <th>loudness</th>\n      <th>mode</th>\n      <th>speechiness</th>\n      <th>acousticness</th>\n      <th>instrumentalness</th>\n      <th>liveness</th>\n      <th>valence</th>\n      <th>tempo</th>\n      <th>duration_ms</th>\n      <th>time_signature</th>\n      <th>chorus_hit</th>\n      <th>sections</th>\n      <th>target</th>\n    </tr>\n  </thead>\n  <tbody>\n    <tr>\n      <th>18</th>\n      <td>Survival</td>\n      <td>Eminem</td>\n      <td>spotify:track:3stOygN0I7CIvkEB2LJGbv</td>\n      <td>0.459</td>\n      <td>0.899</td>\n      <td>2</td>\n      <td>-2.978</td>\n      <td>1</td>\n      <td>0.210</td>\n      <td>0.0038</td>\n      <td>0.0</td>\n      <td>0.126</td>\n      <td>0.437</td>\n      <td>176.384</td>\n      <td>272417</td>\n      <td>4</td>\n      <td>30.26082</td>\n      <td>10</td>\n      <td>1</td>\n    </tr>\n    <tr>\n      <th>723</th>\n      <td>Not Afraid</td>\n      <td>Eminem</td>\n      <td>spotify:track:7Ie9W94M7OjPoZVV216Xus</td>\n      <td>0.855</td>\n      <td>0.954</td>\n      <td>0</td>\n      <td>-1.190</td>\n      <td>0</td>\n      <td>0.264</td>\n      <td>0.5290</td>\n      <td>0.0</td>\n      <td>0.205</td>\n      <td>0.668</td>\n      <td>114.635</td>\n      <td>248133</td>\n      <td>5</td>\n      <td>60.88147</td>\n      <td>11</td>\n      <td>1</td>\n    </tr>\n    <tr>\n      <th>1470</th>\n      <td>Berzerk</td>\n      <td>Eminem</td>\n      <td>spotify:track:6Xk7PnitV9jCRorWt2LiVZ</td>\n      <td>0.739</td>\n      <td>0.872</td>\n      <td>11</td>\n      <td>-4.059</td>\n      <td>0</td>\n      <td>0.333</td>\n      <td>0.0217</td>\n      <td>0.0</td>\n      <td>0.260</td>\n      <td>0.684</td>\n      <td>95.084</td>\n      <td>238746</td>\n      <td>4</td>\n      <td>40.90364</td>\n      <td>11</td>\n      <td>1</td>\n    </tr>\n    <tr>\n      <th>1772</th>\n      <td>Kamikaze</td>\n      <td>Eminem</td>\n      <td>spotify:track:2gsNpSn7VvvJuSrIDfRoYy</td>\n      <td>0.780</td>\n      <td>0.808</td>\n      <td>2</td>\n      <td>-5.175</td>\n      <td>1</td>\n      <td>0.484</td>\n      <td>0.1120</td>\n      <td>0.0</td>\n      <td>0.329</td>\n      <td>0.642</td>\n      <td>79.982</td>\n      <td>216029</td>\n      <td>4</td>\n      <td>28.22802</td>\n      <td>13</td>\n      <td>1</td>\n    </tr>\n    <tr>\n      <th>2222</th>\n      <td>Fall</td>\n      <td>Eminem</td>\n      <td>spotify:track:58QhkbaAkLFnn7JwAnAato</td>\n      <td>0.830</td>\n      <td>0.546</td>\n      <td>1</td>\n      <td>-5.716</td>\n      <td>1</td>\n      <td>0.295</td>\n      <td>0.2270</td>\n      <td>0.0</td>\n      <td>0.112</td>\n      <td>0.535</td>\n      <td>182.973</td>\n      <td>262494</td>\n      <td>4</td>\n      <td>39.07596</td>\n      <td>9</td>\n      <td>1</td>\n    </tr>\n    <tr>\n      <th>2367</th>\n      <td>Venom</td>\n      <td>Eminem</td>\n      <td>spotify:track:2SL6oP2YAEQbqsrkOzRGO4</td>\n      <td>0.749</td>\n      <td>0.794</td>\n      <td>0</td>\n      <td>-5.063</td>\n      <td>1</td>\n      <td>0.064</td>\n      <td>0.0193</td>\n      <td>0.0</td>\n      <td>0.543</td>\n      <td>0.460</td>\n      <td>135.959</td>\n      <td>269554</td>\n      <td>4</td>\n      <td>76.59695</td>\n      <td>10</td>\n      <td>1</td>\n    </tr>\n    <tr>\n      <th>4380</th>\n      <td>Killshot</td>\n      <td>Eminem</td>\n      <td>spotify:track:1jo3TwNGCXfNdB5uba3ZVv</td>\n      <td>0.892</td>\n      <td>0.651</td>\n      <td>0</td>\n      <td>-8.645</td>\n      <td>0</td>\n      <td>0.378</td>\n      <td>0.0989</td>\n      <td>0.0</td>\n      <td>0.371</td>\n      <td>0.599</td>\n      <td>105.814</td>\n      <td>253580</td>\n      <td>4</td>\n      <td>29.43250</td>\n      <td>14</td>\n      <td>1</td>\n    </tr>\n    <tr>\n      <th>5758</th>\n      <td>Elevator</td>\n      <td>Eminem</td>\n      <td>spotify:track:26rUU3JZ9JB9OkEuG9mb3e</td>\n      <td>0.796</td>\n      <td>0.793</td>\n      <td>7</td>\n      <td>-3.911</td>\n      <td>1</td>\n      <td>0.318</td>\n      <td>0.3230</td>\n      <td>0.0</td>\n      <td>0.332</td>\n      <td>0.556</td>\n      <td>90.510</td>\n      <td>292933</td>\n      <td>4</td>\n      <td>41.34715</td>\n      <td>11</td>\n      <td>1</td>\n    </tr>\n    <tr>\n      <th>5910</th>\n      <td>The Ringer</td>\n      <td>Eminem</td>\n      <td>spotify:track:2jt2WxXMCD4zjACthkJQVE</td>\n      <td>0.939</td>\n      <td>0.551</td>\n      <td>1</td>\n      <td>-9.126</td>\n      <td>1</td>\n      <td>0.291</td>\n      <td>0.0311</td>\n      <td>0.0</td>\n      <td>0.192</td>\n      <td>0.420</td>\n      <td>118.552</td>\n      <td>337941</td>\n      <td>4</td>\n      <td>21.20115</td>\n      <td>16</td>\n      <td>1</td>\n    </tr>\n    <tr>\n      <th>6304</th>\n      <td>Rap God</td>\n      <td>Eminem</td>\n      <td>spotify:track:6or1bKJiZ06IlK0vFvY75k</td>\n      <td>0.708</td>\n      <td>0.843</td>\n      <td>7</td>\n      <td>-2.660</td>\n      <td>1</td>\n      <td>0.314</td>\n      <td>0.3970</td>\n      <td>0.0</td>\n      <td>0.799</td>\n      <td>0.625</td>\n      <td>148.140</td>\n      <td>363521</td>\n      <td>4</td>\n      <td>53.18291</td>\n      <td>17</td>\n      <td>1</td>\n    </tr>\n  </tbody>\n</table>\n</div>"
     },
     "metadata": {}
    }
   ]
  },
  {
   "cell_type": "code",
   "metadata": {
    "cell_id": "b44c7d278c73487ebc48f1364561638f",
    "tags": [],
    "owner_user_id": "4bf6cba2-defa-4a66-8154-6c30a69d61fc",
    "deepnote_cell_type": "code"
   },
   "source": "",
   "execution_count": null,
   "outputs": []
  },
  {
   "cell_type": "markdown",
   "source": "<a style='text-decoration:none;line-height:16px;display:flex;color:#5B5B62;padding:10px;justify-content:end;' href='https://deepnote.com?utm_source=created-in-deepnote-cell&projectId=3b4d89a2-8052-4b43-b8cd-618ee4c0c558' target=\"_blank\">\n<img alt='Created in deepnote.com' style='display:inline;max-height:16px;margin:0px;margin-right:7.5px;' src='data:image/svg+xml;base64,PD94bWwgdmVyc2lvbj0iMS4wIiBlbmNvZGluZz0iVVRGLTgiPz4KPHN2ZyB3aWR0aD0iODBweCIgaGVpZ2h0PSI4MHB4IiB2aWV3Qm94PSIwIDAgODAgODAiIHZlcnNpb249IjEuMSIgeG1sbnM9Imh0dHA6Ly93d3cudzMub3JnLzIwMDAvc3ZnIiB4bWxuczp4bGluaz0iaHR0cDovL3d3dy53My5vcmcvMTk5OS94bGluayI+CiAgICA8IS0tIEdlbmVyYXRvcjogU2tldGNoIDU0LjEgKDc2NDkwKSAtIGh0dHBzOi8vc2tldGNoYXBwLmNvbSAtLT4KICAgIDx0aXRsZT5Hcm91cCAzPC90aXRsZT4KICAgIDxkZXNjPkNyZWF0ZWQgd2l0aCBTa2V0Y2guPC9kZXNjPgogICAgPGcgaWQ9IkxhbmRpbmciIHN0cm9rZT0ibm9uZSIgc3Ryb2tlLXdpZHRoPSIxIiBmaWxsPSJub25lIiBmaWxsLXJ1bGU9ImV2ZW5vZGQiPgogICAgICAgIDxnIGlkPSJBcnRib2FyZCIgdHJhbnNmb3JtPSJ0cmFuc2xhdGUoLTEyMzUuMDAwMDAwLCAtNzkuMDAwMDAwKSI+CiAgICAgICAgICAgIDxnIGlkPSJHcm91cC0zIiB0cmFuc2Zvcm09InRyYW5zbGF0ZSgxMjM1LjAwMDAwMCwgNzkuMDAwMDAwKSI+CiAgICAgICAgICAgICAgICA8cG9seWdvbiBpZD0iUGF0aC0yMCIgZmlsbD0iIzAyNjVCNCIgcG9pbnRzPSIyLjM3NjIzNzYyIDgwIDM4LjA0NzY2NjcgODAgNTcuODIxNzgyMiA3My44MDU3NTkyIDU3LjgyMTc4MjIgMzIuNzU5MjczOSAzOS4xNDAyMjc4IDMxLjY4MzE2ODMiPjwvcG9seWdvbj4KICAgICAgICAgICAgICAgIDxwYXRoIGQ9Ik0zNS4wMDc3MTgsODAgQzQyLjkwNjIwMDcsNzYuNDU0OTM1OCA0Ny41NjQ5MTY3LDcxLjU0MjI2NzEgNDguOTgzODY2LDY1LjI2MTk5MzkgQzUxLjExMjI4OTksNTUuODQxNTg0MiA0MS42NzcxNzk1LDQ5LjIxMjIyODQgMjUuNjIzOTg0Niw0OS4yMTIyMjg0IEMyNS40ODQ5Mjg5LDQ5LjEyNjg0NDggMjkuODI2MTI5Niw0My4yODM4MjQ4IDM4LjY0NzU4NjksMzEuNjgzMTY4MyBMNzIuODcxMjg3MSwzMi41NTQ0MjUgTDY1LjI4MDk3Myw2Ny42NzYzNDIxIEw1MS4xMTIyODk5LDc3LjM3NjE0NCBMMzUuMDA3NzE4LDgwIFoiIGlkPSJQYXRoLTIyIiBmaWxsPSIjMDAyODY4Ij48L3BhdGg+CiAgICAgICAgICAgICAgICA8cGF0aCBkPSJNMCwzNy43MzA0NDA1IEwyNy4xMTQ1MzcsMC4yNTcxMTE0MzYgQzYyLjM3MTUxMjMsLTEuOTkwNzE3MDEgODAsMTAuNTAwMzkyNyA4MCwzNy43MzA0NDA1IEM4MCw2NC45NjA0ODgyIDY0Ljc3NjUwMzgsNzkuMDUwMzQxNCAzNC4zMjk1MTEzLDgwIEM0Ny4wNTUzNDg5LDc3LjU2NzA4MDggNTMuNDE4MjY3Nyw3MC4zMTM2MTAzIDUzLjQxODI2NzcsNTguMjM5NTg4NSBDNTMuNDE4MjY3Nyw0MC4xMjg1NTU3IDM2LjMwMzk1NDQsMzcuNzMwNDQwNSAyNS4yMjc0MTcsMzcuNzMwNDQwNSBDMTcuODQzMDU4NiwzNy43MzA0NDA1IDkuNDMzOTE5NjYsMzcuNzMwNDQwNSAwLDM3LjczMDQ0MDUgWiIgaWQ9IlBhdGgtMTkiIGZpbGw9IiMzNzkzRUYiPjwvcGF0aD4KICAgICAgICAgICAgPC9nPgogICAgICAgIDwvZz4KICAgIDwvZz4KPC9zdmc+' > </img>\nCreated in <span style='font-weight:600;margin-left:4px;'>Deepnote</span></a>",
   "metadata": {
    "tags": [],
    "created_in_deepnote_cell": true,
    "deepnote_cell_type": "markdown"
   }
  }
 ],
 "nbformat": 4,
 "nbformat_minor": 5,
 "metadata": {
  "kernelspec": {
   "display_name": "Python 3 (ipykernel)",
   "language": "python",
   "name": "python3"
  },
  "language_info": {
   "codemirror_mode": {
    "name": "ipython",
    "version": 3
   },
   "file_extension": ".py",
   "mimetype": "text/x-python",
   "name": "python",
   "nbconvert_exporter": "python",
   "pygments_lexer": "ipython3",
   "version": "3.9.7"
  },
  "deepnote_notebook_id": "052f2443-8c1c-4ded-a346-9246ba978d58",
  "deepnote": {},
  "deepnote_execution_queue": []
 }
}